{
 "cells": [
  {
   "cell_type": "code",
   "execution_count": 1,
   "outputs": [
    {
     "data": {
      "text/plain": "0.5"
     },
     "execution_count": 1,
     "metadata": {},
     "output_type": "execute_result"
    }
   ],
   "source": [
    "import numpy as np\n",
    "from sklearn.metrics import ndcg_score\n",
    "# we have groud-truth relevance of some answers to a query:\n",
    "true_relevance = np.asarray([[10, 0, 0, 1, 5]])\n",
    "# we predict some scores (relevance) for the answers\n",
    "scores = np.asarray([[.1, .2, .3, 4, 70]])\n",
    "ndcg_score(true_relevance, scores)\n",
    "0.69\n",
    "scores = np.asarray([[.05, 1.1, 1., .5, .0]])\n",
    "ndcg_score(true_relevance, scores)\n",
    "0.49\n",
    "# we can set k to truncate the sum; only top k answers contribute.\n",
    "ndcg_score(true_relevance, scores, k=4)\n",
    "0.35\n",
    "# the normalization takes k into account so a perfect answer\n",
    "# would still get 1.0\n",
    "ndcg_score(true_relevance, true_relevance, k=4)\n",
    "1.0\n",
    "# now we have some ties in our prediction\n",
    "scores = np.asarray([[1, 0, 0, 0, 1]])\n",
    "# by default ties are averaged, so here we get the average (normalized)\n",
    "# true relevance of our top predictions: (10 / 10 + 5 / 10) / 2 = .75\n",
    "ndcg_score(true_relevance, scores, k=1)\n",
    "0.75\n",
    "# we can choose to ignore ties for faster results, but only\n",
    "# if we know there aren't ties in our scores, otherwise we get\n",
    "# wrong results:\n",
    "ndcg_score(true_relevance,\n",
    "           scores, k=1, ignore_ties=True)\n",
    "0.5"
   ],
   "metadata": {
    "collapsed": false,
    "pycharm": {
     "name": "#%%\n"
    }
   }
  },
  {
   "cell_type": "code",
   "execution_count": null,
   "outputs": [],
   "source": [],
   "metadata": {
    "collapsed": false,
    "pycharm": {
     "name": "#%%\n"
    }
   }
  },
  {
   "cell_type": "code",
   "execution_count": null,
   "outputs": [],
   "source": [],
   "metadata": {
    "collapsed": false,
    "pycharm": {
     "name": "#%%\n"
    }
   }
  }
 ],
 "metadata": {
  "kernelspec": {
   "display_name": "Python 3",
   "language": "python",
   "name": "python3"
  },
  "language_info": {
   "codemirror_mode": {
    "name": "ipython",
    "version": 2
   },
   "file_extension": ".py",
   "mimetype": "text/x-python",
   "name": "python",
   "nbconvert_exporter": "python",
   "pygments_lexer": "ipython2",
   "version": "2.7.6"
  }
 },
 "nbformat": 4,
 "nbformat_minor": 0
}