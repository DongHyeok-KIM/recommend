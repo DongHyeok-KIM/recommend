{
 "cells": [
  {
   "cell_type": "code",
   "execution_count": 22,
   "outputs": [],
   "source": [
    "import os\n",
    "import pandas as pd\n",
    "\n",
    "import numpy as np\n",
    "from sklearn.model_selection import train_test_split\n",
    "# https://drive.google.com/drive/folders/19gkcIYjA3EjoNrMp9mn8KnZutKoPYLmg"
   ],
   "metadata": {
    "collapsed": false,
    "pycharm": {
     "name": "#%%\n"
    }
   }
  },
  {
   "cell_type": "code",
   "execution_count": 23,
   "metadata": {
    "collapsed": true
   },
   "outputs": [],
   "source": [
    "base_src = './movie_data/'\n",
    "u_user_src = os.path.join(base_src,'u.user')\n",
    "u_cols = ['user_id','age','sex','occupation','zip_code']\n",
    "users = pd.read_csv(u_user_src,\n",
    "                    sep = '|', names = u_cols, encoding= 'latin-1')\n",
    "users = users.set_index('user_id')"
   ]
  },
  {
   "cell_type": "code",
   "execution_count": 24,
   "outputs": [],
   "source": [
    "u_item_src = os.path.join(base_src, 'u.item')\n",
    "i_cols = ['movie_id','title','release date','video release date','IMDB URL','unknown','Action','Adventure','Animation','Childrens', 'Comedy','Crime','Documentary','Drama','Fantasy','Film-Noir','Horror','Musical','Mystery','Romance','Sci-Fi','Thriller','War','Western']\n",
    "movies=pd.read_csv(u_item_src, sep='|',names =i_cols,\n",
    "                   encoding= 'latin-1')\n",
    "movies = movies.set_index('movie_id')"
   ],
   "metadata": {
    "collapsed": false,
    "pycharm": {
     "name": "#%%\n"
    }
   }
  },
  {
   "cell_type": "code",
   "execution_count": 25,
   "outputs": [],
   "source": [
    "u_data_src = os.path.join(base_src,'u.data')\n",
    "r_cols = ['user_id','movie_id','rating','timestamp']\n",
    "ratings = pd.read_csv(u_data_src, sep='\\t', names = r_cols, encoding = 'latin-1')"
   ],
   "metadata": {
    "collapsed": false,
    "pycharm": {
     "name": "#%%\n"
    }
   }
  },
  {
   "cell_type": "code",
   "execution_count": 26,
   "outputs": [],
   "source": [
    "def RMSE(y_true, y_pred):\n",
    "    return np.sqrt(np.mean((np.array(y_true) - np.array(y_pred))**2))\n",
    "# 유사집단의 크기를 미리 정하기 위해서 기존 score 함수에 neighbor_size 인자값 추가\n",
    "def score(model,neighbor_size=0):\n",
    "    # 테스트 데이터의 user_id와 movie_id 간 pair를 맞춰 튜플형원소 리스트데이터를 만듬\n",
    "    id_pairs = zip(x_test['user_id'],x_test['movie_id'])\n",
    "    # 모든 사용자-영화 짝에 대해서 주어진 예측모델에 의해 예측값 계산 및 리스트형 데이터 생성\n",
    "    y_pred = np.array([model(user,movie,neighbor_size) for (user,movie) in id_pairs])\n",
    "    # 실제 평점값\n",
    "    y_true = np.array(x_test['rating'])\n",
    "    return RMSE(y_true, y_pred)"
   ],
   "metadata": {
    "collapsed": false,
    "pycharm": {
     "name": "#%%\n"
    }
   }
  },
  {
   "cell_type": "code",
   "execution_count": 27,
   "outputs": [],
   "source": [
    "x = ratings.copy()\n",
    "y = ratings['user_id']\n",
    "\n",
    "x_train, x_test, y_train, y_test = train_test_split(x,y, test_size = 0.25, stratify = y)\n",
    "ratings_matrix = x_train.pivot(index = 'user_id', columns = 'movie_id',values = 'rating')"
   ],
   "metadata": {
    "collapsed": false,
    "pycharm": {
     "name": "#%%\n"
    }
   }
  },
  {
   "cell_type": "code",
   "execution_count": 38,
   "outputs": [],
   "source": [
    "from sklearn.metrics.pairwise import cosine_similarity\n",
    "matrix_dummy = ratings_matrix.copy().fillna(0)\n",
    "user_similarity = cosine_similarity(matrix_dummy,matrix_dummy)\n",
    "user_similarity = pd.DataFrame(user_similarity,\n",
    "                               index=ratings_matrix.index, columns=ratings_matrix.index)\n",
    "def CF_simple(user_id, movie_id,neighbor_size=None):\n",
    "    if movie_id in ratings_matrix.columns:\n",
    "        sim_scores = user_similarity[user_id].copy()\n",
    "        movie_ratings = ratings_matrix[movie_id].copy()\n",
    "        none_rating_idx = movie_ratings[movie_ratings.isnull()].index\n",
    "        movie_ratings = movie_ratings.dropna()\n",
    "        sim_scores = sim_scores.drop(none_rating_idx)\n",
    "        mean_rating = np.dot(sim_scores, movie_ratings) / sim_scores.sum()\n",
    "    else:\n",
    "        mean_rating = 3.0\n",
    "    return mean_rating\n",
    "def CF_knn(user_id, movie_id, neighbor_size=0):\n",
    "    if movie_id in ratings_matrix.columns:\n",
    "        sim_scores = user_similarity[user_id].copy()\n",
    "        movie_ratings = ratings_matrix[movie_id].copy()\n",
    "        none_rating_idx = movie_ratings[movie_ratings.isnull()].index\n",
    "        movie_ratings = movie_ratings.dropna()\n",
    "        sim_scores = sim_scores.drop(none_rating_idx)\n",
    "        if neighbor_size == 0:\n",
    "            mean_rating = np.dot(sim_scores, movie_ratings) / sim_scores.sum()\n",
    "        else:\n",
    "            if len(sim_scores) > 1:\n",
    "                sim_scores = np.array(sim_scores)\n",
    "                movie_ratings = np.array(movie_ratings)\n",
    "                user_idx = np.argsort(sim_scores)\n",
    "                sim_scores = sim_scores[user_idx][-neighbor_size:]\n",
    "                movie_ratings = movie_ratings[user_idx][-neighbor_size:]\n",
    "                mean_rating  = np.dot(sim_scores, movie_ratings) / sim_scores.sum()\n",
    "            else:\n",
    "                mean_rating = 3.0\n",
    "    else:\n",
    "        mean_rating = 3.0\n",
    "    return mean_rating\n",
    "def recommend_movie(user_id, n_items, neighbor_size=30):\n",
    "    user_movie = ratings_matrix.loc[user_id].copy()\n",
    "    for movie in ratings_matrix.columns:\n",
    "        if pd.notnull(user_movie.loc[movie]):\n",
    "            user_movie.loc[movie] = 0\n",
    "        else:\n",
    "            user_movie.loc[movie] = CF_knn(user_id,movie, neighbor_size)\n",
    "    movie_sort = user_movie.sort_values(ascending =False)[:n_items]\n",
    "    recom_movies = movies.loc[movie_sort.index]\n",
    "    recommendations = recom_movies['title']\n",
    "    return recommendations"
   ],
   "metadata": {
    "collapsed": false,
    "pycharm": {
     "name": "#%%\n"
    }
   }
  },
  {
   "cell_type": "code",
   "execution_count": 34,
   "outputs": [
    {
     "data": {
      "text/plain": "1.0284846111834214"
     },
     "execution_count": 34,
     "metadata": {},
     "output_type": "execute_result"
    }
   ],
   "source": [
    "score(CF_simple)"
   ],
   "metadata": {
    "collapsed": false,
    "pycharm": {
     "name": "#%%\n"
    }
   }
  },
  {
   "cell_type": "code",
   "execution_count": 35,
   "outputs": [
    {
     "data": {
      "text/plain": "1.0336276044711281"
     },
     "execution_count": 35,
     "metadata": {},
     "output_type": "execute_result"
    }
   ],
   "source": [
    "score(CF_knn, neighbor_size=10)"
   ],
   "metadata": {
    "collapsed": false,
    "pycharm": {
     "name": "#%%\n"
    }
   }
  },
  {
   "cell_type": "code",
   "execution_count": 39,
   "outputs": [],
   "source": [
    "ratings_matrix = ratings.pivot(index='user_id', columns='movie_id', values='rating')\n",
    "\n",
    "matrix_dummy = ratings_matrix.copy().fillna(0)\n",
    "user_similarity = cosine_similarity(matrix_dummy, matrix_dummy)\n",
    "user_similarity = pd.DataFrame(user_similarity,\n",
    "                               index=ratings_matrix.index, columns=ratings_matrix.index)"
   ],
   "metadata": {
    "collapsed": false,
    "pycharm": {
     "name": "#%%\n"
    }
   }
  },
  {
   "cell_type": "code",
   "execution_count": 42,
   "outputs": [
    {
     "data": {
      "text/plain": "movie_id\n1189                      Prefontaine (1997)\n1293                         Star Kid (1997)\n1467    Saint of Fort Washington, The (1993)\n1500               Santa with Muscles (1996)\n22                         Braveheart (1995)\nName: title, dtype: object"
     },
     "execution_count": 42,
     "metadata": {},
     "output_type": "execute_result"
    }
   ],
   "source": [
    "recommend_movie(user_id = 729, n_items=5, neighbor_size=30)"
   ],
   "metadata": {
    "collapsed": false,
    "pycharm": {
     "name": "#%%\n"
    }
   }
  },
  {
   "cell_type": "code",
   "execution_count": 43,
   "outputs": [
    {
     "ename": "NameError",
     "evalue": "name 'rating_matrix' is not defined",
     "output_type": "error",
     "traceback": [
      "\u001B[0;31m---------------------------------------------------------------------------\u001B[0m",
      "\u001B[0;31mNameError\u001B[0m                                 Traceback (most recent call last)",
      "Cell \u001B[0;32mIn[43], line 3\u001B[0m\n\u001B[1;32m      1\u001B[0m \u001B[38;5;66;03m# 사용자 평가 경향을 고려한 함수 #\u001B[39;00m\n\u001B[1;32m      2\u001B[0m \u001B[38;5;66;03m# full matrix 에서 사용자의 평점 평균을 구한다.\u001B[39;00m\n\u001B[0;32m----> 3\u001B[0m rating_mean \u001B[38;5;241m=\u001B[39m \u001B[43mrating_matrix\u001B[49m\u001B[38;5;241m.\u001B[39mmean(axis\u001B[38;5;241m=\u001B[39m\u001B[38;5;241m1\u001B[39m)\n\u001B[1;32m      4\u001B[0m \u001B[38;5;66;03m# 영화 평점과 각 사용자의평균과의 차이 (평점편차)를 구한다.\u001B[39;00m\n\u001B[1;32m      5\u001B[0m rating_bias \u001B[38;5;241m=\u001B[39m (rating_matrix\u001B[38;5;241m.\u001B[39mT \u001B[38;5;241m-\u001B[39m rating_mean)\u001B[38;5;241m.\u001B[39mT\n",
      "\u001B[0;31mNameError\u001B[0m: name 'rating_matrix' is not defined"
     ]
    }
   ],
   "source": [
    "# 사용자 평가 경향을 고려한 함수 #\n",
    "# full matrix 에서 사용자의 평점 평균을 구한다.\n",
    "rating_mean = ratings_matrix.mean(axis=1)\n",
    "# 영화 평점과 각 사용자의평균과의 차이 (평점편차)를 구한다.\n",
    "rating_bias = (ratings_matrix.T - rating_mean).T\n",
    "# 사용자 평가 경향을 고려한 함수\n",
    "def CF_knn_bias(user_id, movie_id, neighbor_size=0):\n",
    "    if movie_id in rating_bias.columns:\n",
    "        sim_scores = user_similarity[user_id].copy()\n",
    "        movie_ratings = rating_bias[movie_id].copy()\n",
    "        none_rating_idx = movie_ratings[movie_ratings.isnull()].index\n",
    "        movie_ratings = movie_ratings.drop(none_rating_idx) # CF_knn에서는 dropna() 사용했었음\n",
    "        sim_scores = sim_scores.drop(none_rating_idx)\n",
    "        if neighbor_size==0:\n",
    "            prediction = np.dot(sim_scores, movie_ratings) / sim_scores.sum()\n",
    "            prediction = prediction + rating_mean[user_id]\n",
    "        else:\n",
    "            if len(sim_scores) > 1:\n",
    "                neighbor_size = min(neighbor_size, len(sim_scores))\n",
    "                sim_scores = np.array(sim_scores)\n",
    "                movie_ratings = np.array(movie_ratings)\n",
    "                user_idx = np.argsort(sim_scores)\n",
    "                sim_scores = sim_scores[user_idx][-neighbor_size:]\n",
    "                movie_ratings = movie_ratings[user_idx][-neighbor_size:]\n",
    "                prediction = np.dot(sim_scores, movie_ratings) / sim_scores.sum()\n",
    "                prediction = prediction + rating_mean[user_id]\n",
    "            else:\n",
    "                prediction = rating_mean[user_id]\n",
    "    else:\n",
    "        prediction = rating_mean[user_id]\n",
    "    return prediction\n",
    "\n",
    "score(CF_knn_bias, 30)"
   ],
   "metadata": {
    "collapsed": false,
    "pycharm": {
     "name": "#%%\n"
    }
   }
  },
  {
   "cell_type": "code",
   "execution_count": 44,
   "outputs": [],
   "source": [
    "rating_matrix_t = np.transpose(ratings_matrix)\n",
    "matrix_dummy = rating_matrix_t.copy().fillna(0)\n",
    "item_similarity = cosine_similarity(matrix_dummy, matrix_dummy)\n",
    "item_similarity = pd.DataFrame(item_similarity, index = rating_matrix_t.index, columns =rating_matrix_t.index )"
   ],
   "metadata": {
    "collapsed": false,
    "pycharm": {
     "name": "#%%\n"
    }
   }
  },
  {
   "cell_type": "code",
   "execution_count": 46,
   "outputs": [
    {
     "ename": "TypeError",
     "evalue": "CF_IBCF() takes 2 positional arguments but 3 were given",
     "output_type": "error",
     "traceback": [
      "\u001B[0;31m---------------------------------------------------------------------------\u001B[0m",
      "\u001B[0;31mTypeError\u001B[0m                                 Traceback (most recent call last)",
      "Cell \u001B[0;32mIn[46], line 12\u001B[0m\n\u001B[1;32m     10\u001B[0m         mean_rating \u001B[38;5;241m=\u001B[39m \u001B[38;5;241m3.0\u001B[39m\n\u001B[1;32m     11\u001B[0m     \u001B[38;5;28;01mreturn\u001B[39;00m mean_rating\n\u001B[0;32m---> 12\u001B[0m \u001B[43mscore\u001B[49m\u001B[43m(\u001B[49m\u001B[43mCF_IBCF\u001B[49m\u001B[43m)\u001B[49m\n",
      "Cell \u001B[0;32mIn[26], line 8\u001B[0m, in \u001B[0;36mscore\u001B[0;34m(model, neighbor_size)\u001B[0m\n\u001B[1;32m      6\u001B[0m id_pairs \u001B[38;5;241m=\u001B[39m \u001B[38;5;28mzip\u001B[39m(x_test[\u001B[38;5;124m'\u001B[39m\u001B[38;5;124muser_id\u001B[39m\u001B[38;5;124m'\u001B[39m],x_test[\u001B[38;5;124m'\u001B[39m\u001B[38;5;124mmovie_id\u001B[39m\u001B[38;5;124m'\u001B[39m])\n\u001B[1;32m      7\u001B[0m \u001B[38;5;66;03m# 모든 사용자-영화 짝에 대해서 주어진 예측모델에 의해 예측값 계산 및 리스트형 데이터 생성\u001B[39;00m\n\u001B[0;32m----> 8\u001B[0m y_pred \u001B[38;5;241m=\u001B[39m np\u001B[38;5;241m.\u001B[39marray([model(user,movie,neighbor_size) \u001B[38;5;28;01mfor\u001B[39;00m (user,movie) \u001B[38;5;129;01min\u001B[39;00m id_pairs])\n\u001B[1;32m      9\u001B[0m \u001B[38;5;66;03m# 실제 평점값\u001B[39;00m\n\u001B[1;32m     10\u001B[0m y_true \u001B[38;5;241m=\u001B[39m np\u001B[38;5;241m.\u001B[39marray(x_test[\u001B[38;5;124m'\u001B[39m\u001B[38;5;124mrating\u001B[39m\u001B[38;5;124m'\u001B[39m])\n",
      "Cell \u001B[0;32mIn[26], line 8\u001B[0m, in \u001B[0;36m<listcomp>\u001B[0;34m(.0)\u001B[0m\n\u001B[1;32m      6\u001B[0m id_pairs \u001B[38;5;241m=\u001B[39m \u001B[38;5;28mzip\u001B[39m(x_test[\u001B[38;5;124m'\u001B[39m\u001B[38;5;124muser_id\u001B[39m\u001B[38;5;124m'\u001B[39m],x_test[\u001B[38;5;124m'\u001B[39m\u001B[38;5;124mmovie_id\u001B[39m\u001B[38;5;124m'\u001B[39m])\n\u001B[1;32m      7\u001B[0m \u001B[38;5;66;03m# 모든 사용자-영화 짝에 대해서 주어진 예측모델에 의해 예측값 계산 및 리스트형 데이터 생성\u001B[39;00m\n\u001B[0;32m----> 8\u001B[0m y_pred \u001B[38;5;241m=\u001B[39m np\u001B[38;5;241m.\u001B[39marray([\u001B[43mmodel\u001B[49m\u001B[43m(\u001B[49m\u001B[43muser\u001B[49m\u001B[43m,\u001B[49m\u001B[43mmovie\u001B[49m\u001B[43m,\u001B[49m\u001B[43mneighbor_size\u001B[49m\u001B[43m)\u001B[49m \u001B[38;5;28;01mfor\u001B[39;00m (user,movie) \u001B[38;5;129;01min\u001B[39;00m id_pairs])\n\u001B[1;32m      9\u001B[0m \u001B[38;5;66;03m# 실제 평점값\u001B[39;00m\n\u001B[1;32m     10\u001B[0m y_true \u001B[38;5;241m=\u001B[39m np\u001B[38;5;241m.\u001B[39marray(x_test[\u001B[38;5;124m'\u001B[39m\u001B[38;5;124mrating\u001B[39m\u001B[38;5;124m'\u001B[39m])\n",
      "\u001B[0;31mTypeError\u001B[0m: CF_IBCF() takes 2 positional arguments but 3 were given"
     ]
    }
   ],
   "source": [
    "def CF_IBCF(user_id, movie_id):\n",
    "    if movie_id in item_similarity.columns:\n",
    "        sim_scores = item_similarity[movie_id]\n",
    "        user_rating = rating_matrix_t[user_id]\n",
    "        none_rating_idx = user_rating[user_rating.isnull()].index\n",
    "        user_rating = user_rating.dropna()\n",
    "        sim_scores = sim_scores.drop(none_rating_idx)\n",
    "        mean_rating = np.dot(sim_scores, user_rating) / sim_scores.sum()\n",
    "    else:\n",
    "        mean_rating = 3.0\n",
    "    return mean_rating\n",
    "score(CF_IBCF)"
   ],
   "metadata": {
    "collapsed": false,
    "pycharm": {
     "name": "#%%\n"
    }
   }
  },
  {
   "cell_type": "code",
   "execution_count": null,
   "outputs": [],
   "source": [],
   "metadata": {
    "collapsed": false,
    "pycharm": {
     "name": "#%%\n"
    }
   }
  }
 ],
 "metadata": {
  "kernelspec": {
   "display_name": "Python 3",
   "language": "python",
   "name": "python3"
  },
  "language_info": {
   "codemirror_mode": {
    "name": "ipython",
    "version": 2
   },
   "file_extension": ".py",
   "mimetype": "text/x-python",
   "name": "python",
   "nbconvert_exporter": "python",
   "pygments_lexer": "ipython2",
   "version": "2.7.6"
  }
 },
 "nbformat": 4,
 "nbformat_minor": 0
}