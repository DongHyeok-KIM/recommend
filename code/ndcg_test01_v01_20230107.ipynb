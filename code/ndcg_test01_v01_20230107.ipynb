{
 "cells": [
  {
   "cell_type": "code",
   "execution_count": null,
   "outputs": [],
   "source": [
    "import numpy as np"
   ],
   "metadata": {
    "collapsed": false,
    "pycharm": {
     "name": "#%%\n"
    }
   }
  },
  {
   "cell_type": "markdown",
   "source": [
    "헷갈렸지만,\n",
    "추천시스템으로 예측한 p개를 relevance 기준으로 나열한 게 아니라\n",
    "**groud truth에서 relevance 기준으로 나열 후 p개 뽑은 것**\n",
    "\n",
    "예를 들어,\n",
    "rec_sys_1 = {A, E, C, D, F} → rel은 {3, 1, 2, 2, 1}\n",
    "rec_sys_2 = {A, B, C, G, E} → rel은 {3, 3, 2, 0, 1}\n",
    "각 item의 관련도: A=3, B=3, C=2, D=2, E=1, F=1, G=0, 나머지=0\n",
    "\n",
    "ideal gain vector = {**3, 3, 2, 2, 1**, 1, 0, 0, ...}\n",
    "IDCG@5는 5번째까지 잘라서 DCG 구한 것"
   ],
   "metadata": {
    "collapsed": false,
    "pycharm": {
     "name": "#%% md\n"
    }
   }
  },
  {
   "cell_type": "code",
   "execution_count": null,
   "metadata": {
    "collapsed": true
   },
   "outputs": [],
   "source": [
    "# gt: key는 playlist id, value는 song list인 answer dic\n",
    "# rec: key는 playlist id, value는 song list인 rec dic\n",
    "# one_gt는 gt item 하나, one_rec는 rec item 하나\n",
    "# score는 모든 플레이리스트 nDCG의 평균\n",
    "# 100개 추천으로, idcg 구할때도 len(gt)이되 len(gt)>100인 경우 len(gt)=100으로 두고 계산\n",
    "\n",
    "def ndcg(one_gt, one_rec):\n",
    "  dcg = 0.0\n",
    "\n",
    "  if len(one_gt) >= 100:\n",
    "    idcg = sum((1.0/np.log(i+1) for i in range(1, 101)))\n",
    "\n",
    "  else:\n",
    "    idcg = sum((1.0/np.log(i+1) for i in range(1, len(one_gt)+1)))\n",
    "\n",
    "  for i, r in enumerate(one_rec):\n",
    "    if r in one_gt:\n",
    "      dcg += 1.0/np.log(i+2)\n",
    "\n",
    "  return dcg/idcg\n",
    "\n",
    "## score = 모든 playlist의 ndcg를 평균한 값\n",
    "score = sum(ndcg(gt[i], rec[i]) for i in rec.keys())/len(rec)"
   ]
  }
 ],
 "metadata": {
  "kernelspec": {
   "display_name": "Python 3",
   "language": "python",
   "name": "python3"
  },
  "language_info": {
   "codemirror_mode": {
    "name": "ipython",
    "version": 2
   },
   "file_extension": ".py",
   "mimetype": "text/x-python",
   "name": "python",
   "nbconvert_exporter": "python",
   "pygments_lexer": "ipython2",
   "version": "2.7.6"
  }
 },
 "nbformat": 4,
 "nbformat_minor": 0
}