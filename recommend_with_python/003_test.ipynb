{
 "cells": [
  {
   "cell_type": "code",
   "execution_count": 1,
   "metadata": {
    "collapsed": true
   },
   "outputs": [],
   "source": [
    "import pandas as pd\n",
    "import numpy as np\n",
    "import matplotlib.pyplot as plt\n",
    "import seaborn as sns\n",
    "from ast import literal_eval\n",
    "from sklearn.feature_extraction.text import TfidfVectorizer\n",
    "from sklearn.feature_extraction.text import CountVectorizer\n",
    "from sklearn.metrics.pairwise import cosine_similarity"
   ]
  },
  {
   "cell_type": "code",
   "execution_count": 2,
   "outputs": [
    {
     "data": {
      "text/plain": "   userId  movieId  rating   timestamp\n0       1       31     2.5  1260759144\n1       1     1029     3.0  1260759179\n2       1     1061     3.0  1260759182\n3       1     1129     2.0  1260759185\n4       1     1172     4.0  1260759205",
      "text/html": "<div>\n<style scoped>\n    .dataframe tbody tr th:only-of-type {\n        vertical-align: middle;\n    }\n\n    .dataframe tbody tr th {\n        vertical-align: top;\n    }\n\n    .dataframe thead th {\n        text-align: right;\n    }\n</style>\n<table border=\"1\" class=\"dataframe\">\n  <thead>\n    <tr style=\"text-align: right;\">\n      <th></th>\n      <th>userId</th>\n      <th>movieId</th>\n      <th>rating</th>\n      <th>timestamp</th>\n    </tr>\n  </thead>\n  <tbody>\n    <tr>\n      <th>0</th>\n      <td>1</td>\n      <td>31</td>\n      <td>2.5</td>\n      <td>1260759144</td>\n    </tr>\n    <tr>\n      <th>1</th>\n      <td>1</td>\n      <td>1029</td>\n      <td>3.0</td>\n      <td>1260759179</td>\n    </tr>\n    <tr>\n      <th>2</th>\n      <td>1</td>\n      <td>1061</td>\n      <td>3.0</td>\n      <td>1260759182</td>\n    </tr>\n    <tr>\n      <th>3</th>\n      <td>1</td>\n      <td>1129</td>\n      <td>2.0</td>\n      <td>1260759185</td>\n    </tr>\n    <tr>\n      <th>4</th>\n      <td>1</td>\n      <td>1172</td>\n      <td>4.0</td>\n      <td>1260759205</td>\n    </tr>\n  </tbody>\n</table>\n</div>"
     },
     "execution_count": 2,
     "metadata": {},
     "output_type": "execute_result"
    }
   ],
   "source": [
    "data = pd.read_csv('./movie_data/ratings_small.csv')\n",
    "data.head()"
   ],
   "metadata": {
    "collapsed": false,
    "pycharm": {
     "name": "#%%\n"
    }
   }
  },
  {
   "cell_type": "code",
   "execution_count": 3,
   "outputs": [
    {
     "data": {
      "text/plain": "(100004, 4)"
     },
     "execution_count": 3,
     "metadata": {},
     "output_type": "execute_result"
    }
   ],
   "source": [
    "data.shape"
   ],
   "metadata": {
    "collapsed": false,
    "pycharm": {
     "name": "#%%\n"
    }
   }
  },
  {
   "cell_type": "code",
   "execution_count": 5,
   "outputs": [
    {
     "name": "stdout",
     "output_type": "stream",
     "text": [
      "['userId', 'movieId', 'rating', 'timestamp']\n"
     ]
    }
   ],
   "source": [
    "print(list(data.columns))"
   ],
   "metadata": {
    "collapsed": false,
    "pycharm": {
     "name": "#%%\n"
    }
   }
  },
  {
   "cell_type": "code",
   "execution_count": 6,
   "outputs": [],
   "source": [
    "data = data.pivot_table('rating', index = 'userId',columns= 'movieId')"
   ],
   "metadata": {
    "collapsed": false,
    "pycharm": {
     "name": "#%%\n"
    }
   }
  },
  {
   "cell_type": "code",
   "execution_count": 7,
   "outputs": [
    {
     "data": {
      "text/plain": "movieId  1       2       3       4       5       6       7       8       \\\nuserId                                                                    \n1           NaN     NaN     NaN     NaN     NaN     NaN     NaN     NaN   \n2           NaN     NaN     NaN     NaN     NaN     NaN     NaN     NaN   \n3           NaN     NaN     NaN     NaN     NaN     NaN     NaN     NaN   \n4           NaN     NaN     NaN     NaN     NaN     NaN     NaN     NaN   \n5           NaN     NaN     4.0     NaN     NaN     NaN     NaN     NaN   \n...         ...     ...     ...     ...     ...     ...     ...     ...   \n667         NaN     NaN     NaN     NaN     NaN     4.0     NaN     NaN   \n668         NaN     NaN     NaN     NaN     NaN     NaN     NaN     NaN   \n669         NaN     NaN     NaN     NaN     NaN     NaN     NaN     NaN   \n670         4.0     NaN     NaN     NaN     NaN     NaN     NaN     NaN   \n671         5.0     NaN     NaN     NaN     NaN     NaN     NaN     NaN   \n\nmovieId  9       10      ...  161084  161155  161594  161830  161918  161944  \\\nuserId                   ...                                                   \n1           NaN     NaN  ...     NaN     NaN     NaN     NaN     NaN     NaN   \n2           NaN     4.0  ...     NaN     NaN     NaN     NaN     NaN     NaN   \n3           NaN     NaN  ...     NaN     NaN     NaN     NaN     NaN     NaN   \n4           NaN     4.0  ...     NaN     NaN     NaN     NaN     NaN     NaN   \n5           NaN     NaN  ...     NaN     NaN     NaN     NaN     NaN     NaN   \n...         ...     ...  ...     ...     ...     ...     ...     ...     ...   \n667         NaN     NaN  ...     NaN     NaN     NaN     NaN     NaN     NaN   \n668         NaN     NaN  ...     NaN     NaN     NaN     NaN     NaN     NaN   \n669         NaN     NaN  ...     NaN     NaN     NaN     NaN     NaN     NaN   \n670         NaN     NaN  ...     NaN     NaN     NaN     NaN     NaN     NaN   \n671         NaN     NaN  ...     NaN     NaN     NaN     NaN     NaN     NaN   \n\nmovieId  162376  162542  162672  163949  \nuserId                                   \n1           NaN     NaN     NaN     NaN  \n2           NaN     NaN     NaN     NaN  \n3           NaN     NaN     NaN     NaN  \n4           NaN     NaN     NaN     NaN  \n5           NaN     NaN     NaN     NaN  \n...         ...     ...     ...     ...  \n667         NaN     NaN     NaN     NaN  \n668         NaN     NaN     NaN     NaN  \n669         NaN     NaN     NaN     NaN  \n670         NaN     NaN     NaN     NaN  \n671         NaN     NaN     NaN     NaN  \n\n[671 rows x 9066 columns]",
      "text/html": "<div>\n<style scoped>\n    .dataframe tbody tr th:only-of-type {\n        vertical-align: middle;\n    }\n\n    .dataframe tbody tr th {\n        vertical-align: top;\n    }\n\n    .dataframe thead th {\n        text-align: right;\n    }\n</style>\n<table border=\"1\" class=\"dataframe\">\n  <thead>\n    <tr style=\"text-align: right;\">\n      <th>movieId</th>\n      <th>1</th>\n      <th>2</th>\n      <th>3</th>\n      <th>4</th>\n      <th>5</th>\n      <th>6</th>\n      <th>7</th>\n      <th>8</th>\n      <th>9</th>\n      <th>10</th>\n      <th>...</th>\n      <th>161084</th>\n      <th>161155</th>\n      <th>161594</th>\n      <th>161830</th>\n      <th>161918</th>\n      <th>161944</th>\n      <th>162376</th>\n      <th>162542</th>\n      <th>162672</th>\n      <th>163949</th>\n    </tr>\n    <tr>\n      <th>userId</th>\n      <th></th>\n      <th></th>\n      <th></th>\n      <th></th>\n      <th></th>\n      <th></th>\n      <th></th>\n      <th></th>\n      <th></th>\n      <th></th>\n      <th></th>\n      <th></th>\n      <th></th>\n      <th></th>\n      <th></th>\n      <th></th>\n      <th></th>\n      <th></th>\n      <th></th>\n      <th></th>\n      <th></th>\n    </tr>\n  </thead>\n  <tbody>\n    <tr>\n      <th>1</th>\n      <td>NaN</td>\n      <td>NaN</td>\n      <td>NaN</td>\n      <td>NaN</td>\n      <td>NaN</td>\n      <td>NaN</td>\n      <td>NaN</td>\n      <td>NaN</td>\n      <td>NaN</td>\n      <td>NaN</td>\n      <td>...</td>\n      <td>NaN</td>\n      <td>NaN</td>\n      <td>NaN</td>\n      <td>NaN</td>\n      <td>NaN</td>\n      <td>NaN</td>\n      <td>NaN</td>\n      <td>NaN</td>\n      <td>NaN</td>\n      <td>NaN</td>\n    </tr>\n    <tr>\n      <th>2</th>\n      <td>NaN</td>\n      <td>NaN</td>\n      <td>NaN</td>\n      <td>NaN</td>\n      <td>NaN</td>\n      <td>NaN</td>\n      <td>NaN</td>\n      <td>NaN</td>\n      <td>NaN</td>\n      <td>4.0</td>\n      <td>...</td>\n      <td>NaN</td>\n      <td>NaN</td>\n      <td>NaN</td>\n      <td>NaN</td>\n      <td>NaN</td>\n      <td>NaN</td>\n      <td>NaN</td>\n      <td>NaN</td>\n      <td>NaN</td>\n      <td>NaN</td>\n    </tr>\n    <tr>\n      <th>3</th>\n      <td>NaN</td>\n      <td>NaN</td>\n      <td>NaN</td>\n      <td>NaN</td>\n      <td>NaN</td>\n      <td>NaN</td>\n      <td>NaN</td>\n      <td>NaN</td>\n      <td>NaN</td>\n      <td>NaN</td>\n      <td>...</td>\n      <td>NaN</td>\n      <td>NaN</td>\n      <td>NaN</td>\n      <td>NaN</td>\n      <td>NaN</td>\n      <td>NaN</td>\n      <td>NaN</td>\n      <td>NaN</td>\n      <td>NaN</td>\n      <td>NaN</td>\n    </tr>\n    <tr>\n      <th>4</th>\n      <td>NaN</td>\n      <td>NaN</td>\n      <td>NaN</td>\n      <td>NaN</td>\n      <td>NaN</td>\n      <td>NaN</td>\n      <td>NaN</td>\n      <td>NaN</td>\n      <td>NaN</td>\n      <td>4.0</td>\n      <td>...</td>\n      <td>NaN</td>\n      <td>NaN</td>\n      <td>NaN</td>\n      <td>NaN</td>\n      <td>NaN</td>\n      <td>NaN</td>\n      <td>NaN</td>\n      <td>NaN</td>\n      <td>NaN</td>\n      <td>NaN</td>\n    </tr>\n    <tr>\n      <th>5</th>\n      <td>NaN</td>\n      <td>NaN</td>\n      <td>4.0</td>\n      <td>NaN</td>\n      <td>NaN</td>\n      <td>NaN</td>\n      <td>NaN</td>\n      <td>NaN</td>\n      <td>NaN</td>\n      <td>NaN</td>\n      <td>...</td>\n      <td>NaN</td>\n      <td>NaN</td>\n      <td>NaN</td>\n      <td>NaN</td>\n      <td>NaN</td>\n      <td>NaN</td>\n      <td>NaN</td>\n      <td>NaN</td>\n      <td>NaN</td>\n      <td>NaN</td>\n    </tr>\n    <tr>\n      <th>...</th>\n      <td>...</td>\n      <td>...</td>\n      <td>...</td>\n      <td>...</td>\n      <td>...</td>\n      <td>...</td>\n      <td>...</td>\n      <td>...</td>\n      <td>...</td>\n      <td>...</td>\n      <td>...</td>\n      <td>...</td>\n      <td>...</td>\n      <td>...</td>\n      <td>...</td>\n      <td>...</td>\n      <td>...</td>\n      <td>...</td>\n      <td>...</td>\n      <td>...</td>\n      <td>...</td>\n    </tr>\n    <tr>\n      <th>667</th>\n      <td>NaN</td>\n      <td>NaN</td>\n      <td>NaN</td>\n      <td>NaN</td>\n      <td>NaN</td>\n      <td>4.0</td>\n      <td>NaN</td>\n      <td>NaN</td>\n      <td>NaN</td>\n      <td>NaN</td>\n      <td>...</td>\n      <td>NaN</td>\n      <td>NaN</td>\n      <td>NaN</td>\n      <td>NaN</td>\n      <td>NaN</td>\n      <td>NaN</td>\n      <td>NaN</td>\n      <td>NaN</td>\n      <td>NaN</td>\n      <td>NaN</td>\n    </tr>\n    <tr>\n      <th>668</th>\n      <td>NaN</td>\n      <td>NaN</td>\n      <td>NaN</td>\n      <td>NaN</td>\n      <td>NaN</td>\n      <td>NaN</td>\n      <td>NaN</td>\n      <td>NaN</td>\n      <td>NaN</td>\n      <td>NaN</td>\n      <td>...</td>\n      <td>NaN</td>\n      <td>NaN</td>\n      <td>NaN</td>\n      <td>NaN</td>\n      <td>NaN</td>\n      <td>NaN</td>\n      <td>NaN</td>\n      <td>NaN</td>\n      <td>NaN</td>\n      <td>NaN</td>\n    </tr>\n    <tr>\n      <th>669</th>\n      <td>NaN</td>\n      <td>NaN</td>\n      <td>NaN</td>\n      <td>NaN</td>\n      <td>NaN</td>\n      <td>NaN</td>\n      <td>NaN</td>\n      <td>NaN</td>\n      <td>NaN</td>\n      <td>NaN</td>\n      <td>...</td>\n      <td>NaN</td>\n      <td>NaN</td>\n      <td>NaN</td>\n      <td>NaN</td>\n      <td>NaN</td>\n      <td>NaN</td>\n      <td>NaN</td>\n      <td>NaN</td>\n      <td>NaN</td>\n      <td>NaN</td>\n    </tr>\n    <tr>\n      <th>670</th>\n      <td>4.0</td>\n      <td>NaN</td>\n      <td>NaN</td>\n      <td>NaN</td>\n      <td>NaN</td>\n      <td>NaN</td>\n      <td>NaN</td>\n      <td>NaN</td>\n      <td>NaN</td>\n      <td>NaN</td>\n      <td>...</td>\n      <td>NaN</td>\n      <td>NaN</td>\n      <td>NaN</td>\n      <td>NaN</td>\n      <td>NaN</td>\n      <td>NaN</td>\n      <td>NaN</td>\n      <td>NaN</td>\n      <td>NaN</td>\n      <td>NaN</td>\n    </tr>\n    <tr>\n      <th>671</th>\n      <td>5.0</td>\n      <td>NaN</td>\n      <td>NaN</td>\n      <td>NaN</td>\n      <td>NaN</td>\n      <td>NaN</td>\n      <td>NaN</td>\n      <td>NaN</td>\n      <td>NaN</td>\n      <td>NaN</td>\n      <td>...</td>\n      <td>NaN</td>\n      <td>NaN</td>\n      <td>NaN</td>\n      <td>NaN</td>\n      <td>NaN</td>\n      <td>NaN</td>\n      <td>NaN</td>\n      <td>NaN</td>\n      <td>NaN</td>\n      <td>NaN</td>\n    </tr>\n  </tbody>\n</table>\n<p>671 rows × 9066 columns</p>\n</div>"
     },
     "execution_count": 7,
     "metadata": {},
     "output_type": "execute_result"
    }
   ],
   "source": [
    "data"
   ],
   "metadata": {
    "collapsed": false,
    "pycharm": {
     "name": "#%%\n"
    }
   }
  },
  {
   "cell_type": "code",
   "execution_count": 8,
   "outputs": [],
   "source": [
    "ratings = pd.read_csv('./movie_data/ratings_small.csv')\n",
    "movies = pd.read_csv('./movie_data/tmdb_5000_movies.csv')"
   ],
   "metadata": {
    "collapsed": false,
    "pycharm": {
     "name": "#%%\n"
    }
   }
  },
  {
   "cell_type": "code",
   "execution_count": 9,
   "outputs": [
    {
     "data": {
      "text/plain": "        userId  movieId  rating   timestamp\n0            1       31     2.5  1260759144\n1            1     1029     3.0  1260759179\n2            1     1061     3.0  1260759182\n3            1     1129     2.0  1260759185\n4            1     1172     4.0  1260759205\n...        ...      ...     ...         ...\n99999      671     6268     2.5  1065579370\n100000     671     6269     4.0  1065149201\n100001     671     6365     4.0  1070940363\n100002     671     6385     2.5  1070979663\n100003     671     6565     3.5  1074784724\n\n[100004 rows x 4 columns]",
      "text/html": "<div>\n<style scoped>\n    .dataframe tbody tr th:only-of-type {\n        vertical-align: middle;\n    }\n\n    .dataframe tbody tr th {\n        vertical-align: top;\n    }\n\n    .dataframe thead th {\n        text-align: right;\n    }\n</style>\n<table border=\"1\" class=\"dataframe\">\n  <thead>\n    <tr style=\"text-align: right;\">\n      <th></th>\n      <th>userId</th>\n      <th>movieId</th>\n      <th>rating</th>\n      <th>timestamp</th>\n    </tr>\n  </thead>\n  <tbody>\n    <tr>\n      <th>0</th>\n      <td>1</td>\n      <td>31</td>\n      <td>2.5</td>\n      <td>1260759144</td>\n    </tr>\n    <tr>\n      <th>1</th>\n      <td>1</td>\n      <td>1029</td>\n      <td>3.0</td>\n      <td>1260759179</td>\n    </tr>\n    <tr>\n      <th>2</th>\n      <td>1</td>\n      <td>1061</td>\n      <td>3.0</td>\n      <td>1260759182</td>\n    </tr>\n    <tr>\n      <th>3</th>\n      <td>1</td>\n      <td>1129</td>\n      <td>2.0</td>\n      <td>1260759185</td>\n    </tr>\n    <tr>\n      <th>4</th>\n      <td>1</td>\n      <td>1172</td>\n      <td>4.0</td>\n      <td>1260759205</td>\n    </tr>\n    <tr>\n      <th>...</th>\n      <td>...</td>\n      <td>...</td>\n      <td>...</td>\n      <td>...</td>\n    </tr>\n    <tr>\n      <th>99999</th>\n      <td>671</td>\n      <td>6268</td>\n      <td>2.5</td>\n      <td>1065579370</td>\n    </tr>\n    <tr>\n      <th>100000</th>\n      <td>671</td>\n      <td>6269</td>\n      <td>4.0</td>\n      <td>1065149201</td>\n    </tr>\n    <tr>\n      <th>100001</th>\n      <td>671</td>\n      <td>6365</td>\n      <td>4.0</td>\n      <td>1070940363</td>\n    </tr>\n    <tr>\n      <th>100002</th>\n      <td>671</td>\n      <td>6385</td>\n      <td>2.5</td>\n      <td>1070979663</td>\n    </tr>\n    <tr>\n      <th>100003</th>\n      <td>671</td>\n      <td>6565</td>\n      <td>3.5</td>\n      <td>1074784724</td>\n    </tr>\n  </tbody>\n</table>\n<p>100004 rows × 4 columns</p>\n</div>"
     },
     "execution_count": 9,
     "metadata": {},
     "output_type": "execute_result"
    }
   ],
   "source": [
    "ratings"
   ],
   "metadata": {
    "collapsed": false,
    "pycharm": {
     "name": "#%%\n"
    }
   }
  },
  {
   "cell_type": "code",
   "execution_count": 10,
   "outputs": [
    {
     "data": {
      "text/plain": "         budget                                             genres  \\\n0     237000000  [{\"id\": 28, \"name\": \"Action\"}, {\"id\": 12, \"nam...   \n1     300000000  [{\"id\": 12, \"name\": \"Adventure\"}, {\"id\": 14, \"...   \n2     245000000  [{\"id\": 28, \"name\": \"Action\"}, {\"id\": 12, \"nam...   \n3     250000000  [{\"id\": 28, \"name\": \"Action\"}, {\"id\": 80, \"nam...   \n4     260000000  [{\"id\": 28, \"name\": \"Action\"}, {\"id\": 12, \"nam...   \n...         ...                                                ...   \n4798     220000  [{\"id\": 28, \"name\": \"Action\"}, {\"id\": 80, \"nam...   \n4799       9000  [{\"id\": 35, \"name\": \"Comedy\"}, {\"id\": 10749, \"...   \n4800          0  [{\"id\": 35, \"name\": \"Comedy\"}, {\"id\": 18, \"nam...   \n4801          0                                                 []   \n4802          0                [{\"id\": 99, \"name\": \"Documentary\"}]   \n\n                                               homepage      id  \\\n0                           http://www.avatarmovie.com/   19995   \n1          http://disney.go.com/disneypictures/pirates/     285   \n2           http://www.sonypictures.com/movies/spectre/  206647   \n3                    http://www.thedarkknightrises.com/   49026   \n4                  http://movies.disney.com/john-carter   49529   \n...                                                 ...     ...   \n4798                                                NaN    9367   \n4799                                                NaN   72766   \n4800  http://www.hallmarkchannel.com/signedsealeddel...  231617   \n4801                        http://shanghaicalling.com/  126186   \n4802                                                NaN   25975   \n\n                                               keywords original_language  \\\n0     [{\"id\": 1463, \"name\": \"culture clash\"}, {\"id\":...                en   \n1     [{\"id\": 270, \"name\": \"ocean\"}, {\"id\": 726, \"na...                en   \n2     [{\"id\": 470, \"name\": \"spy\"}, {\"id\": 818, \"name...                en   \n3     [{\"id\": 849, \"name\": \"dc comics\"}, {\"id\": 853,...                en   \n4     [{\"id\": 818, \"name\": \"based on novel\"}, {\"id\":...                en   \n...                                                 ...               ...   \n4798  [{\"id\": 5616, \"name\": \"united states\\u2013mexi...                es   \n4799                                                 []                en   \n4800  [{\"id\": 248, \"name\": \"date\"}, {\"id\": 699, \"nam...                en   \n4801                                                 []                en   \n4802  [{\"id\": 1523, \"name\": \"obsession\"}, {\"id\": 224...                en   \n\n                                original_title  \\\n0                                       Avatar   \n1     Pirates of the Caribbean: At World's End   \n2                                      Spectre   \n3                        The Dark Knight Rises   \n4                                  John Carter   \n...                                        ...   \n4798                               El Mariachi   \n4799                                 Newlyweds   \n4800                 Signed, Sealed, Delivered   \n4801                          Shanghai Calling   \n4802                         My Date with Drew   \n\n                                               overview  popularity  \\\n0     In the 22nd century, a paraplegic Marine is di...  150.437577   \n1     Captain Barbossa, long believed to be dead, ha...  139.082615   \n2     A cryptic message from Bond’s past sends him o...  107.376788   \n3     Following the death of District Attorney Harve...  112.312950   \n4     John Carter is a war-weary, former military ca...   43.926995   \n...                                                 ...         ...   \n4798  El Mariachi just wants to play his guitar and ...   14.269792   \n4799  A newlywed couple's honeymoon is upended by th...    0.642552   \n4800  \"Signed, Sealed, Delivered\" introduces a dedic...    1.444476   \n4801  When ambitious New York attorney Sam is sent t...    0.857008   \n4802  Ever since the second grade when he first saw ...    1.929883   \n\n                                   production_companies  \\\n0     [{\"name\": \"Ingenious Film Partners\", \"id\": 289...   \n1     [{\"name\": \"Walt Disney Pictures\", \"id\": 2}, {\"...   \n2     [{\"name\": \"Columbia Pictures\", \"id\": 5}, {\"nam...   \n3     [{\"name\": \"Legendary Pictures\", \"id\": 923}, {\"...   \n4           [{\"name\": \"Walt Disney Pictures\", \"id\": 2}]   \n...                                                 ...   \n4798           [{\"name\": \"Columbia Pictures\", \"id\": 5}]   \n4799                                                 []   \n4800  [{\"name\": \"Front Street Pictures\", \"id\": 3958}...   \n4801                                                 []   \n4802  [{\"name\": \"rusty bear entertainment\", \"id\": 87...   \n\n                                   production_countries release_date  \\\n0     [{\"iso_3166_1\": \"US\", \"name\": \"United States o...   2009-12-10   \n1     [{\"iso_3166_1\": \"US\", \"name\": \"United States o...   2007-05-19   \n2     [{\"iso_3166_1\": \"GB\", \"name\": \"United Kingdom\"...   2015-10-26   \n3     [{\"iso_3166_1\": \"US\", \"name\": \"United States o...   2012-07-16   \n4     [{\"iso_3166_1\": \"US\", \"name\": \"United States o...   2012-03-07   \n...                                                 ...          ...   \n4798  [{\"iso_3166_1\": \"MX\", \"name\": \"Mexico\"}, {\"iso...   1992-09-04   \n4799                                                 []   2011-12-26   \n4800  [{\"iso_3166_1\": \"US\", \"name\": \"United States o...   2013-10-13   \n4801  [{\"iso_3166_1\": \"US\", \"name\": \"United States o...   2012-05-03   \n4802  [{\"iso_3166_1\": \"US\", \"name\": \"United States o...   2005-08-05   \n\n         revenue  runtime                                   spoken_languages  \\\n0     2787965087    162.0  [{\"iso_639_1\": \"en\", \"name\": \"English\"}, {\"iso...   \n1      961000000    169.0           [{\"iso_639_1\": \"en\", \"name\": \"English\"}]   \n2      880674609    148.0  [{\"iso_639_1\": \"fr\", \"name\": \"Fran\\u00e7ais\"},...   \n3     1084939099    165.0           [{\"iso_639_1\": \"en\", \"name\": \"English\"}]   \n4      284139100    132.0           [{\"iso_639_1\": \"en\", \"name\": \"English\"}]   \n...          ...      ...                                                ...   \n4798     2040920     81.0      [{\"iso_639_1\": \"es\", \"name\": \"Espa\\u00f1ol\"}]   \n4799           0     85.0                                                 []   \n4800           0    120.0           [{\"iso_639_1\": \"en\", \"name\": \"English\"}]   \n4801           0     98.0           [{\"iso_639_1\": \"en\", \"name\": \"English\"}]   \n4802           0     90.0           [{\"iso_639_1\": \"en\", \"name\": \"English\"}]   \n\n        status                                            tagline  \\\n0     Released                        Enter the World of Pandora.   \n1     Released     At the end of the world, the adventure begins.   \n2     Released                              A Plan No One Escapes   \n3     Released                                    The Legend Ends   \n4     Released               Lost in our world, found in another.   \n...        ...                                                ...   \n4798  Released  He didn't come looking for trouble, but troubl...   \n4799  Released  A newlywed couple's honeymoon is upended by th...   \n4800  Released                                                NaN   \n4801  Released                           A New Yorker in Shanghai   \n4802  Released                                                NaN   \n\n                                         title  vote_average  vote_count  \n0                                       Avatar           7.2       11800  \n1     Pirates of the Caribbean: At World's End           6.9        4500  \n2                                      Spectre           6.3        4466  \n3                        The Dark Knight Rises           7.6        9106  \n4                                  John Carter           6.1        2124  \n...                                        ...           ...         ...  \n4798                               El Mariachi           6.6         238  \n4799                                 Newlyweds           5.9           5  \n4800                 Signed, Sealed, Delivered           7.0           6  \n4801                          Shanghai Calling           5.7           7  \n4802                         My Date with Drew           6.3          16  \n\n[4803 rows x 20 columns]",
      "text/html": "<div>\n<style scoped>\n    .dataframe tbody tr th:only-of-type {\n        vertical-align: middle;\n    }\n\n    .dataframe tbody tr th {\n        vertical-align: top;\n    }\n\n    .dataframe thead th {\n        text-align: right;\n    }\n</style>\n<table border=\"1\" class=\"dataframe\">\n  <thead>\n    <tr style=\"text-align: right;\">\n      <th></th>\n      <th>budget</th>\n      <th>genres</th>\n      <th>homepage</th>\n      <th>id</th>\n      <th>keywords</th>\n      <th>original_language</th>\n      <th>original_title</th>\n      <th>overview</th>\n      <th>popularity</th>\n      <th>production_companies</th>\n      <th>production_countries</th>\n      <th>release_date</th>\n      <th>revenue</th>\n      <th>runtime</th>\n      <th>spoken_languages</th>\n      <th>status</th>\n      <th>tagline</th>\n      <th>title</th>\n      <th>vote_average</th>\n      <th>vote_count</th>\n    </tr>\n  </thead>\n  <tbody>\n    <tr>\n      <th>0</th>\n      <td>237000000</td>\n      <td>[{\"id\": 28, \"name\": \"Action\"}, {\"id\": 12, \"nam...</td>\n      <td>http://www.avatarmovie.com/</td>\n      <td>19995</td>\n      <td>[{\"id\": 1463, \"name\": \"culture clash\"}, {\"id\":...</td>\n      <td>en</td>\n      <td>Avatar</td>\n      <td>In the 22nd century, a paraplegic Marine is di...</td>\n      <td>150.437577</td>\n      <td>[{\"name\": \"Ingenious Film Partners\", \"id\": 289...</td>\n      <td>[{\"iso_3166_1\": \"US\", \"name\": \"United States o...</td>\n      <td>2009-12-10</td>\n      <td>2787965087</td>\n      <td>162.0</td>\n      <td>[{\"iso_639_1\": \"en\", \"name\": \"English\"}, {\"iso...</td>\n      <td>Released</td>\n      <td>Enter the World of Pandora.</td>\n      <td>Avatar</td>\n      <td>7.2</td>\n      <td>11800</td>\n    </tr>\n    <tr>\n      <th>1</th>\n      <td>300000000</td>\n      <td>[{\"id\": 12, \"name\": \"Adventure\"}, {\"id\": 14, \"...</td>\n      <td>http://disney.go.com/disneypictures/pirates/</td>\n      <td>285</td>\n      <td>[{\"id\": 270, \"name\": \"ocean\"}, {\"id\": 726, \"na...</td>\n      <td>en</td>\n      <td>Pirates of the Caribbean: At World's End</td>\n      <td>Captain Barbossa, long believed to be dead, ha...</td>\n      <td>139.082615</td>\n      <td>[{\"name\": \"Walt Disney Pictures\", \"id\": 2}, {\"...</td>\n      <td>[{\"iso_3166_1\": \"US\", \"name\": \"United States o...</td>\n      <td>2007-05-19</td>\n      <td>961000000</td>\n      <td>169.0</td>\n      <td>[{\"iso_639_1\": \"en\", \"name\": \"English\"}]</td>\n      <td>Released</td>\n      <td>At the end of the world, the adventure begins.</td>\n      <td>Pirates of the Caribbean: At World's End</td>\n      <td>6.9</td>\n      <td>4500</td>\n    </tr>\n    <tr>\n      <th>2</th>\n      <td>245000000</td>\n      <td>[{\"id\": 28, \"name\": \"Action\"}, {\"id\": 12, \"nam...</td>\n      <td>http://www.sonypictures.com/movies/spectre/</td>\n      <td>206647</td>\n      <td>[{\"id\": 470, \"name\": \"spy\"}, {\"id\": 818, \"name...</td>\n      <td>en</td>\n      <td>Spectre</td>\n      <td>A cryptic message from Bond’s past sends him o...</td>\n      <td>107.376788</td>\n      <td>[{\"name\": \"Columbia Pictures\", \"id\": 5}, {\"nam...</td>\n      <td>[{\"iso_3166_1\": \"GB\", \"name\": \"United Kingdom\"...</td>\n      <td>2015-10-26</td>\n      <td>880674609</td>\n      <td>148.0</td>\n      <td>[{\"iso_639_1\": \"fr\", \"name\": \"Fran\\u00e7ais\"},...</td>\n      <td>Released</td>\n      <td>A Plan No One Escapes</td>\n      <td>Spectre</td>\n      <td>6.3</td>\n      <td>4466</td>\n    </tr>\n    <tr>\n      <th>3</th>\n      <td>250000000</td>\n      <td>[{\"id\": 28, \"name\": \"Action\"}, {\"id\": 80, \"nam...</td>\n      <td>http://www.thedarkknightrises.com/</td>\n      <td>49026</td>\n      <td>[{\"id\": 849, \"name\": \"dc comics\"}, {\"id\": 853,...</td>\n      <td>en</td>\n      <td>The Dark Knight Rises</td>\n      <td>Following the death of District Attorney Harve...</td>\n      <td>112.312950</td>\n      <td>[{\"name\": \"Legendary Pictures\", \"id\": 923}, {\"...</td>\n      <td>[{\"iso_3166_1\": \"US\", \"name\": \"United States o...</td>\n      <td>2012-07-16</td>\n      <td>1084939099</td>\n      <td>165.0</td>\n      <td>[{\"iso_639_1\": \"en\", \"name\": \"English\"}]</td>\n      <td>Released</td>\n      <td>The Legend Ends</td>\n      <td>The Dark Knight Rises</td>\n      <td>7.6</td>\n      <td>9106</td>\n    </tr>\n    <tr>\n      <th>4</th>\n      <td>260000000</td>\n      <td>[{\"id\": 28, \"name\": \"Action\"}, {\"id\": 12, \"nam...</td>\n      <td>http://movies.disney.com/john-carter</td>\n      <td>49529</td>\n      <td>[{\"id\": 818, \"name\": \"based on novel\"}, {\"id\":...</td>\n      <td>en</td>\n      <td>John Carter</td>\n      <td>John Carter is a war-weary, former military ca...</td>\n      <td>43.926995</td>\n      <td>[{\"name\": \"Walt Disney Pictures\", \"id\": 2}]</td>\n      <td>[{\"iso_3166_1\": \"US\", \"name\": \"United States o...</td>\n      <td>2012-03-07</td>\n      <td>284139100</td>\n      <td>132.0</td>\n      <td>[{\"iso_639_1\": \"en\", \"name\": \"English\"}]</td>\n      <td>Released</td>\n      <td>Lost in our world, found in another.</td>\n      <td>John Carter</td>\n      <td>6.1</td>\n      <td>2124</td>\n    </tr>\n    <tr>\n      <th>...</th>\n      <td>...</td>\n      <td>...</td>\n      <td>...</td>\n      <td>...</td>\n      <td>...</td>\n      <td>...</td>\n      <td>...</td>\n      <td>...</td>\n      <td>...</td>\n      <td>...</td>\n      <td>...</td>\n      <td>...</td>\n      <td>...</td>\n      <td>...</td>\n      <td>...</td>\n      <td>...</td>\n      <td>...</td>\n      <td>...</td>\n      <td>...</td>\n      <td>...</td>\n    </tr>\n    <tr>\n      <th>4798</th>\n      <td>220000</td>\n      <td>[{\"id\": 28, \"name\": \"Action\"}, {\"id\": 80, \"nam...</td>\n      <td>NaN</td>\n      <td>9367</td>\n      <td>[{\"id\": 5616, \"name\": \"united states\\u2013mexi...</td>\n      <td>es</td>\n      <td>El Mariachi</td>\n      <td>El Mariachi just wants to play his guitar and ...</td>\n      <td>14.269792</td>\n      <td>[{\"name\": \"Columbia Pictures\", \"id\": 5}]</td>\n      <td>[{\"iso_3166_1\": \"MX\", \"name\": \"Mexico\"}, {\"iso...</td>\n      <td>1992-09-04</td>\n      <td>2040920</td>\n      <td>81.0</td>\n      <td>[{\"iso_639_1\": \"es\", \"name\": \"Espa\\u00f1ol\"}]</td>\n      <td>Released</td>\n      <td>He didn't come looking for trouble, but troubl...</td>\n      <td>El Mariachi</td>\n      <td>6.6</td>\n      <td>238</td>\n    </tr>\n    <tr>\n      <th>4799</th>\n      <td>9000</td>\n      <td>[{\"id\": 35, \"name\": \"Comedy\"}, {\"id\": 10749, \"...</td>\n      <td>NaN</td>\n      <td>72766</td>\n      <td>[]</td>\n      <td>en</td>\n      <td>Newlyweds</td>\n      <td>A newlywed couple's honeymoon is upended by th...</td>\n      <td>0.642552</td>\n      <td>[]</td>\n      <td>[]</td>\n      <td>2011-12-26</td>\n      <td>0</td>\n      <td>85.0</td>\n      <td>[]</td>\n      <td>Released</td>\n      <td>A newlywed couple's honeymoon is upended by th...</td>\n      <td>Newlyweds</td>\n      <td>5.9</td>\n      <td>5</td>\n    </tr>\n    <tr>\n      <th>4800</th>\n      <td>0</td>\n      <td>[{\"id\": 35, \"name\": \"Comedy\"}, {\"id\": 18, \"nam...</td>\n      <td>http://www.hallmarkchannel.com/signedsealeddel...</td>\n      <td>231617</td>\n      <td>[{\"id\": 248, \"name\": \"date\"}, {\"id\": 699, \"nam...</td>\n      <td>en</td>\n      <td>Signed, Sealed, Delivered</td>\n      <td>\"Signed, Sealed, Delivered\" introduces a dedic...</td>\n      <td>1.444476</td>\n      <td>[{\"name\": \"Front Street Pictures\", \"id\": 3958}...</td>\n      <td>[{\"iso_3166_1\": \"US\", \"name\": \"United States o...</td>\n      <td>2013-10-13</td>\n      <td>0</td>\n      <td>120.0</td>\n      <td>[{\"iso_639_1\": \"en\", \"name\": \"English\"}]</td>\n      <td>Released</td>\n      <td>NaN</td>\n      <td>Signed, Sealed, Delivered</td>\n      <td>7.0</td>\n      <td>6</td>\n    </tr>\n    <tr>\n      <th>4801</th>\n      <td>0</td>\n      <td>[]</td>\n      <td>http://shanghaicalling.com/</td>\n      <td>126186</td>\n      <td>[]</td>\n      <td>en</td>\n      <td>Shanghai Calling</td>\n      <td>When ambitious New York attorney Sam is sent t...</td>\n      <td>0.857008</td>\n      <td>[]</td>\n      <td>[{\"iso_3166_1\": \"US\", \"name\": \"United States o...</td>\n      <td>2012-05-03</td>\n      <td>0</td>\n      <td>98.0</td>\n      <td>[{\"iso_639_1\": \"en\", \"name\": \"English\"}]</td>\n      <td>Released</td>\n      <td>A New Yorker in Shanghai</td>\n      <td>Shanghai Calling</td>\n      <td>5.7</td>\n      <td>7</td>\n    </tr>\n    <tr>\n      <th>4802</th>\n      <td>0</td>\n      <td>[{\"id\": 99, \"name\": \"Documentary\"}]</td>\n      <td>NaN</td>\n      <td>25975</td>\n      <td>[{\"id\": 1523, \"name\": \"obsession\"}, {\"id\": 224...</td>\n      <td>en</td>\n      <td>My Date with Drew</td>\n      <td>Ever since the second grade when he first saw ...</td>\n      <td>1.929883</td>\n      <td>[{\"name\": \"rusty bear entertainment\", \"id\": 87...</td>\n      <td>[{\"iso_3166_1\": \"US\", \"name\": \"United States o...</td>\n      <td>2005-08-05</td>\n      <td>0</td>\n      <td>90.0</td>\n      <td>[{\"iso_639_1\": \"en\", \"name\": \"English\"}]</td>\n      <td>Released</td>\n      <td>NaN</td>\n      <td>My Date with Drew</td>\n      <td>6.3</td>\n      <td>16</td>\n    </tr>\n  </tbody>\n</table>\n<p>4803 rows × 20 columns</p>\n</div>"
     },
     "execution_count": 10,
     "metadata": {},
     "output_type": "execute_result"
    }
   ],
   "source": [
    "movies"
   ],
   "metadata": {
    "collapsed": false,
    "pycharm": {
     "name": "#%%\n"
    }
   }
  },
  {
   "cell_type": "code",
   "execution_count": 11,
   "outputs": [
    {
     "data": {
      "text/plain": "title   10 Things I Hate About You  12 Angry Men  1408  15 Minutes  16 Blocks  \\\nuserId                                                                          \n1                              0.0           0.0   0.0         0.0        0.0   \n2                              0.0           0.0   0.0         0.0        0.0   \n3                              0.0           0.0   0.0         0.0        0.0   \n4                              0.0           0.0   0.0         0.0        0.0   \n5                              0.0           0.0   0.0         0.0        0.0   \n\ntitle   20,000 Leagues Under the Sea  2001: A Space Odyssey  2046  21 Grams  \\\nuserId                                                                        \n1                                0.0                    0.0   0.0       0.0   \n2                                0.0                    3.0   0.0       0.0   \n3                                0.0                    0.0   0.0       0.0   \n4                                3.0                    0.0   0.0       0.0   \n5                                0.0                    0.0   0.0       0.0   \n\ntitle   25th Hour  ...  Willy Wonka & the Chocolate Factory  \\\nuserId             ...                                        \n1             0.0  ...                                  0.0   \n2             0.0  ...                                  0.0   \n3             0.0  ...                                  0.0   \n4             0.0  ...                                  0.0   \n5             0.0  ...                                  0.0   \n\ntitle   World Trade Center  X-Men Origins: Wolverine  Y Tu Mamá También  \\\nuserId                                                                    \n1                      0.0                       0.0                0.0   \n2                      0.0                       0.0                0.0   \n3                      0.0                       0.0                0.0   \n4                      0.0                       5.0                0.0   \n5                      0.0                       0.0                0.0   \n\ntitle   You Only Live Twice  You, Me and Dupree  Young Frankenstein  Zodiac  \\\nuserId                                                                        \n1                       0.0                 0.0                 0.0     0.0   \n2                       0.0                 0.0                 0.0     0.0   \n3                       0.0                 0.0                 0.0     0.0   \n4                       0.0                 0.0                 5.0     0.0   \n5                       0.0                 0.0                 0.0     0.0   \n\ntitle   eXistenZ  xXx  \nuserId                 \n1            0.0  0.0  \n2            0.0  0.0  \n3            0.0  0.0  \n4            0.0  0.0  \n5            0.0  0.0  \n\n[5 rows x 856 columns]",
      "text/html": "<div>\n<style scoped>\n    .dataframe tbody tr th:only-of-type {\n        vertical-align: middle;\n    }\n\n    .dataframe tbody tr th {\n        vertical-align: top;\n    }\n\n    .dataframe thead th {\n        text-align: right;\n    }\n</style>\n<table border=\"1\" class=\"dataframe\">\n  <thead>\n    <tr style=\"text-align: right;\">\n      <th>title</th>\n      <th>10 Things I Hate About You</th>\n      <th>12 Angry Men</th>\n      <th>1408</th>\n      <th>15 Minutes</th>\n      <th>16 Blocks</th>\n      <th>20,000 Leagues Under the Sea</th>\n      <th>2001: A Space Odyssey</th>\n      <th>2046</th>\n      <th>21 Grams</th>\n      <th>25th Hour</th>\n      <th>...</th>\n      <th>Willy Wonka &amp; the Chocolate Factory</th>\n      <th>World Trade Center</th>\n      <th>X-Men Origins: Wolverine</th>\n      <th>Y Tu Mamá También</th>\n      <th>You Only Live Twice</th>\n      <th>You, Me and Dupree</th>\n      <th>Young Frankenstein</th>\n      <th>Zodiac</th>\n      <th>eXistenZ</th>\n      <th>xXx</th>\n    </tr>\n    <tr>\n      <th>userId</th>\n      <th></th>\n      <th></th>\n      <th></th>\n      <th></th>\n      <th></th>\n      <th></th>\n      <th></th>\n      <th></th>\n      <th></th>\n      <th></th>\n      <th></th>\n      <th></th>\n      <th></th>\n      <th></th>\n      <th></th>\n      <th></th>\n      <th></th>\n      <th></th>\n      <th></th>\n      <th></th>\n      <th></th>\n    </tr>\n  </thead>\n  <tbody>\n    <tr>\n      <th>1</th>\n      <td>0.0</td>\n      <td>0.0</td>\n      <td>0.0</td>\n      <td>0.0</td>\n      <td>0.0</td>\n      <td>0.0</td>\n      <td>0.0</td>\n      <td>0.0</td>\n      <td>0.0</td>\n      <td>0.0</td>\n      <td>...</td>\n      <td>0.0</td>\n      <td>0.0</td>\n      <td>0.0</td>\n      <td>0.0</td>\n      <td>0.0</td>\n      <td>0.0</td>\n      <td>0.0</td>\n      <td>0.0</td>\n      <td>0.0</td>\n      <td>0.0</td>\n    </tr>\n    <tr>\n      <th>2</th>\n      <td>0.0</td>\n      <td>0.0</td>\n      <td>0.0</td>\n      <td>0.0</td>\n      <td>0.0</td>\n      <td>0.0</td>\n      <td>3.0</td>\n      <td>0.0</td>\n      <td>0.0</td>\n      <td>0.0</td>\n      <td>...</td>\n      <td>0.0</td>\n      <td>0.0</td>\n      <td>0.0</td>\n      <td>0.0</td>\n      <td>0.0</td>\n      <td>0.0</td>\n      <td>0.0</td>\n      <td>0.0</td>\n      <td>0.0</td>\n      <td>0.0</td>\n    </tr>\n    <tr>\n      <th>3</th>\n      <td>0.0</td>\n      <td>0.0</td>\n      <td>0.0</td>\n      <td>0.0</td>\n      <td>0.0</td>\n      <td>0.0</td>\n      <td>0.0</td>\n      <td>0.0</td>\n      <td>0.0</td>\n      <td>0.0</td>\n      <td>...</td>\n      <td>0.0</td>\n      <td>0.0</td>\n      <td>0.0</td>\n      <td>0.0</td>\n      <td>0.0</td>\n      <td>0.0</td>\n      <td>0.0</td>\n      <td>0.0</td>\n      <td>0.0</td>\n      <td>0.0</td>\n    </tr>\n    <tr>\n      <th>4</th>\n      <td>0.0</td>\n      <td>0.0</td>\n      <td>0.0</td>\n      <td>0.0</td>\n      <td>0.0</td>\n      <td>3.0</td>\n      <td>0.0</td>\n      <td>0.0</td>\n      <td>0.0</td>\n      <td>0.0</td>\n      <td>...</td>\n      <td>0.0</td>\n      <td>0.0</td>\n      <td>5.0</td>\n      <td>0.0</td>\n      <td>0.0</td>\n      <td>0.0</td>\n      <td>5.0</td>\n      <td>0.0</td>\n      <td>0.0</td>\n      <td>0.0</td>\n    </tr>\n    <tr>\n      <th>5</th>\n      <td>0.0</td>\n      <td>0.0</td>\n      <td>0.0</td>\n      <td>0.0</td>\n      <td>0.0</td>\n      <td>0.0</td>\n      <td>0.0</td>\n      <td>0.0</td>\n      <td>0.0</td>\n      <td>0.0</td>\n      <td>...</td>\n      <td>0.0</td>\n      <td>0.0</td>\n      <td>0.0</td>\n      <td>0.0</td>\n      <td>0.0</td>\n      <td>0.0</td>\n      <td>0.0</td>\n      <td>0.0</td>\n      <td>0.0</td>\n      <td>0.0</td>\n    </tr>\n  </tbody>\n</table>\n<p>5 rows × 856 columns</p>\n</div>"
     },
     "execution_count": 11,
     "metadata": {},
     "output_type": "execute_result"
    }
   ],
   "source": [
    "movies.rename(columns={'id': 'movieId'}, inplace=True)\n",
    "ratings_movies = pd.merge(ratings, movies, on='movieId')\n",
    "ratings_movies.head(1)\n",
    "ratings_movies.shape\n",
    "data = ratings_movies.pivot_table('rating', index='userId', columns='title').fillna(0)\n",
    "data.head()"
   ],
   "metadata": {
    "collapsed": false,
    "pycharm": {
     "name": "#%%\n"
    }
   }
  },
  {
   "cell_type": "code",
   "execution_count": 12,
   "outputs": [
    {
     "data": {
      "text/plain": "(670, 856)"
     },
     "execution_count": 12,
     "metadata": {},
     "output_type": "execute_result"
    }
   ],
   "source": [
    "data.shape"
   ],
   "metadata": {
    "collapsed": false,
    "pycharm": {
     "name": "#%%\n"
    }
   }
  },
  {
   "cell_type": "code",
   "execution_count": 13,
   "outputs": [
    {
     "data": {
      "text/plain": "userId                      1    2    3    4    5    6    7    8    9    10   \\\ntitle                                                                          \n10 Things I Hate About You  0.0  0.0  0.0  0.0  0.0  0.0  0.0  0.0  0.0  0.0   \n12 Angry Men                0.0  0.0  0.0  0.0  0.0  0.0  0.0  0.0  0.0  0.0   \n\nuserId                      ...  662  663  664  665  666  667  668  669  670  \\\ntitle                       ...                                                \n10 Things I Hate About You  ...  0.0  0.0  0.0  3.0  0.0  0.0  0.0  0.0  0.0   \n12 Angry Men                ...  0.0  0.0  0.0  0.0  0.0  0.0  0.0  0.0  0.0   \n\nuserId                      671  \ntitle                            \n10 Things I Hate About You  0.0  \n12 Angry Men                0.0  \n\n[2 rows x 670 columns]",
      "text/html": "<div>\n<style scoped>\n    .dataframe tbody tr th:only-of-type {\n        vertical-align: middle;\n    }\n\n    .dataframe tbody tr th {\n        vertical-align: top;\n    }\n\n    .dataframe thead th {\n        text-align: right;\n    }\n</style>\n<table border=\"1\" class=\"dataframe\">\n  <thead>\n    <tr style=\"text-align: right;\">\n      <th>userId</th>\n      <th>1</th>\n      <th>2</th>\n      <th>3</th>\n      <th>4</th>\n      <th>5</th>\n      <th>6</th>\n      <th>7</th>\n      <th>8</th>\n      <th>9</th>\n      <th>10</th>\n      <th>...</th>\n      <th>662</th>\n      <th>663</th>\n      <th>664</th>\n      <th>665</th>\n      <th>666</th>\n      <th>667</th>\n      <th>668</th>\n      <th>669</th>\n      <th>670</th>\n      <th>671</th>\n    </tr>\n    <tr>\n      <th>title</th>\n      <th></th>\n      <th></th>\n      <th></th>\n      <th></th>\n      <th></th>\n      <th></th>\n      <th></th>\n      <th></th>\n      <th></th>\n      <th></th>\n      <th></th>\n      <th></th>\n      <th></th>\n      <th></th>\n      <th></th>\n      <th></th>\n      <th></th>\n      <th></th>\n      <th></th>\n      <th></th>\n      <th></th>\n    </tr>\n  </thead>\n  <tbody>\n    <tr>\n      <th>10 Things I Hate About You</th>\n      <td>0.0</td>\n      <td>0.0</td>\n      <td>0.0</td>\n      <td>0.0</td>\n      <td>0.0</td>\n      <td>0.0</td>\n      <td>0.0</td>\n      <td>0.0</td>\n      <td>0.0</td>\n      <td>0.0</td>\n      <td>...</td>\n      <td>0.0</td>\n      <td>0.0</td>\n      <td>0.0</td>\n      <td>3.0</td>\n      <td>0.0</td>\n      <td>0.0</td>\n      <td>0.0</td>\n      <td>0.0</td>\n      <td>0.0</td>\n      <td>0.0</td>\n    </tr>\n    <tr>\n      <th>12 Angry Men</th>\n      <td>0.0</td>\n      <td>0.0</td>\n      <td>0.0</td>\n      <td>0.0</td>\n      <td>0.0</td>\n      <td>0.0</td>\n      <td>0.0</td>\n      <td>0.0</td>\n      <td>0.0</td>\n      <td>0.0</td>\n      <td>...</td>\n      <td>0.0</td>\n      <td>0.0</td>\n      <td>0.0</td>\n      <td>0.0</td>\n      <td>0.0</td>\n      <td>0.0</td>\n      <td>0.0</td>\n      <td>0.0</td>\n      <td>0.0</td>\n      <td>0.0</td>\n    </tr>\n  </tbody>\n</table>\n<p>2 rows × 670 columns</p>\n</div>"
     },
     "execution_count": 13,
     "metadata": {},
     "output_type": "execute_result"
    }
   ],
   "source": [
    "data = data.transpose()\n",
    "data.head(2)"
   ],
   "metadata": {
    "collapsed": false,
    "pycharm": {
     "name": "#%%\n"
    }
   }
  },
  {
   "cell_type": "code",
   "execution_count": 14,
   "outputs": [
    {
     "name": "stdout",
     "output_type": "stream",
     "text": [
      "(856, 856)\n"
     ]
    }
   ],
   "source": [
    "movie_sim = cosine_similarity(data, data)\n",
    "print(movie_sim.shape)"
   ],
   "metadata": {
    "collapsed": false,
    "pycharm": {
     "name": "#%%\n"
    }
   }
  },
  {
   "cell_type": "code",
   "execution_count": 15,
   "outputs": [
    {
     "data": {
      "text/plain": "title                       10 Things I Hate About You  12 Angry Men  1408  \\\ntitle                                                                        \n10 Things I Hate About You                         1.0           0.0   0.0   \n12 Angry Men                                       0.0           1.0   0.0   \n1408                                               0.0           0.0   1.0   \n\ntitle                       15 Minutes  16 Blocks  \\\ntitle                                               \n10 Things I Hate About You    0.182153        0.0   \n12 Angry Men                  0.000000        0.0   \n1408                          0.447214        0.0   \n\ntitle                       20,000 Leagues Under the Sea  \\\ntitle                                                      \n10 Things I Hate About You                      0.022069   \n12 Angry Men                                    0.000000   \n1408                                            0.173381   \n\ntitle                       2001: A Space Odyssey  2046  21 Grams  25th Hour  \\\ntitle                                                                          \n10 Things I Hate About You               0.085323   0.0       0.0    0.10349   \n12 Angry Men                             0.000000   0.0       0.0    0.00000   \n1408                                     0.028245   0.0       0.0    0.00000   \n\ntitle                       ...  Willy Wonka & the Chocolate Factory  \\\ntitle                       ...                                        \n10 Things I Hate About You  ...                             0.059856   \n12 Angry Men                ...                             0.000000   \n1408                        ...                             0.146955   \n\ntitle                       World Trade Center  X-Men Origins: Wolverine  \\\ntitle                                                                      \n10 Things I Hate About You                 0.0                  0.161801   \n12 Angry Men                               0.0                  0.000000   \n1408                                       0.0                  0.148968   \n\ntitle                       Y Tu Mamá También  You Only Live Twice  \\\ntitle                                                                \n10 Things I Hate About You           0.088076                  0.0   \n12 Angry Men                         0.000000                  0.0   \n1408                                 0.140265                  0.0   \n\ntitle                       You, Me and Dupree  Young Frankenstein  Zodiac  \\\ntitle                                                                        \n10 Things I Hate About You                 0.0            0.097588     0.0   \n12 Angry Men                               0.0            0.000000     0.0   \n1408                                       0.0            0.191675     0.0   \n\ntitle                       eXistenZ       xXx  \ntitle                                           \n10 Things I Hate About You       0.0  0.014121  \n12 Angry Men                     0.0  0.000000  \n1408                             0.0  0.000000  \n\n[3 rows x 856 columns]",
      "text/html": "<div>\n<style scoped>\n    .dataframe tbody tr th:only-of-type {\n        vertical-align: middle;\n    }\n\n    .dataframe tbody tr th {\n        vertical-align: top;\n    }\n\n    .dataframe thead th {\n        text-align: right;\n    }\n</style>\n<table border=\"1\" class=\"dataframe\">\n  <thead>\n    <tr style=\"text-align: right;\">\n      <th>title</th>\n      <th>10 Things I Hate About You</th>\n      <th>12 Angry Men</th>\n      <th>1408</th>\n      <th>15 Minutes</th>\n      <th>16 Blocks</th>\n      <th>20,000 Leagues Under the Sea</th>\n      <th>2001: A Space Odyssey</th>\n      <th>2046</th>\n      <th>21 Grams</th>\n      <th>25th Hour</th>\n      <th>...</th>\n      <th>Willy Wonka &amp; the Chocolate Factory</th>\n      <th>World Trade Center</th>\n      <th>X-Men Origins: Wolverine</th>\n      <th>Y Tu Mamá También</th>\n      <th>You Only Live Twice</th>\n      <th>You, Me and Dupree</th>\n      <th>Young Frankenstein</th>\n      <th>Zodiac</th>\n      <th>eXistenZ</th>\n      <th>xXx</th>\n    </tr>\n    <tr>\n      <th>title</th>\n      <th></th>\n      <th></th>\n      <th></th>\n      <th></th>\n      <th></th>\n      <th></th>\n      <th></th>\n      <th></th>\n      <th></th>\n      <th></th>\n      <th></th>\n      <th></th>\n      <th></th>\n      <th></th>\n      <th></th>\n      <th></th>\n      <th></th>\n      <th></th>\n      <th></th>\n      <th></th>\n      <th></th>\n    </tr>\n  </thead>\n  <tbody>\n    <tr>\n      <th>10 Things I Hate About You</th>\n      <td>1.0</td>\n      <td>0.0</td>\n      <td>0.0</td>\n      <td>0.182153</td>\n      <td>0.0</td>\n      <td>0.022069</td>\n      <td>0.085323</td>\n      <td>0.0</td>\n      <td>0.0</td>\n      <td>0.10349</td>\n      <td>...</td>\n      <td>0.059856</td>\n      <td>0.0</td>\n      <td>0.161801</td>\n      <td>0.088076</td>\n      <td>0.0</td>\n      <td>0.0</td>\n      <td>0.097588</td>\n      <td>0.0</td>\n      <td>0.0</td>\n      <td>0.014121</td>\n    </tr>\n    <tr>\n      <th>12 Angry Men</th>\n      <td>0.0</td>\n      <td>1.0</td>\n      <td>0.0</td>\n      <td>0.000000</td>\n      <td>0.0</td>\n      <td>0.000000</td>\n      <td>0.000000</td>\n      <td>0.0</td>\n      <td>0.0</td>\n      <td>0.00000</td>\n      <td>...</td>\n      <td>0.000000</td>\n      <td>0.0</td>\n      <td>0.000000</td>\n      <td>0.000000</td>\n      <td>0.0</td>\n      <td>0.0</td>\n      <td>0.000000</td>\n      <td>0.0</td>\n      <td>0.0</td>\n      <td>0.000000</td>\n    </tr>\n    <tr>\n      <th>1408</th>\n      <td>0.0</td>\n      <td>0.0</td>\n      <td>1.0</td>\n      <td>0.447214</td>\n      <td>0.0</td>\n      <td>0.173381</td>\n      <td>0.028245</td>\n      <td>0.0</td>\n      <td>0.0</td>\n      <td>0.00000</td>\n      <td>...</td>\n      <td>0.146955</td>\n      <td>0.0</td>\n      <td>0.148968</td>\n      <td>0.140265</td>\n      <td>0.0</td>\n      <td>0.0</td>\n      <td>0.191675</td>\n      <td>0.0</td>\n      <td>0.0</td>\n      <td>0.000000</td>\n    </tr>\n  </tbody>\n</table>\n<p>3 rows × 856 columns</p>\n</div>"
     },
     "execution_count": 15,
     "metadata": {},
     "output_type": "execute_result"
    }
   ],
   "source": [
    "movie_sim_df = pd.DataFrame(data=movie_sim, index=data.index, columns=data.index)\n",
    "movie_sim_df.head(3)"
   ],
   "metadata": {
    "collapsed": false,
    "pycharm": {
     "name": "#%%\n"
    }
   }
  },
  {
   "cell_type": "code",
   "execution_count": 16,
   "outputs": [
    {
     "data": {
      "text/plain": "title\nRomeo Must Die                        0.649625\nThe Wedding Planner                   0.631669\nDogtown and Z-Boys                    0.501189\nAn Unfinished Life                    0.485643\nConquest of the Planet of the Apes    0.474626\nReign Over Me                         0.458155\nThe Terminal                          0.445337\nYoung Frankenstein                    0.423840\nWhale Rider                           0.394136\nName: X-Men Origins: Wolverine, dtype: float64"
     },
     "execution_count": 16,
     "metadata": {},
     "output_type": "execute_result"
    }
   ],
   "source": [
    "movie_sim_df[\"X-Men Origins: Wolverine\"].sort_values(ascending=False)[1:10]"
   ],
   "metadata": {
    "collapsed": false,
    "pycharm": {
     "name": "#%%\n"
    }
   }
  },
  {
   "cell_type": "code",
   "execution_count": 18,
   "outputs": [
    {
     "data": {
      "text/plain": "   userId  movieId  rating   timestamp\n0       1       31     2.5  1260759144\n1       1     1029     3.0  1260759179",
      "text/html": "<div>\n<style scoped>\n    .dataframe tbody tr th:only-of-type {\n        vertical-align: middle;\n    }\n\n    .dataframe tbody tr th {\n        vertical-align: top;\n    }\n\n    .dataframe thead th {\n        text-align: right;\n    }\n</style>\n<table border=\"1\" class=\"dataframe\">\n  <thead>\n    <tr style=\"text-align: right;\">\n      <th></th>\n      <th>userId</th>\n      <th>movieId</th>\n      <th>rating</th>\n      <th>timestamp</th>\n    </tr>\n  </thead>\n  <tbody>\n    <tr>\n      <th>0</th>\n      <td>1</td>\n      <td>31</td>\n      <td>2.5</td>\n      <td>1260759144</td>\n    </tr>\n    <tr>\n      <th>1</th>\n      <td>1</td>\n      <td>1029</td>\n      <td>3.0</td>\n      <td>1260759179</td>\n    </tr>\n  </tbody>\n</table>\n</div>"
     },
     "execution_count": 18,
     "metadata": {},
     "output_type": "execute_result"
    }
   ],
   "source": [
    "rating_data = pd.read_csv('./movie_lens/ratings.csv')\n",
    "movie_data = pd.read_csv('./movie_lens/movies.csv')\n",
    "rating_data.head(2)"
   ],
   "metadata": {
    "collapsed": false,
    "pycharm": {
     "name": "#%%\n"
    }
   }
  },
  {
   "cell_type": "code",
   "execution_count": 19,
   "outputs": [
    {
     "data": {
      "text/plain": "      movieId                                              title  \\\n0           1                                   Toy Story (1995)   \n1           2                                     Jumanji (1995)   \n2           3                            Grumpier Old Men (1995)   \n3           4                           Waiting to Exhale (1995)   \n4           5                 Father of the Bride Part II (1995)   \n...       ...                                                ...   \n9120   162672                                Mohenjo Daro (2016)   \n9121   163056                               Shin Godzilla (2016)   \n9122   163949  The Beatles: Eight Days a Week - The Touring Y...   \n9123   164977                           The Gay Desperado (1936)   \n9124   164979                              Women of '69, Unboxed   \n\n                                           genres  \n0     Adventure|Animation|Children|Comedy|Fantasy  \n1                      Adventure|Children|Fantasy  \n2                                  Comedy|Romance  \n3                            Comedy|Drama|Romance  \n4                                          Comedy  \n...                                           ...  \n9120                      Adventure|Drama|Romance  \n9121              Action|Adventure|Fantasy|Sci-Fi  \n9122                                  Documentary  \n9123                                       Comedy  \n9124                                  Documentary  \n\n[9125 rows x 3 columns]",
      "text/html": "<div>\n<style scoped>\n    .dataframe tbody tr th:only-of-type {\n        vertical-align: middle;\n    }\n\n    .dataframe tbody tr th {\n        vertical-align: top;\n    }\n\n    .dataframe thead th {\n        text-align: right;\n    }\n</style>\n<table border=\"1\" class=\"dataframe\">\n  <thead>\n    <tr style=\"text-align: right;\">\n      <th></th>\n      <th>movieId</th>\n      <th>title</th>\n      <th>genres</th>\n    </tr>\n  </thead>\n  <tbody>\n    <tr>\n      <th>0</th>\n      <td>1</td>\n      <td>Toy Story (1995)</td>\n      <td>Adventure|Animation|Children|Comedy|Fantasy</td>\n    </tr>\n    <tr>\n      <th>1</th>\n      <td>2</td>\n      <td>Jumanji (1995)</td>\n      <td>Adventure|Children|Fantasy</td>\n    </tr>\n    <tr>\n      <th>2</th>\n      <td>3</td>\n      <td>Grumpier Old Men (1995)</td>\n      <td>Comedy|Romance</td>\n    </tr>\n    <tr>\n      <th>3</th>\n      <td>4</td>\n      <td>Waiting to Exhale (1995)</td>\n      <td>Comedy|Drama|Romance</td>\n    </tr>\n    <tr>\n      <th>4</th>\n      <td>5</td>\n      <td>Father of the Bride Part II (1995)</td>\n      <td>Comedy</td>\n    </tr>\n    <tr>\n      <th>...</th>\n      <td>...</td>\n      <td>...</td>\n      <td>...</td>\n    </tr>\n    <tr>\n      <th>9120</th>\n      <td>162672</td>\n      <td>Mohenjo Daro (2016)</td>\n      <td>Adventure|Drama|Romance</td>\n    </tr>\n    <tr>\n      <th>9121</th>\n      <td>163056</td>\n      <td>Shin Godzilla (2016)</td>\n      <td>Action|Adventure|Fantasy|Sci-Fi</td>\n    </tr>\n    <tr>\n      <th>9122</th>\n      <td>163949</td>\n      <td>The Beatles: Eight Days a Week - The Touring Y...</td>\n      <td>Documentary</td>\n    </tr>\n    <tr>\n      <th>9123</th>\n      <td>164977</td>\n      <td>The Gay Desperado (1936)</td>\n      <td>Comedy</td>\n    </tr>\n    <tr>\n      <th>9124</th>\n      <td>164979</td>\n      <td>Women of '69, Unboxed</td>\n      <td>Documentary</td>\n    </tr>\n  </tbody>\n</table>\n<p>9125 rows × 3 columns</p>\n</div>"
     },
     "execution_count": 19,
     "metadata": {},
     "output_type": "execute_result"
    }
   ],
   "source": [
    "movie_data"
   ],
   "metadata": {
    "collapsed": false,
    "pycharm": {
     "name": "#%%\n"
    }
   }
  },
  {
   "cell_type": "code",
   "execution_count": 20,
   "outputs": [
    {
     "data": {
      "text/plain": "title   \"Great Performances\" Cats (1998)  $9.99 (2008)  \\\nuserId                                                   \n1                                    NaN           NaN   \n2                                    NaN           NaN   \n3                                    NaN           NaN   \n4                                    NaN           NaN   \n5                                    NaN           NaN   \n\ntitle   'Hellboy': The Seeds of Creation (2004)  \\\nuserId                                            \n1                                           NaN   \n2                                           NaN   \n3                                           NaN   \n4                                           NaN   \n5                                           NaN   \n\ntitle   'Neath the Arizona Skies (1934)  'Round Midnight (1986)  \\\nuserId                                                            \n1                                   NaN                     NaN   \n2                                   NaN                     NaN   \n3                                   NaN                     NaN   \n4                                   NaN                     NaN   \n5                                   NaN                     NaN   \n\ntitle   'Salem's Lot (2004)  'Til There Was You (1997)  'burbs, The (1989)  \\\nuserId                                                                       \n1                       NaN                        NaN                 NaN   \n2                       NaN                        NaN                 NaN   \n3                       NaN                        NaN                 NaN   \n4                       NaN                        NaN                 NaN   \n5                       NaN                        NaN                 NaN   \n\ntitle   'night Mother (1986)  (500) Days of Summer (2009)  ...  Zulu (1964)  \\\nuserId                                                     ...                \n1                        NaN                          NaN  ...          NaN   \n2                        NaN                          NaN  ...          NaN   \n3                        NaN                          NaN  ...          NaN   \n4                        NaN                          NaN  ...          NaN   \n5                        NaN                          NaN  ...          NaN   \n\ntitle   Zulu (2013)  [REC] (2007)  eXistenZ (1999)  \\\nuserId                                               \n1               NaN           NaN              NaN   \n2               NaN           NaN              NaN   \n3               NaN           NaN              NaN   \n4               NaN           NaN              NaN   \n5               NaN           NaN              NaN   \n\ntitle   loudQUIETloud: A Film About the Pixies (2006)  xXx (2002)  \\\nuserId                                                              \n1                                                 NaN         NaN   \n2                                                 NaN         NaN   \n3                                                 NaN         NaN   \n4                                                 NaN         NaN   \n5                                                 NaN         NaN   \n\ntitle   xXx: State of the Union (2005)  ¡Three Amigos! (1986)  \\\nuserId                                                          \n1                                  NaN                    NaN   \n2                                  NaN                    NaN   \n3                                  NaN                    NaN   \n4                                  NaN                    NaN   \n5                                  NaN                    NaN   \n\ntitle   À nous la liberté (Freedom for Us) (1931)  İtirazım Var (2014)  \nuserId                                                                  \n1                                             NaN                  NaN  \n2                                             NaN                  NaN  \n3                                             NaN                  NaN  \n4                                             NaN                  NaN  \n5                                             NaN                  NaN  \n\n[5 rows x 9064 columns]",
      "text/html": "<div>\n<style scoped>\n    .dataframe tbody tr th:only-of-type {\n        vertical-align: middle;\n    }\n\n    .dataframe tbody tr th {\n        vertical-align: top;\n    }\n\n    .dataframe thead th {\n        text-align: right;\n    }\n</style>\n<table border=\"1\" class=\"dataframe\">\n  <thead>\n    <tr style=\"text-align: right;\">\n      <th>title</th>\n      <th>\"Great Performances\" Cats (1998)</th>\n      <th>$9.99 (2008)</th>\n      <th>'Hellboy': The Seeds of Creation (2004)</th>\n      <th>'Neath the Arizona Skies (1934)</th>\n      <th>'Round Midnight (1986)</th>\n      <th>'Salem's Lot (2004)</th>\n      <th>'Til There Was You (1997)</th>\n      <th>'burbs, The (1989)</th>\n      <th>'night Mother (1986)</th>\n      <th>(500) Days of Summer (2009)</th>\n      <th>...</th>\n      <th>Zulu (1964)</th>\n      <th>Zulu (2013)</th>\n      <th>[REC] (2007)</th>\n      <th>eXistenZ (1999)</th>\n      <th>loudQUIETloud: A Film About the Pixies (2006)</th>\n      <th>xXx (2002)</th>\n      <th>xXx: State of the Union (2005)</th>\n      <th>¡Three Amigos! (1986)</th>\n      <th>À nous la liberté (Freedom for Us) (1931)</th>\n      <th>İtirazım Var (2014)</th>\n    </tr>\n    <tr>\n      <th>userId</th>\n      <th></th>\n      <th></th>\n      <th></th>\n      <th></th>\n      <th></th>\n      <th></th>\n      <th></th>\n      <th></th>\n      <th></th>\n      <th></th>\n      <th></th>\n      <th></th>\n      <th></th>\n      <th></th>\n      <th></th>\n      <th></th>\n      <th></th>\n      <th></th>\n      <th></th>\n      <th></th>\n      <th></th>\n    </tr>\n  </thead>\n  <tbody>\n    <tr>\n      <th>1</th>\n      <td>NaN</td>\n      <td>NaN</td>\n      <td>NaN</td>\n      <td>NaN</td>\n      <td>NaN</td>\n      <td>NaN</td>\n      <td>NaN</td>\n      <td>NaN</td>\n      <td>NaN</td>\n      <td>NaN</td>\n      <td>...</td>\n      <td>NaN</td>\n      <td>NaN</td>\n      <td>NaN</td>\n      <td>NaN</td>\n      <td>NaN</td>\n      <td>NaN</td>\n      <td>NaN</td>\n      <td>NaN</td>\n      <td>NaN</td>\n      <td>NaN</td>\n    </tr>\n    <tr>\n      <th>2</th>\n      <td>NaN</td>\n      <td>NaN</td>\n      <td>NaN</td>\n      <td>NaN</td>\n      <td>NaN</td>\n      <td>NaN</td>\n      <td>NaN</td>\n      <td>NaN</td>\n      <td>NaN</td>\n      <td>NaN</td>\n      <td>...</td>\n      <td>NaN</td>\n      <td>NaN</td>\n      <td>NaN</td>\n      <td>NaN</td>\n      <td>NaN</td>\n      <td>NaN</td>\n      <td>NaN</td>\n      <td>NaN</td>\n      <td>NaN</td>\n      <td>NaN</td>\n    </tr>\n    <tr>\n      <th>3</th>\n      <td>NaN</td>\n      <td>NaN</td>\n      <td>NaN</td>\n      <td>NaN</td>\n      <td>NaN</td>\n      <td>NaN</td>\n      <td>NaN</td>\n      <td>NaN</td>\n      <td>NaN</td>\n      <td>NaN</td>\n      <td>...</td>\n      <td>NaN</td>\n      <td>NaN</td>\n      <td>NaN</td>\n      <td>NaN</td>\n      <td>NaN</td>\n      <td>NaN</td>\n      <td>NaN</td>\n      <td>NaN</td>\n      <td>NaN</td>\n      <td>NaN</td>\n    </tr>\n    <tr>\n      <th>4</th>\n      <td>NaN</td>\n      <td>NaN</td>\n      <td>NaN</td>\n      <td>NaN</td>\n      <td>NaN</td>\n      <td>NaN</td>\n      <td>NaN</td>\n      <td>NaN</td>\n      <td>NaN</td>\n      <td>NaN</td>\n      <td>...</td>\n      <td>NaN</td>\n      <td>NaN</td>\n      <td>NaN</td>\n      <td>NaN</td>\n      <td>NaN</td>\n      <td>NaN</td>\n      <td>NaN</td>\n      <td>NaN</td>\n      <td>NaN</td>\n      <td>NaN</td>\n    </tr>\n    <tr>\n      <th>5</th>\n      <td>NaN</td>\n      <td>NaN</td>\n      <td>NaN</td>\n      <td>NaN</td>\n      <td>NaN</td>\n      <td>NaN</td>\n      <td>NaN</td>\n      <td>NaN</td>\n      <td>NaN</td>\n      <td>NaN</td>\n      <td>...</td>\n      <td>NaN</td>\n      <td>NaN</td>\n      <td>NaN</td>\n      <td>NaN</td>\n      <td>NaN</td>\n      <td>NaN</td>\n      <td>NaN</td>\n      <td>NaN</td>\n      <td>NaN</td>\n      <td>NaN</td>\n    </tr>\n  </tbody>\n</table>\n<p>5 rows × 9064 columns</p>\n</div>"
     },
     "execution_count": 20,
     "metadata": {},
     "output_type": "execute_result"
    }
   ],
   "source": [
    "rating_data.drop('timestamp', axis=1, inplace=True)\n",
    "rating_data.head(2)\n",
    "user_movie_rating = pd.merge(rating_data, movie_data, on='movieId')\n",
    "user_movie_rating.head(2)\n",
    "movie_user_rating = user_movie_rating.pivot_table('rating', index='title', columns='userId')\n",
    "user_movie_rating = user_movie_rating.pivot_table('rating', index='userId', columns='title')\n",
    "user_movie_rating.head(5)"
   ],
   "metadata": {
    "collapsed": false,
    "pycharm": {
     "name": "#%%\n"
    }
   }
  },
  {
   "cell_type": "code",
   "execution_count": 21,
   "outputs": [
    {
     "data": {
      "text/plain": "userId                                   1    2    3    4    5    6    7    \\\ntitle                                                                        \n\"Great Performances\" Cats (1998)         NaN  NaN  NaN  NaN  NaN  NaN  NaN   \n$9.99 (2008)                             NaN  NaN  NaN  NaN  NaN  NaN  NaN   \n'Hellboy': The Seeds of Creation (2004)  NaN  NaN  NaN  NaN  NaN  NaN  NaN   \n'Neath the Arizona Skies (1934)          NaN  NaN  NaN  NaN  NaN  NaN  NaN   \n'Round Midnight (1986)                   NaN  NaN  NaN  NaN  NaN  NaN  NaN   \n\nuserId                                   8    9    10   ...  662  663  664  \\\ntitle                                                   ...                  \n\"Great Performances\" Cats (1998)         NaN  NaN  NaN  ...  NaN  NaN  NaN   \n$9.99 (2008)                             NaN  NaN  NaN  ...  NaN  NaN  NaN   \n'Hellboy': The Seeds of Creation (2004)  NaN  NaN  NaN  ...  NaN  NaN  NaN   \n'Neath the Arizona Skies (1934)          NaN  NaN  NaN  ...  NaN  NaN  NaN   \n'Round Midnight (1986)                   NaN  NaN  NaN  ...  NaN  NaN  NaN   \n\nuserId                                   665  666  667  668  669  670  671  \ntitle                                                                       \n\"Great Performances\" Cats (1998)         NaN  NaN  NaN  NaN  NaN  NaN  NaN  \n$9.99 (2008)                             NaN  NaN  NaN  NaN  NaN  NaN  NaN  \n'Hellboy': The Seeds of Creation (2004)  NaN  NaN  NaN  NaN  NaN  NaN  NaN  \n'Neath the Arizona Skies (1934)          NaN  NaN  NaN  NaN  NaN  NaN  NaN  \n'Round Midnight (1986)                   NaN  NaN  NaN  NaN  NaN  NaN  NaN  \n\n[5 rows x 671 columns]",
      "text/html": "<div>\n<style scoped>\n    .dataframe tbody tr th:only-of-type {\n        vertical-align: middle;\n    }\n\n    .dataframe tbody tr th {\n        vertical-align: top;\n    }\n\n    .dataframe thead th {\n        text-align: right;\n    }\n</style>\n<table border=\"1\" class=\"dataframe\">\n  <thead>\n    <tr style=\"text-align: right;\">\n      <th>userId</th>\n      <th>1</th>\n      <th>2</th>\n      <th>3</th>\n      <th>4</th>\n      <th>5</th>\n      <th>6</th>\n      <th>7</th>\n      <th>8</th>\n      <th>9</th>\n      <th>10</th>\n      <th>...</th>\n      <th>662</th>\n      <th>663</th>\n      <th>664</th>\n      <th>665</th>\n      <th>666</th>\n      <th>667</th>\n      <th>668</th>\n      <th>669</th>\n      <th>670</th>\n      <th>671</th>\n    </tr>\n    <tr>\n      <th>title</th>\n      <th></th>\n      <th></th>\n      <th></th>\n      <th></th>\n      <th></th>\n      <th></th>\n      <th></th>\n      <th></th>\n      <th></th>\n      <th></th>\n      <th></th>\n      <th></th>\n      <th></th>\n      <th></th>\n      <th></th>\n      <th></th>\n      <th></th>\n      <th></th>\n      <th></th>\n      <th></th>\n      <th></th>\n    </tr>\n  </thead>\n  <tbody>\n    <tr>\n      <th>\"Great Performances\" Cats (1998)</th>\n      <td>NaN</td>\n      <td>NaN</td>\n      <td>NaN</td>\n      <td>NaN</td>\n      <td>NaN</td>\n      <td>NaN</td>\n      <td>NaN</td>\n      <td>NaN</td>\n      <td>NaN</td>\n      <td>NaN</td>\n      <td>...</td>\n      <td>NaN</td>\n      <td>NaN</td>\n      <td>NaN</td>\n      <td>NaN</td>\n      <td>NaN</td>\n      <td>NaN</td>\n      <td>NaN</td>\n      <td>NaN</td>\n      <td>NaN</td>\n      <td>NaN</td>\n    </tr>\n    <tr>\n      <th>$9.99 (2008)</th>\n      <td>NaN</td>\n      <td>NaN</td>\n      <td>NaN</td>\n      <td>NaN</td>\n      <td>NaN</td>\n      <td>NaN</td>\n      <td>NaN</td>\n      <td>NaN</td>\n      <td>NaN</td>\n      <td>NaN</td>\n      <td>...</td>\n      <td>NaN</td>\n      <td>NaN</td>\n      <td>NaN</td>\n      <td>NaN</td>\n      <td>NaN</td>\n      <td>NaN</td>\n      <td>NaN</td>\n      <td>NaN</td>\n      <td>NaN</td>\n      <td>NaN</td>\n    </tr>\n    <tr>\n      <th>'Hellboy': The Seeds of Creation (2004)</th>\n      <td>NaN</td>\n      <td>NaN</td>\n      <td>NaN</td>\n      <td>NaN</td>\n      <td>NaN</td>\n      <td>NaN</td>\n      <td>NaN</td>\n      <td>NaN</td>\n      <td>NaN</td>\n      <td>NaN</td>\n      <td>...</td>\n      <td>NaN</td>\n      <td>NaN</td>\n      <td>NaN</td>\n      <td>NaN</td>\n      <td>NaN</td>\n      <td>NaN</td>\n      <td>NaN</td>\n      <td>NaN</td>\n      <td>NaN</td>\n      <td>NaN</td>\n    </tr>\n    <tr>\n      <th>'Neath the Arizona Skies (1934)</th>\n      <td>NaN</td>\n      <td>NaN</td>\n      <td>NaN</td>\n      <td>NaN</td>\n      <td>NaN</td>\n      <td>NaN</td>\n      <td>NaN</td>\n      <td>NaN</td>\n      <td>NaN</td>\n      <td>NaN</td>\n      <td>...</td>\n      <td>NaN</td>\n      <td>NaN</td>\n      <td>NaN</td>\n      <td>NaN</td>\n      <td>NaN</td>\n      <td>NaN</td>\n      <td>NaN</td>\n      <td>NaN</td>\n      <td>NaN</td>\n      <td>NaN</td>\n    </tr>\n    <tr>\n      <th>'Round Midnight (1986)</th>\n      <td>NaN</td>\n      <td>NaN</td>\n      <td>NaN</td>\n      <td>NaN</td>\n      <td>NaN</td>\n      <td>NaN</td>\n      <td>NaN</td>\n      <td>NaN</td>\n      <td>NaN</td>\n      <td>NaN</td>\n      <td>...</td>\n      <td>NaN</td>\n      <td>NaN</td>\n      <td>NaN</td>\n      <td>NaN</td>\n      <td>NaN</td>\n      <td>NaN</td>\n      <td>NaN</td>\n      <td>NaN</td>\n      <td>NaN</td>\n      <td>NaN</td>\n    </tr>\n  </tbody>\n</table>\n<p>5 rows × 671 columns</p>\n</div>"
     },
     "execution_count": 21,
     "metadata": {},
     "output_type": "execute_result"
    }
   ],
   "source": [
    "movie_user_rating.head()"
   ],
   "metadata": {
    "collapsed": false,
    "pycharm": {
     "name": "#%%\n"
    }
   }
  },
  {
   "cell_type": "code",
   "execution_count": 22,
   "outputs": [
    {
     "data": {
      "text/plain": "userId                                   1    2    3    4    5    6    7    \\\ntitle                                                                        \n\"Great Performances\" Cats (1998)         0.0  0.0  0.0  0.0  0.0  0.0  0.0   \n$9.99 (2008)                             0.0  0.0  0.0  0.0  0.0  0.0  0.0   \n'Hellboy': The Seeds of Creation (2004)  0.0  0.0  0.0  0.0  0.0  0.0  0.0   \n\nuserId                                   8    9    10   ...  662  663  664  \\\ntitle                                                   ...                  \n\"Great Performances\" Cats (1998)         0.0  0.0  0.0  ...  0.0  0.0  0.0   \n$9.99 (2008)                             0.0  0.0  0.0  ...  0.0  0.0  0.0   \n'Hellboy': The Seeds of Creation (2004)  0.0  0.0  0.0  ...  0.0  0.0  0.0   \n\nuserId                                   665  666  667  668  669  670  671  \ntitle                                                                       \n\"Great Performances\" Cats (1998)         0.0  0.0  0.0  0.0  0.0  0.0  0.0  \n$9.99 (2008)                             0.0  0.0  0.0  0.0  0.0  0.0  0.0  \n'Hellboy': The Seeds of Creation (2004)  0.0  0.0  0.0  0.0  0.0  0.0  0.0  \n\n[3 rows x 671 columns]",
      "text/html": "<div>\n<style scoped>\n    .dataframe tbody tr th:only-of-type {\n        vertical-align: middle;\n    }\n\n    .dataframe tbody tr th {\n        vertical-align: top;\n    }\n\n    .dataframe thead th {\n        text-align: right;\n    }\n</style>\n<table border=\"1\" class=\"dataframe\">\n  <thead>\n    <tr style=\"text-align: right;\">\n      <th>userId</th>\n      <th>1</th>\n      <th>2</th>\n      <th>3</th>\n      <th>4</th>\n      <th>5</th>\n      <th>6</th>\n      <th>7</th>\n      <th>8</th>\n      <th>9</th>\n      <th>10</th>\n      <th>...</th>\n      <th>662</th>\n      <th>663</th>\n      <th>664</th>\n      <th>665</th>\n      <th>666</th>\n      <th>667</th>\n      <th>668</th>\n      <th>669</th>\n      <th>670</th>\n      <th>671</th>\n    </tr>\n    <tr>\n      <th>title</th>\n      <th></th>\n      <th></th>\n      <th></th>\n      <th></th>\n      <th></th>\n      <th></th>\n      <th></th>\n      <th></th>\n      <th></th>\n      <th></th>\n      <th></th>\n      <th></th>\n      <th></th>\n      <th></th>\n      <th></th>\n      <th></th>\n      <th></th>\n      <th></th>\n      <th></th>\n      <th></th>\n      <th></th>\n    </tr>\n  </thead>\n  <tbody>\n    <tr>\n      <th>\"Great Performances\" Cats (1998)</th>\n      <td>0.0</td>\n      <td>0.0</td>\n      <td>0.0</td>\n      <td>0.0</td>\n      <td>0.0</td>\n      <td>0.0</td>\n      <td>0.0</td>\n      <td>0.0</td>\n      <td>0.0</td>\n      <td>0.0</td>\n      <td>...</td>\n      <td>0.0</td>\n      <td>0.0</td>\n      <td>0.0</td>\n      <td>0.0</td>\n      <td>0.0</td>\n      <td>0.0</td>\n      <td>0.0</td>\n      <td>0.0</td>\n      <td>0.0</td>\n      <td>0.0</td>\n    </tr>\n    <tr>\n      <th>$9.99 (2008)</th>\n      <td>0.0</td>\n      <td>0.0</td>\n      <td>0.0</td>\n      <td>0.0</td>\n      <td>0.0</td>\n      <td>0.0</td>\n      <td>0.0</td>\n      <td>0.0</td>\n      <td>0.0</td>\n      <td>0.0</td>\n      <td>...</td>\n      <td>0.0</td>\n      <td>0.0</td>\n      <td>0.0</td>\n      <td>0.0</td>\n      <td>0.0</td>\n      <td>0.0</td>\n      <td>0.0</td>\n      <td>0.0</td>\n      <td>0.0</td>\n      <td>0.0</td>\n    </tr>\n    <tr>\n      <th>'Hellboy': The Seeds of Creation (2004)</th>\n      <td>0.0</td>\n      <td>0.0</td>\n      <td>0.0</td>\n      <td>0.0</td>\n      <td>0.0</td>\n      <td>0.0</td>\n      <td>0.0</td>\n      <td>0.0</td>\n      <td>0.0</td>\n      <td>0.0</td>\n      <td>...</td>\n      <td>0.0</td>\n      <td>0.0</td>\n      <td>0.0</td>\n      <td>0.0</td>\n      <td>0.0</td>\n      <td>0.0</td>\n      <td>0.0</td>\n      <td>0.0</td>\n      <td>0.0</td>\n      <td>0.0</td>\n    </tr>\n  </tbody>\n</table>\n<p>3 rows × 671 columns</p>\n</div>"
     },
     "execution_count": 22,
     "metadata": {},
     "output_type": "execute_result"
    }
   ],
   "source": [
    "movie_user_rating.fillna(0, inplace = True)\n",
    "movie_user_rating.head(3)"
   ],
   "metadata": {
    "collapsed": false,
    "pycharm": {
     "name": "#%%\n"
    }
   }
  },
  {
   "cell_type": "code",
   "execution_count": 23,
   "outputs": [
    {
     "name": "stdout",
     "output_type": "stream",
     "text": [
      "(9064, 671)\n",
      "(9064, 9064)\n"
     ]
    },
    {
     "data": {
      "text/plain": "title\nGodfather, The (1972)                        1.000000\nGodfather: Part II, The (1974)               0.773685\nGoodfellas (1990)                            0.620349\nOne Flew Over the Cuckoo's Nest (1975)       0.568244\nAmerican Beauty (1999)                       0.557997\nStar Wars: Episode IV - A New Hope (1977)    0.546750\nName: Godfather, The (1972), dtype: float64"
     },
     "execution_count": 23,
     "metadata": {},
     "output_type": "execute_result"
    }
   ],
   "source": [
    "item_based_collabor = cosine_similarity(movie_user_rating)\n",
    "item_based_collabor\n",
    "print(movie_user_rating.shape)\n",
    "print(item_based_collabor.shape)\n",
    "item_based_collabor = pd.DataFrame(data=item_based_collabor, index=movie_user_rating.index,\n",
    "                                   columns=movie_user_rating.index)\n",
    "item_based_collabor.head()\n",
    "\n",
    "def get_item_based_collabor(title):\n",
    "    return item_based_collabor[title].sort_values(ascending=False)[:6]\n",
    "\n",
    "\n",
    "get_item_based_collabor('Godfather, The (1972)')"
   ],
   "metadata": {
    "collapsed": false,
    "pycharm": {
     "name": "#%%\n"
    }
   }
  },
  {
   "cell_type": "code",
   "execution_count": null,
   "outputs": [],
   "source": [],
   "metadata": {
    "collapsed": false,
    "pycharm": {
     "name": "#%%\n"
    }
   }
  }
 ],
 "metadata": {
  "kernelspec": {
   "display_name": "Python 3",
   "language": "python",
   "name": "python3"
  },
  "language_info": {
   "codemirror_mode": {
    "name": "ipython",
    "version": 2
   },
   "file_extension": ".py",
   "mimetype": "text/x-python",
   "name": "python",
   "nbconvert_exporter": "python",
   "pygments_lexer": "ipython2",
   "version": "2.7.6"
  }
 },
 "nbformat": 4,
 "nbformat_minor": 0
}