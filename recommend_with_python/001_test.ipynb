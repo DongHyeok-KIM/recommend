{
 "cells": [
  {
   "cell_type": "code",
   "execution_count": 1,
   "metadata": {
    "collapsed": true
   },
   "outputs": [],
   "source": [
    "# 추천 시스템은 친기업, 친사용자\n",
    "# 서비스의 충성 고객이 될 확률이 높아진다\n",
    "# 그럼 더욱더 많은 데이터, 더욱 견고한 서비스가 됨"
   ]
  },
  {
   "cell_type": "code",
   "execution_count": 2,
   "outputs": [],
   "source": [
    "# 추천 시스템은 콘텐츠 기반, 협업 필터링\n",
    "# 협업 필터링은 메모리 협업, 잠재요인 협업"
   ],
   "metadata": {
    "collapsed": false,
    "pycharm": {
     "name": "#%%\n"
    }
   }
  },
  {
   "cell_type": "code",
   "execution_count": 3,
   "outputs": [],
   "source": [
    "# 메모리 협업: 사용자-아이템 행렬에서 사용자가 아직 평가하지 않은 아이템을 예측\n",
    "# 사용자 기반: 비슷한 고객들이 구매한 제품 추천\n",
    "# 아이템 기반: 어떤 상품을 구매한 고객들이 구매한 제품 추천"
   ],
   "metadata": {
    "collapsed": false,
    "pycharm": {
     "name": "#%%\n"
    }
   }
  },
  {
   "cell_type": "code",
   "execution_count": null,
   "outputs": [],
   "source": [
    "# 잠재요인이 어떤 것인지 명확히 알 수 없음(데이터에 따라 다름)"
   ],
   "metadata": {
    "collapsed": false,
    "pycharm": {
     "name": "#%%\n"
    }
   }
  }
 ],
 "metadata": {
  "kernelspec": {
   "display_name": "Python 3",
   "language": "python",
   "name": "python3"
  },
  "language_info": {
   "codemirror_mode": {
    "name": "ipython",
    "version": 2
   },
   "file_extension": ".py",
   "mimetype": "text/x-python",
   "name": "python",
   "nbconvert_exporter": "python",
   "pygments_lexer": "ipython2",
   "version": "2.7.6"
  }
 },
 "nbformat": 4,
 "nbformat_minor": 0
}