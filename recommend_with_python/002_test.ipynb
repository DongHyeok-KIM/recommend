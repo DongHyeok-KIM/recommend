{
 "cells": [
  {
   "cell_type": "code",
   "execution_count": 1,
   "metadata": {
    "collapsed": true
   },
   "outputs": [],
   "source": [
    "import pandas as pd\n",
    "import numpy as np\n",
    "import matplotlib.pyplot as plt\n",
    "import seaborn as sns\n",
    "from ast import literal_eval\n",
    "from sklearn.feature_extraction.text import TfidfVectorizer\n",
    "from sklearn.feature_extraction.text import CountVectorizer\n",
    "from sklearn.metrics.pairwise import cosine_similarity"
   ]
  },
  {
   "cell_type": "code",
   "execution_count": 2,
   "outputs": [],
   "source": [
    "data = pd.read_csv('./movie_data/tmdb_5000_movies.csv')"
   ],
   "metadata": {
    "collapsed": false,
    "pycharm": {
     "name": "#%%\n"
    }
   }
  },
  {
   "cell_type": "code",
   "execution_count": 3,
   "outputs": [
    {
     "data": {
      "text/plain": "         budget                                             genres  \\\n0     237000000  [{\"id\": 28, \"name\": \"Action\"}, {\"id\": 12, \"nam...   \n1     300000000  [{\"id\": 12, \"name\": \"Adventure\"}, {\"id\": 14, \"...   \n2     245000000  [{\"id\": 28, \"name\": \"Action\"}, {\"id\": 12, \"nam...   \n3     250000000  [{\"id\": 28, \"name\": \"Action\"}, {\"id\": 80, \"nam...   \n4     260000000  [{\"id\": 28, \"name\": \"Action\"}, {\"id\": 12, \"nam...   \n...         ...                                                ...   \n4798     220000  [{\"id\": 28, \"name\": \"Action\"}, {\"id\": 80, \"nam...   \n4799       9000  [{\"id\": 35, \"name\": \"Comedy\"}, {\"id\": 10749, \"...   \n4800          0  [{\"id\": 35, \"name\": \"Comedy\"}, {\"id\": 18, \"nam...   \n4801          0                                                 []   \n4802          0                [{\"id\": 99, \"name\": \"Documentary\"}]   \n\n                                               homepage      id  \\\n0                           http://www.avatarmovie.com/   19995   \n1          http://disney.go.com/disneypictures/pirates/     285   \n2           http://www.sonypictures.com/movies/spectre/  206647   \n3                    http://www.thedarkknightrises.com/   49026   \n4                  http://movies.disney.com/john-carter   49529   \n...                                                 ...     ...   \n4798                                                NaN    9367   \n4799                                                NaN   72766   \n4800  http://www.hallmarkchannel.com/signedsealeddel...  231617   \n4801                        http://shanghaicalling.com/  126186   \n4802                                                NaN   25975   \n\n                                               keywords original_language  \\\n0     [{\"id\": 1463, \"name\": \"culture clash\"}, {\"id\":...                en   \n1     [{\"id\": 270, \"name\": \"ocean\"}, {\"id\": 726, \"na...                en   \n2     [{\"id\": 470, \"name\": \"spy\"}, {\"id\": 818, \"name...                en   \n3     [{\"id\": 849, \"name\": \"dc comics\"}, {\"id\": 853,...                en   \n4     [{\"id\": 818, \"name\": \"based on novel\"}, {\"id\":...                en   \n...                                                 ...               ...   \n4798  [{\"id\": 5616, \"name\": \"united states\\u2013mexi...                es   \n4799                                                 []                en   \n4800  [{\"id\": 248, \"name\": \"date\"}, {\"id\": 699, \"nam...                en   \n4801                                                 []                en   \n4802  [{\"id\": 1523, \"name\": \"obsession\"}, {\"id\": 224...                en   \n\n                                original_title  \\\n0                                       Avatar   \n1     Pirates of the Caribbean: At World's End   \n2                                      Spectre   \n3                        The Dark Knight Rises   \n4                                  John Carter   \n...                                        ...   \n4798                               El Mariachi   \n4799                                 Newlyweds   \n4800                 Signed, Sealed, Delivered   \n4801                          Shanghai Calling   \n4802                         My Date with Drew   \n\n                                               overview  popularity  \\\n0     In the 22nd century, a paraplegic Marine is di...  150.437577   \n1     Captain Barbossa, long believed to be dead, ha...  139.082615   \n2     A cryptic message from Bond’s past sends him o...  107.376788   \n3     Following the death of District Attorney Harve...  112.312950   \n4     John Carter is a war-weary, former military ca...   43.926995   \n...                                                 ...         ...   \n4798  El Mariachi just wants to play his guitar and ...   14.269792   \n4799  A newlywed couple's honeymoon is upended by th...    0.642552   \n4800  \"Signed, Sealed, Delivered\" introduces a dedic...    1.444476   \n4801  When ambitious New York attorney Sam is sent t...    0.857008   \n4802  Ever since the second grade when he first saw ...    1.929883   \n\n                                   production_companies  \\\n0     [{\"name\": \"Ingenious Film Partners\", \"id\": 289...   \n1     [{\"name\": \"Walt Disney Pictures\", \"id\": 2}, {\"...   \n2     [{\"name\": \"Columbia Pictures\", \"id\": 5}, {\"nam...   \n3     [{\"name\": \"Legendary Pictures\", \"id\": 923}, {\"...   \n4           [{\"name\": \"Walt Disney Pictures\", \"id\": 2}]   \n...                                                 ...   \n4798           [{\"name\": \"Columbia Pictures\", \"id\": 5}]   \n4799                                                 []   \n4800  [{\"name\": \"Front Street Pictures\", \"id\": 3958}...   \n4801                                                 []   \n4802  [{\"name\": \"rusty bear entertainment\", \"id\": 87...   \n\n                                   production_countries release_date  \\\n0     [{\"iso_3166_1\": \"US\", \"name\": \"United States o...   2009-12-10   \n1     [{\"iso_3166_1\": \"US\", \"name\": \"United States o...   2007-05-19   \n2     [{\"iso_3166_1\": \"GB\", \"name\": \"United Kingdom\"...   2015-10-26   \n3     [{\"iso_3166_1\": \"US\", \"name\": \"United States o...   2012-07-16   \n4     [{\"iso_3166_1\": \"US\", \"name\": \"United States o...   2012-03-07   \n...                                                 ...          ...   \n4798  [{\"iso_3166_1\": \"MX\", \"name\": \"Mexico\"}, {\"iso...   1992-09-04   \n4799                                                 []   2011-12-26   \n4800  [{\"iso_3166_1\": \"US\", \"name\": \"United States o...   2013-10-13   \n4801  [{\"iso_3166_1\": \"US\", \"name\": \"United States o...   2012-05-03   \n4802  [{\"iso_3166_1\": \"US\", \"name\": \"United States o...   2005-08-05   \n\n         revenue  runtime                                   spoken_languages  \\\n0     2787965087    162.0  [{\"iso_639_1\": \"en\", \"name\": \"English\"}, {\"iso...   \n1      961000000    169.0           [{\"iso_639_1\": \"en\", \"name\": \"English\"}]   \n2      880674609    148.0  [{\"iso_639_1\": \"fr\", \"name\": \"Fran\\u00e7ais\"},...   \n3     1084939099    165.0           [{\"iso_639_1\": \"en\", \"name\": \"English\"}]   \n4      284139100    132.0           [{\"iso_639_1\": \"en\", \"name\": \"English\"}]   \n...          ...      ...                                                ...   \n4798     2040920     81.0      [{\"iso_639_1\": \"es\", \"name\": \"Espa\\u00f1ol\"}]   \n4799           0     85.0                                                 []   \n4800           0    120.0           [{\"iso_639_1\": \"en\", \"name\": \"English\"}]   \n4801           0     98.0           [{\"iso_639_1\": \"en\", \"name\": \"English\"}]   \n4802           0     90.0           [{\"iso_639_1\": \"en\", \"name\": \"English\"}]   \n\n        status                                            tagline  \\\n0     Released                        Enter the World of Pandora.   \n1     Released     At the end of the world, the adventure begins.   \n2     Released                              A Plan No One Escapes   \n3     Released                                    The Legend Ends   \n4     Released               Lost in our world, found in another.   \n...        ...                                                ...   \n4798  Released  He didn't come looking for trouble, but troubl...   \n4799  Released  A newlywed couple's honeymoon is upended by th...   \n4800  Released                                                NaN   \n4801  Released                           A New Yorker in Shanghai   \n4802  Released                                                NaN   \n\n                                         title  vote_average  vote_count  \n0                                       Avatar           7.2       11800  \n1     Pirates of the Caribbean: At World's End           6.9        4500  \n2                                      Spectre           6.3        4466  \n3                        The Dark Knight Rises           7.6        9106  \n4                                  John Carter           6.1        2124  \n...                                        ...           ...         ...  \n4798                               El Mariachi           6.6         238  \n4799                                 Newlyweds           5.9           5  \n4800                 Signed, Sealed, Delivered           7.0           6  \n4801                          Shanghai Calling           5.7           7  \n4802                         My Date with Drew           6.3          16  \n\n[4803 rows x 20 columns]",
      "text/html": "<div>\n<style scoped>\n    .dataframe tbody tr th:only-of-type {\n        vertical-align: middle;\n    }\n\n    .dataframe tbody tr th {\n        vertical-align: top;\n    }\n\n    .dataframe thead th {\n        text-align: right;\n    }\n</style>\n<table border=\"1\" class=\"dataframe\">\n  <thead>\n    <tr style=\"text-align: right;\">\n      <th></th>\n      <th>budget</th>\n      <th>genres</th>\n      <th>homepage</th>\n      <th>id</th>\n      <th>keywords</th>\n      <th>original_language</th>\n      <th>original_title</th>\n      <th>overview</th>\n      <th>popularity</th>\n      <th>production_companies</th>\n      <th>production_countries</th>\n      <th>release_date</th>\n      <th>revenue</th>\n      <th>runtime</th>\n      <th>spoken_languages</th>\n      <th>status</th>\n      <th>tagline</th>\n      <th>title</th>\n      <th>vote_average</th>\n      <th>vote_count</th>\n    </tr>\n  </thead>\n  <tbody>\n    <tr>\n      <th>0</th>\n      <td>237000000</td>\n      <td>[{\"id\": 28, \"name\": \"Action\"}, {\"id\": 12, \"nam...</td>\n      <td>http://www.avatarmovie.com/</td>\n      <td>19995</td>\n      <td>[{\"id\": 1463, \"name\": \"culture clash\"}, {\"id\":...</td>\n      <td>en</td>\n      <td>Avatar</td>\n      <td>In the 22nd century, a paraplegic Marine is di...</td>\n      <td>150.437577</td>\n      <td>[{\"name\": \"Ingenious Film Partners\", \"id\": 289...</td>\n      <td>[{\"iso_3166_1\": \"US\", \"name\": \"United States o...</td>\n      <td>2009-12-10</td>\n      <td>2787965087</td>\n      <td>162.0</td>\n      <td>[{\"iso_639_1\": \"en\", \"name\": \"English\"}, {\"iso...</td>\n      <td>Released</td>\n      <td>Enter the World of Pandora.</td>\n      <td>Avatar</td>\n      <td>7.2</td>\n      <td>11800</td>\n    </tr>\n    <tr>\n      <th>1</th>\n      <td>300000000</td>\n      <td>[{\"id\": 12, \"name\": \"Adventure\"}, {\"id\": 14, \"...</td>\n      <td>http://disney.go.com/disneypictures/pirates/</td>\n      <td>285</td>\n      <td>[{\"id\": 270, \"name\": \"ocean\"}, {\"id\": 726, \"na...</td>\n      <td>en</td>\n      <td>Pirates of the Caribbean: At World's End</td>\n      <td>Captain Barbossa, long believed to be dead, ha...</td>\n      <td>139.082615</td>\n      <td>[{\"name\": \"Walt Disney Pictures\", \"id\": 2}, {\"...</td>\n      <td>[{\"iso_3166_1\": \"US\", \"name\": \"United States o...</td>\n      <td>2007-05-19</td>\n      <td>961000000</td>\n      <td>169.0</td>\n      <td>[{\"iso_639_1\": \"en\", \"name\": \"English\"}]</td>\n      <td>Released</td>\n      <td>At the end of the world, the adventure begins.</td>\n      <td>Pirates of the Caribbean: At World's End</td>\n      <td>6.9</td>\n      <td>4500</td>\n    </tr>\n    <tr>\n      <th>2</th>\n      <td>245000000</td>\n      <td>[{\"id\": 28, \"name\": \"Action\"}, {\"id\": 12, \"nam...</td>\n      <td>http://www.sonypictures.com/movies/spectre/</td>\n      <td>206647</td>\n      <td>[{\"id\": 470, \"name\": \"spy\"}, {\"id\": 818, \"name...</td>\n      <td>en</td>\n      <td>Spectre</td>\n      <td>A cryptic message from Bond’s past sends him o...</td>\n      <td>107.376788</td>\n      <td>[{\"name\": \"Columbia Pictures\", \"id\": 5}, {\"nam...</td>\n      <td>[{\"iso_3166_1\": \"GB\", \"name\": \"United Kingdom\"...</td>\n      <td>2015-10-26</td>\n      <td>880674609</td>\n      <td>148.0</td>\n      <td>[{\"iso_639_1\": \"fr\", \"name\": \"Fran\\u00e7ais\"},...</td>\n      <td>Released</td>\n      <td>A Plan No One Escapes</td>\n      <td>Spectre</td>\n      <td>6.3</td>\n      <td>4466</td>\n    </tr>\n    <tr>\n      <th>3</th>\n      <td>250000000</td>\n      <td>[{\"id\": 28, \"name\": \"Action\"}, {\"id\": 80, \"nam...</td>\n      <td>http://www.thedarkknightrises.com/</td>\n      <td>49026</td>\n      <td>[{\"id\": 849, \"name\": \"dc comics\"}, {\"id\": 853,...</td>\n      <td>en</td>\n      <td>The Dark Knight Rises</td>\n      <td>Following the death of District Attorney Harve...</td>\n      <td>112.312950</td>\n      <td>[{\"name\": \"Legendary Pictures\", \"id\": 923}, {\"...</td>\n      <td>[{\"iso_3166_1\": \"US\", \"name\": \"United States o...</td>\n      <td>2012-07-16</td>\n      <td>1084939099</td>\n      <td>165.0</td>\n      <td>[{\"iso_639_1\": \"en\", \"name\": \"English\"}]</td>\n      <td>Released</td>\n      <td>The Legend Ends</td>\n      <td>The Dark Knight Rises</td>\n      <td>7.6</td>\n      <td>9106</td>\n    </tr>\n    <tr>\n      <th>4</th>\n      <td>260000000</td>\n      <td>[{\"id\": 28, \"name\": \"Action\"}, {\"id\": 12, \"nam...</td>\n      <td>http://movies.disney.com/john-carter</td>\n      <td>49529</td>\n      <td>[{\"id\": 818, \"name\": \"based on novel\"}, {\"id\":...</td>\n      <td>en</td>\n      <td>John Carter</td>\n      <td>John Carter is a war-weary, former military ca...</td>\n      <td>43.926995</td>\n      <td>[{\"name\": \"Walt Disney Pictures\", \"id\": 2}]</td>\n      <td>[{\"iso_3166_1\": \"US\", \"name\": \"United States o...</td>\n      <td>2012-03-07</td>\n      <td>284139100</td>\n      <td>132.0</td>\n      <td>[{\"iso_639_1\": \"en\", \"name\": \"English\"}]</td>\n      <td>Released</td>\n      <td>Lost in our world, found in another.</td>\n      <td>John Carter</td>\n      <td>6.1</td>\n      <td>2124</td>\n    </tr>\n    <tr>\n      <th>...</th>\n      <td>...</td>\n      <td>...</td>\n      <td>...</td>\n      <td>...</td>\n      <td>...</td>\n      <td>...</td>\n      <td>...</td>\n      <td>...</td>\n      <td>...</td>\n      <td>...</td>\n      <td>...</td>\n      <td>...</td>\n      <td>...</td>\n      <td>...</td>\n      <td>...</td>\n      <td>...</td>\n      <td>...</td>\n      <td>...</td>\n      <td>...</td>\n      <td>...</td>\n    </tr>\n    <tr>\n      <th>4798</th>\n      <td>220000</td>\n      <td>[{\"id\": 28, \"name\": \"Action\"}, {\"id\": 80, \"nam...</td>\n      <td>NaN</td>\n      <td>9367</td>\n      <td>[{\"id\": 5616, \"name\": \"united states\\u2013mexi...</td>\n      <td>es</td>\n      <td>El Mariachi</td>\n      <td>El Mariachi just wants to play his guitar and ...</td>\n      <td>14.269792</td>\n      <td>[{\"name\": \"Columbia Pictures\", \"id\": 5}]</td>\n      <td>[{\"iso_3166_1\": \"MX\", \"name\": \"Mexico\"}, {\"iso...</td>\n      <td>1992-09-04</td>\n      <td>2040920</td>\n      <td>81.0</td>\n      <td>[{\"iso_639_1\": \"es\", \"name\": \"Espa\\u00f1ol\"}]</td>\n      <td>Released</td>\n      <td>He didn't come looking for trouble, but troubl...</td>\n      <td>El Mariachi</td>\n      <td>6.6</td>\n      <td>238</td>\n    </tr>\n    <tr>\n      <th>4799</th>\n      <td>9000</td>\n      <td>[{\"id\": 35, \"name\": \"Comedy\"}, {\"id\": 10749, \"...</td>\n      <td>NaN</td>\n      <td>72766</td>\n      <td>[]</td>\n      <td>en</td>\n      <td>Newlyweds</td>\n      <td>A newlywed couple's honeymoon is upended by th...</td>\n      <td>0.642552</td>\n      <td>[]</td>\n      <td>[]</td>\n      <td>2011-12-26</td>\n      <td>0</td>\n      <td>85.0</td>\n      <td>[]</td>\n      <td>Released</td>\n      <td>A newlywed couple's honeymoon is upended by th...</td>\n      <td>Newlyweds</td>\n      <td>5.9</td>\n      <td>5</td>\n    </tr>\n    <tr>\n      <th>4800</th>\n      <td>0</td>\n      <td>[{\"id\": 35, \"name\": \"Comedy\"}, {\"id\": 18, \"nam...</td>\n      <td>http://www.hallmarkchannel.com/signedsealeddel...</td>\n      <td>231617</td>\n      <td>[{\"id\": 248, \"name\": \"date\"}, {\"id\": 699, \"nam...</td>\n      <td>en</td>\n      <td>Signed, Sealed, Delivered</td>\n      <td>\"Signed, Sealed, Delivered\" introduces a dedic...</td>\n      <td>1.444476</td>\n      <td>[{\"name\": \"Front Street Pictures\", \"id\": 3958}...</td>\n      <td>[{\"iso_3166_1\": \"US\", \"name\": \"United States o...</td>\n      <td>2013-10-13</td>\n      <td>0</td>\n      <td>120.0</td>\n      <td>[{\"iso_639_1\": \"en\", \"name\": \"English\"}]</td>\n      <td>Released</td>\n      <td>NaN</td>\n      <td>Signed, Sealed, Delivered</td>\n      <td>7.0</td>\n      <td>6</td>\n    </tr>\n    <tr>\n      <th>4801</th>\n      <td>0</td>\n      <td>[]</td>\n      <td>http://shanghaicalling.com/</td>\n      <td>126186</td>\n      <td>[]</td>\n      <td>en</td>\n      <td>Shanghai Calling</td>\n      <td>When ambitious New York attorney Sam is sent t...</td>\n      <td>0.857008</td>\n      <td>[]</td>\n      <td>[{\"iso_3166_1\": \"US\", \"name\": \"United States o...</td>\n      <td>2012-05-03</td>\n      <td>0</td>\n      <td>98.0</td>\n      <td>[{\"iso_639_1\": \"en\", \"name\": \"English\"}]</td>\n      <td>Released</td>\n      <td>A New Yorker in Shanghai</td>\n      <td>Shanghai Calling</td>\n      <td>5.7</td>\n      <td>7</td>\n    </tr>\n    <tr>\n      <th>4802</th>\n      <td>0</td>\n      <td>[{\"id\": 99, \"name\": \"Documentary\"}]</td>\n      <td>NaN</td>\n      <td>25975</td>\n      <td>[{\"id\": 1523, \"name\": \"obsession\"}, {\"id\": 224...</td>\n      <td>en</td>\n      <td>My Date with Drew</td>\n      <td>Ever since the second grade when he first saw ...</td>\n      <td>1.929883</td>\n      <td>[{\"name\": \"rusty bear entertainment\", \"id\": 87...</td>\n      <td>[{\"iso_3166_1\": \"US\", \"name\": \"United States o...</td>\n      <td>2005-08-05</td>\n      <td>0</td>\n      <td>90.0</td>\n      <td>[{\"iso_639_1\": \"en\", \"name\": \"English\"}]</td>\n      <td>Released</td>\n      <td>NaN</td>\n      <td>My Date with Drew</td>\n      <td>6.3</td>\n      <td>16</td>\n    </tr>\n  </tbody>\n</table>\n<p>4803 rows × 20 columns</p>\n</div>"
     },
     "execution_count": 3,
     "metadata": {},
     "output_type": "execute_result"
    }
   ],
   "source": [
    "data"
   ],
   "metadata": {
    "collapsed": false,
    "pycharm": {
     "name": "#%%\n"
    }
   }
  },
  {
   "cell_type": "code",
   "execution_count": 4,
   "outputs": [
    {
     "name": "stdout",
     "output_type": "stream",
     "text": [
      "['budget', 'genres', 'homepage', 'id', 'keywords', 'original_language', 'original_title', 'overview', 'popularity', 'production_companies', 'production_countries', 'release_date', 'revenue', 'runtime', 'spoken_languages', 'status', 'tagline', 'title', 'vote_average', 'vote_count']\n"
     ]
    }
   ],
   "source": [
    "print(list(data.columns))"
   ],
   "metadata": {
    "collapsed": false,
    "pycharm": {
     "name": "#%%\n"
    }
   }
  },
  {
   "cell_type": "code",
   "execution_count": 5,
   "outputs": [
    {
     "data": {
      "text/plain": "(4803, 20)"
     },
     "execution_count": 5,
     "metadata": {},
     "output_type": "execute_result"
    }
   ],
   "source": [
    "data.shape"
   ],
   "metadata": {
    "collapsed": false,
    "pycharm": {
     "name": "#%%\n"
    }
   }
  },
  {
   "cell_type": "code",
   "execution_count": 6,
   "outputs": [],
   "source": [
    "data = data[['id','genres', 'vote_average', 'vote_count','popularity','title',  'keywords', 'overview']]"
   ],
   "metadata": {
    "collapsed": false,
    "pycharm": {
     "name": "#%%\n"
    }
   }
  },
  {
   "cell_type": "code",
   "execution_count": 7,
   "outputs": [
    {
     "data": {
      "text/plain": "          id                                             genres  vote_average  \\\n0      19995  [{\"id\": 28, \"name\": \"Action\"}, {\"id\": 12, \"nam...           7.2   \n1        285  [{\"id\": 12, \"name\": \"Adventure\"}, {\"id\": 14, \"...           6.9   \n2     206647  [{\"id\": 28, \"name\": \"Action\"}, {\"id\": 12, \"nam...           6.3   \n3      49026  [{\"id\": 28, \"name\": \"Action\"}, {\"id\": 80, \"nam...           7.6   \n4      49529  [{\"id\": 28, \"name\": \"Action\"}, {\"id\": 12, \"nam...           6.1   \n...      ...                                                ...           ...   \n4798    9367  [{\"id\": 28, \"name\": \"Action\"}, {\"id\": 80, \"nam...           6.6   \n4799   72766  [{\"id\": 35, \"name\": \"Comedy\"}, {\"id\": 10749, \"...           5.9   \n4800  231617  [{\"id\": 35, \"name\": \"Comedy\"}, {\"id\": 18, \"nam...           7.0   \n4801  126186                                                 []           5.7   \n4802   25975                [{\"id\": 99, \"name\": \"Documentary\"}]           6.3   \n\n      vote_count  popularity                                     title  \\\n0          11800  150.437577                                    Avatar   \n1           4500  139.082615  Pirates of the Caribbean: At World's End   \n2           4466  107.376788                                   Spectre   \n3           9106  112.312950                     The Dark Knight Rises   \n4           2124   43.926995                               John Carter   \n...          ...         ...                                       ...   \n4798         238   14.269792                               El Mariachi   \n4799           5    0.642552                                 Newlyweds   \n4800           6    1.444476                 Signed, Sealed, Delivered   \n4801           7    0.857008                          Shanghai Calling   \n4802          16    1.929883                         My Date with Drew   \n\n                                               keywords  \\\n0     [{\"id\": 1463, \"name\": \"culture clash\"}, {\"id\":...   \n1     [{\"id\": 270, \"name\": \"ocean\"}, {\"id\": 726, \"na...   \n2     [{\"id\": 470, \"name\": \"spy\"}, {\"id\": 818, \"name...   \n3     [{\"id\": 849, \"name\": \"dc comics\"}, {\"id\": 853,...   \n4     [{\"id\": 818, \"name\": \"based on novel\"}, {\"id\":...   \n...                                                 ...   \n4798  [{\"id\": 5616, \"name\": \"united states\\u2013mexi...   \n4799                                                 []   \n4800  [{\"id\": 248, \"name\": \"date\"}, {\"id\": 699, \"nam...   \n4801                                                 []   \n4802  [{\"id\": 1523, \"name\": \"obsession\"}, {\"id\": 224...   \n\n                                               overview  \n0     In the 22nd century, a paraplegic Marine is di...  \n1     Captain Barbossa, long believed to be dead, ha...  \n2     A cryptic message from Bond’s past sends him o...  \n3     Following the death of District Attorney Harve...  \n4     John Carter is a war-weary, former military ca...  \n...                                                 ...  \n4798  El Mariachi just wants to play his guitar and ...  \n4799  A newlywed couple's honeymoon is upended by th...  \n4800  \"Signed, Sealed, Delivered\" introduces a dedic...  \n4801  When ambitious New York attorney Sam is sent t...  \n4802  Ever since the second grade when he first saw ...  \n\n[4803 rows x 8 columns]",
      "text/html": "<div>\n<style scoped>\n    .dataframe tbody tr th:only-of-type {\n        vertical-align: middle;\n    }\n\n    .dataframe tbody tr th {\n        vertical-align: top;\n    }\n\n    .dataframe thead th {\n        text-align: right;\n    }\n</style>\n<table border=\"1\" class=\"dataframe\">\n  <thead>\n    <tr style=\"text-align: right;\">\n      <th></th>\n      <th>id</th>\n      <th>genres</th>\n      <th>vote_average</th>\n      <th>vote_count</th>\n      <th>popularity</th>\n      <th>title</th>\n      <th>keywords</th>\n      <th>overview</th>\n    </tr>\n  </thead>\n  <tbody>\n    <tr>\n      <th>0</th>\n      <td>19995</td>\n      <td>[{\"id\": 28, \"name\": \"Action\"}, {\"id\": 12, \"nam...</td>\n      <td>7.2</td>\n      <td>11800</td>\n      <td>150.437577</td>\n      <td>Avatar</td>\n      <td>[{\"id\": 1463, \"name\": \"culture clash\"}, {\"id\":...</td>\n      <td>In the 22nd century, a paraplegic Marine is di...</td>\n    </tr>\n    <tr>\n      <th>1</th>\n      <td>285</td>\n      <td>[{\"id\": 12, \"name\": \"Adventure\"}, {\"id\": 14, \"...</td>\n      <td>6.9</td>\n      <td>4500</td>\n      <td>139.082615</td>\n      <td>Pirates of the Caribbean: At World's End</td>\n      <td>[{\"id\": 270, \"name\": \"ocean\"}, {\"id\": 726, \"na...</td>\n      <td>Captain Barbossa, long believed to be dead, ha...</td>\n    </tr>\n    <tr>\n      <th>2</th>\n      <td>206647</td>\n      <td>[{\"id\": 28, \"name\": \"Action\"}, {\"id\": 12, \"nam...</td>\n      <td>6.3</td>\n      <td>4466</td>\n      <td>107.376788</td>\n      <td>Spectre</td>\n      <td>[{\"id\": 470, \"name\": \"spy\"}, {\"id\": 818, \"name...</td>\n      <td>A cryptic message from Bond’s past sends him o...</td>\n    </tr>\n    <tr>\n      <th>3</th>\n      <td>49026</td>\n      <td>[{\"id\": 28, \"name\": \"Action\"}, {\"id\": 80, \"nam...</td>\n      <td>7.6</td>\n      <td>9106</td>\n      <td>112.312950</td>\n      <td>The Dark Knight Rises</td>\n      <td>[{\"id\": 849, \"name\": \"dc comics\"}, {\"id\": 853,...</td>\n      <td>Following the death of District Attorney Harve...</td>\n    </tr>\n    <tr>\n      <th>4</th>\n      <td>49529</td>\n      <td>[{\"id\": 28, \"name\": \"Action\"}, {\"id\": 12, \"nam...</td>\n      <td>6.1</td>\n      <td>2124</td>\n      <td>43.926995</td>\n      <td>John Carter</td>\n      <td>[{\"id\": 818, \"name\": \"based on novel\"}, {\"id\":...</td>\n      <td>John Carter is a war-weary, former military ca...</td>\n    </tr>\n    <tr>\n      <th>...</th>\n      <td>...</td>\n      <td>...</td>\n      <td>...</td>\n      <td>...</td>\n      <td>...</td>\n      <td>...</td>\n      <td>...</td>\n      <td>...</td>\n    </tr>\n    <tr>\n      <th>4798</th>\n      <td>9367</td>\n      <td>[{\"id\": 28, \"name\": \"Action\"}, {\"id\": 80, \"nam...</td>\n      <td>6.6</td>\n      <td>238</td>\n      <td>14.269792</td>\n      <td>El Mariachi</td>\n      <td>[{\"id\": 5616, \"name\": \"united states\\u2013mexi...</td>\n      <td>El Mariachi just wants to play his guitar and ...</td>\n    </tr>\n    <tr>\n      <th>4799</th>\n      <td>72766</td>\n      <td>[{\"id\": 35, \"name\": \"Comedy\"}, {\"id\": 10749, \"...</td>\n      <td>5.9</td>\n      <td>5</td>\n      <td>0.642552</td>\n      <td>Newlyweds</td>\n      <td>[]</td>\n      <td>A newlywed couple's honeymoon is upended by th...</td>\n    </tr>\n    <tr>\n      <th>4800</th>\n      <td>231617</td>\n      <td>[{\"id\": 35, \"name\": \"Comedy\"}, {\"id\": 18, \"nam...</td>\n      <td>7.0</td>\n      <td>6</td>\n      <td>1.444476</td>\n      <td>Signed, Sealed, Delivered</td>\n      <td>[{\"id\": 248, \"name\": \"date\"}, {\"id\": 699, \"nam...</td>\n      <td>\"Signed, Sealed, Delivered\" introduces a dedic...</td>\n    </tr>\n    <tr>\n      <th>4801</th>\n      <td>126186</td>\n      <td>[]</td>\n      <td>5.7</td>\n      <td>7</td>\n      <td>0.857008</td>\n      <td>Shanghai Calling</td>\n      <td>[]</td>\n      <td>When ambitious New York attorney Sam is sent t...</td>\n    </tr>\n    <tr>\n      <th>4802</th>\n      <td>25975</td>\n      <td>[{\"id\": 99, \"name\": \"Documentary\"}]</td>\n      <td>6.3</td>\n      <td>16</td>\n      <td>1.929883</td>\n      <td>My Date with Drew</td>\n      <td>[{\"id\": 1523, \"name\": \"obsession\"}, {\"id\": 224...</td>\n      <td>Ever since the second grade when he first saw ...</td>\n    </tr>\n  </tbody>\n</table>\n<p>4803 rows × 8 columns</p>\n</div>"
     },
     "execution_count": 7,
     "metadata": {},
     "output_type": "execute_result"
    }
   ],
   "source": [
    "data"
   ],
   "metadata": {
    "collapsed": false,
    "pycharm": {
     "name": "#%%\n"
    }
   }
  },
  {
   "cell_type": "code",
   "execution_count": 8,
   "outputs": [
    {
     "data": {
      "text/plain": "1683.8999999999987"
     },
     "execution_count": 8,
     "metadata": {},
     "output_type": "execute_result"
    }
   ],
   "source": [
    "tmp_m = data['vote_count'].quantile(0.89)\n",
    "tmp_m"
   ],
   "metadata": {
    "collapsed": false,
    "pycharm": {
     "name": "#%%\n"
    }
   }
  },
  {
   "cell_type": "code",
   "execution_count": 9,
   "outputs": [
    {
     "data": {
      "text/plain": "(529, 8)"
     },
     "execution_count": 9,
     "metadata": {},
     "output_type": "execute_result"
    }
   ],
   "source": [
    "tmp_data = data.copy().loc[data['vote_count'] >= tmp_m]\n",
    "tmp_data.shape"
   ],
   "metadata": {
    "collapsed": false,
    "pycharm": {
     "name": "#%%\n"
    }
   }
  },
  {
   "cell_type": "code",
   "execution_count": 10,
   "outputs": [],
   "source": [
    "del tmp_data\n",
    "\n",
    "m = data['vote_count'].quantile(0.9)\n",
    "data = data.loc[data['vote_count'] >= m]"
   ],
   "metadata": {
    "collapsed": false,
    "pycharm": {
     "name": "#%%\n"
    }
   }
  },
  {
   "cell_type": "code",
   "execution_count": 11,
   "outputs": [
    {
     "data": {
      "text/plain": "(481, 8)"
     },
     "execution_count": 11,
     "metadata": {},
     "output_type": "execute_result"
    }
   ],
   "source": [
    "data.shape"
   ],
   "metadata": {
    "collapsed": false,
    "pycharm": {
     "name": "#%%\n"
    }
   }
  },
  {
   "cell_type": "code",
   "execution_count": 12,
   "outputs": [],
   "source": [
    "\n",
    "C = data['vote_average'].mean()"
   ],
   "metadata": {
    "collapsed": false,
    "pycharm": {
     "name": "#%%\n"
    }
   }
  },
  {
   "cell_type": "code",
   "source": [
    "m"
   ],
   "metadata": {
    "collapsed": false,
    "pycharm": {
     "name": "#%%\n"
    }
   },
   "execution_count": 13,
   "outputs": [
    {
     "data": {
      "text/plain": "1838.4000000000015"
     },
     "execution_count": 13,
     "metadata": {},
     "output_type": "execute_result"
    }
   ]
  },
  {
   "cell_type": "code",
   "execution_count": 14,
   "outputs": [],
   "source": [
    "def weighted_rating(x, m=m, C=C):\n",
    "    v = x['vote_count']\n",
    "    R = x['vote_average']\n",
    "\n",
    "    return ( v / (v+m) * R ) + (m / (m + v) * C)"
   ],
   "metadata": {
    "collapsed": false,
    "pycharm": {
     "name": "#%%\n"
    }
   }
  },
  {
   "cell_type": "code",
   "execution_count": 15,
   "outputs": [
    {
     "name": "stderr",
     "output_type": "stream",
     "text": [
      "/var/folders/50/l1xpjcld4v986zh9v4c5yq_w0000gn/T/ipykernel_99177/329418326.py:1: SettingWithCopyWarning: \n",
      "A value is trying to be set on a copy of a slice from a DataFrame.\n",
      "Try using .loc[row_indexer,col_indexer] = value instead\n",
      "\n",
      "See the caveats in the documentation: https://pandas.pydata.org/pandas-docs/stable/user_guide/indexing.html#returning-a-view-versus-a-copy\n",
      "  data['score'] = data.apply(weighted_rating, axis = 1)\n"
     ]
    }
   ],
   "source": [
    "data['score'] = data.apply(weighted_rating, axis = 1)"
   ],
   "metadata": {
    "collapsed": false,
    "pycharm": {
     "name": "#%%\n"
    }
   }
  },
  {
   "cell_type": "code",
   "execution_count": 16,
   "outputs": [
    {
     "data": {
      "text/plain": "          id                                             genres  vote_average  \\\n0      19995  [{\"id\": 28, \"name\": \"Action\"}, {\"id\": 12, \"nam...           7.2   \n1        285  [{\"id\": 12, \"name\": \"Adventure\"}, {\"id\": 14, \"...           6.9   \n2     206647  [{\"id\": 28, \"name\": \"Action\"}, {\"id\": 12, \"nam...           6.3   \n3      49026  [{\"id\": 28, \"name\": \"Action\"}, {\"id\": 80, \"nam...           7.6   \n4      49529  [{\"id\": 28, \"name\": \"Action\"}, {\"id\": 12, \"nam...           6.1   \n...      ...                                                ...           ...   \n4291     176  [{\"id\": 27, \"name\": \"Horror\"}, {\"id\": 9648, \"n...           7.2   \n4300     500  [{\"id\": 80, \"name\": \"Crime\"}, {\"id\": 53, \"name...           8.0   \n4302     429                    [{\"id\": 37, \"name\": \"Western\"}]           8.1   \n4337     103  [{\"id\": 80, \"name\": \"Crime\"}, {\"id\": 18, \"name...           8.0   \n4602     389                      [{\"id\": 18, \"name\": \"Drama\"}]           8.2   \n\n      vote_count  popularity                                     title  \\\n0          11800  150.437577                                    Avatar   \n1           4500  139.082615  Pirates of the Caribbean: At World's End   \n2           4466  107.376788                                   Spectre   \n3           9106  112.312950                     The Dark Knight Rises   \n4           2124   43.926995                               John Carter   \n...          ...         ...                                       ...   \n4291        2184   63.655973                                       Saw   \n4300        3697   66.925866                            Reservoir Dogs   \n4302        2311   88.377076            The Good, the Bad and the Ugly   \n4337        2535   58.845025                               Taxi Driver   \n4602        2078   59.259204                              12 Angry Men   \n\n                                               keywords  \\\n0     [{\"id\": 1463, \"name\": \"culture clash\"}, {\"id\":...   \n1     [{\"id\": 270, \"name\": \"ocean\"}, {\"id\": 726, \"na...   \n2     [{\"id\": 470, \"name\": \"spy\"}, {\"id\": 818, \"name...   \n3     [{\"id\": 849, \"name\": \"dc comics\"}, {\"id\": 853,...   \n4     [{\"id\": 818, \"name\": \"based on novel\"}, {\"id\":...   \n...                                                 ...   \n4291  [{\"id\": 1366, \"name\": \"shotgun\"}, {\"id\": 13000...   \n4300  [{\"id\": 2052, \"name\": \"traitor\"}, {\"id\": 6099,...   \n4302  [{\"id\": 801, \"name\": \"bounty hunter\"}, {\"id\": ...   \n4337  [{\"id\": 422, \"name\": \"vietnam veteran\"}, {\"id\"...   \n4602  [{\"id\": 934, \"name\": \"judge\"}, {\"id\": 1417, \"n...   \n\n                                               overview     score  \n0     In the 22nd century, a paraplegic Marine is di...  7.168053  \n1     Captain Barbossa, long believed to be dead, ha...  6.918271  \n2     A cryptic message from Bond’s past sends him o...  6.493333  \n3     Following the death of District Attorney Harve...  7.492998  \n4     John Carter is a war-weary, former military ca...  6.500396  \n...                                                 ...       ...  \n4291  Obsessed with teaching his victims the value o...  7.091679  \n4300  A botched robbery indicates a police informant...  7.655593  \n4302  While the Civil War rages between the Union an...  7.596247  \n4337  A mentally unstable Vietnam War veteran works ...  7.564085  \n4602  The defense and the prosecution have rested an...  7.619336  \n\n[481 rows x 9 columns]",
      "text/html": "<div>\n<style scoped>\n    .dataframe tbody tr th:only-of-type {\n        vertical-align: middle;\n    }\n\n    .dataframe tbody tr th {\n        vertical-align: top;\n    }\n\n    .dataframe thead th {\n        text-align: right;\n    }\n</style>\n<table border=\"1\" class=\"dataframe\">\n  <thead>\n    <tr style=\"text-align: right;\">\n      <th></th>\n      <th>id</th>\n      <th>genres</th>\n      <th>vote_average</th>\n      <th>vote_count</th>\n      <th>popularity</th>\n      <th>title</th>\n      <th>keywords</th>\n      <th>overview</th>\n      <th>score</th>\n    </tr>\n  </thead>\n  <tbody>\n    <tr>\n      <th>0</th>\n      <td>19995</td>\n      <td>[{\"id\": 28, \"name\": \"Action\"}, {\"id\": 12, \"nam...</td>\n      <td>7.2</td>\n      <td>11800</td>\n      <td>150.437577</td>\n      <td>Avatar</td>\n      <td>[{\"id\": 1463, \"name\": \"culture clash\"}, {\"id\":...</td>\n      <td>In the 22nd century, a paraplegic Marine is di...</td>\n      <td>7.168053</td>\n    </tr>\n    <tr>\n      <th>1</th>\n      <td>285</td>\n      <td>[{\"id\": 12, \"name\": \"Adventure\"}, {\"id\": 14, \"...</td>\n      <td>6.9</td>\n      <td>4500</td>\n      <td>139.082615</td>\n      <td>Pirates of the Caribbean: At World's End</td>\n      <td>[{\"id\": 270, \"name\": \"ocean\"}, {\"id\": 726, \"na...</td>\n      <td>Captain Barbossa, long believed to be dead, ha...</td>\n      <td>6.918271</td>\n    </tr>\n    <tr>\n      <th>2</th>\n      <td>206647</td>\n      <td>[{\"id\": 28, \"name\": \"Action\"}, {\"id\": 12, \"nam...</td>\n      <td>6.3</td>\n      <td>4466</td>\n      <td>107.376788</td>\n      <td>Spectre</td>\n      <td>[{\"id\": 470, \"name\": \"spy\"}, {\"id\": 818, \"name...</td>\n      <td>A cryptic message from Bond’s past sends him o...</td>\n      <td>6.493333</td>\n    </tr>\n    <tr>\n      <th>3</th>\n      <td>49026</td>\n      <td>[{\"id\": 28, \"name\": \"Action\"}, {\"id\": 80, \"nam...</td>\n      <td>7.6</td>\n      <td>9106</td>\n      <td>112.312950</td>\n      <td>The Dark Knight Rises</td>\n      <td>[{\"id\": 849, \"name\": \"dc comics\"}, {\"id\": 853,...</td>\n      <td>Following the death of District Attorney Harve...</td>\n      <td>7.492998</td>\n    </tr>\n    <tr>\n      <th>4</th>\n      <td>49529</td>\n      <td>[{\"id\": 28, \"name\": \"Action\"}, {\"id\": 12, \"nam...</td>\n      <td>6.1</td>\n      <td>2124</td>\n      <td>43.926995</td>\n      <td>John Carter</td>\n      <td>[{\"id\": 818, \"name\": \"based on novel\"}, {\"id\":...</td>\n      <td>John Carter is a war-weary, former military ca...</td>\n      <td>6.500396</td>\n    </tr>\n    <tr>\n      <th>...</th>\n      <td>...</td>\n      <td>...</td>\n      <td>...</td>\n      <td>...</td>\n      <td>...</td>\n      <td>...</td>\n      <td>...</td>\n      <td>...</td>\n      <td>...</td>\n    </tr>\n    <tr>\n      <th>4291</th>\n      <td>176</td>\n      <td>[{\"id\": 27, \"name\": \"Horror\"}, {\"id\": 9648, \"n...</td>\n      <td>7.2</td>\n      <td>2184</td>\n      <td>63.655973</td>\n      <td>Saw</td>\n      <td>[{\"id\": 1366, \"name\": \"shotgun\"}, {\"id\": 13000...</td>\n      <td>Obsessed with teaching his victims the value o...</td>\n      <td>7.091679</td>\n    </tr>\n    <tr>\n      <th>4300</th>\n      <td>500</td>\n      <td>[{\"id\": 80, \"name\": \"Crime\"}, {\"id\": 53, \"name...</td>\n      <td>8.0</td>\n      <td>3697</td>\n      <td>66.925866</td>\n      <td>Reservoir Dogs</td>\n      <td>[{\"id\": 2052, \"name\": \"traitor\"}, {\"id\": 6099,...</td>\n      <td>A botched robbery indicates a police informant...</td>\n      <td>7.655593</td>\n    </tr>\n    <tr>\n      <th>4302</th>\n      <td>429</td>\n      <td>[{\"id\": 37, \"name\": \"Western\"}]</td>\n      <td>8.1</td>\n      <td>2311</td>\n      <td>88.377076</td>\n      <td>The Good, the Bad and the Ugly</td>\n      <td>[{\"id\": 801, \"name\": \"bounty hunter\"}, {\"id\": ...</td>\n      <td>While the Civil War rages between the Union an...</td>\n      <td>7.596247</td>\n    </tr>\n    <tr>\n      <th>4337</th>\n      <td>103</td>\n      <td>[{\"id\": 80, \"name\": \"Crime\"}, {\"id\": 18, \"name...</td>\n      <td>8.0</td>\n      <td>2535</td>\n      <td>58.845025</td>\n      <td>Taxi Driver</td>\n      <td>[{\"id\": 422, \"name\": \"vietnam veteran\"}, {\"id\"...</td>\n      <td>A mentally unstable Vietnam War veteran works ...</td>\n      <td>7.564085</td>\n    </tr>\n    <tr>\n      <th>4602</th>\n      <td>389</td>\n      <td>[{\"id\": 18, \"name\": \"Drama\"}]</td>\n      <td>8.2</td>\n      <td>2078</td>\n      <td>59.259204</td>\n      <td>12 Angry Men</td>\n      <td>[{\"id\": 934, \"name\": \"judge\"}, {\"id\": 1417, \"n...</td>\n      <td>The defense and the prosecution have rested an...</td>\n      <td>7.619336</td>\n    </tr>\n  </tbody>\n</table>\n<p>481 rows × 9 columns</p>\n</div>"
     },
     "execution_count": 16,
     "metadata": {},
     "output_type": "execute_result"
    }
   ],
   "source": [
    "data"
   ],
   "metadata": {
    "collapsed": false,
    "pycharm": {
     "name": "#%%\n"
    }
   }
  },
  {
   "cell_type": "code",
   "execution_count": 17,
   "outputs": [
    {
     "data": {
      "text/plain": "(481, 9)"
     },
     "execution_count": 17,
     "metadata": {},
     "output_type": "execute_result"
    }
   ],
   "source": [
    "data.shape"
   ],
   "metadata": {
    "collapsed": false,
    "pycharm": {
     "name": "#%%\n"
    }
   }
  },
  {
   "cell_type": "code",
   "execution_count": 18,
   "outputs": [
    {
     "name": "stderr",
     "output_type": "stream",
     "text": [
      "/var/folders/50/l1xpjcld4v986zh9v4c5yq_w0000gn/T/ipykernel_99177/1627362080.py:1: SettingWithCopyWarning: \n",
      "A value is trying to be set on a copy of a slice from a DataFrame.\n",
      "Try using .loc[row_indexer,col_indexer] = value instead\n",
      "\n",
      "See the caveats in the documentation: https://pandas.pydata.org/pandas-docs/stable/user_guide/indexing.html#returning-a-view-versus-a-copy\n",
      "  data['genres'] = data['genres'].apply(literal_eval)\n",
      "/var/folders/50/l1xpjcld4v986zh9v4c5yq_w0000gn/T/ipykernel_99177/1627362080.py:2: SettingWithCopyWarning: \n",
      "A value is trying to be set on a copy of a slice from a DataFrame.\n",
      "Try using .loc[row_indexer,col_indexer] = value instead\n",
      "\n",
      "See the caveats in the documentation: https://pandas.pydata.org/pandas-docs/stable/user_guide/indexing.html#returning-a-view-versus-a-copy\n",
      "  data['keywords'] = data['keywords'].apply(literal_eval)\n"
     ]
    }
   ],
   "source": [
    "data['genres'] = data['genres'].apply(literal_eval)\n",
    "data['keywords'] = data['keywords'].apply(literal_eval)"
   ],
   "metadata": {
    "collapsed": false,
    "pycharm": {
     "name": "#%%\n"
    }
   }
  },
  {
   "cell_type": "code",
   "execution_count": 19,
   "outputs": [
    {
     "data": {
      "text/plain": "          id                                             genres  vote_average  \\\n0      19995  [{'id': 28, 'name': 'Action'}, {'id': 12, 'nam...           7.2   \n1        285  [{'id': 12, 'name': 'Adventure'}, {'id': 14, '...           6.9   \n2     206647  [{'id': 28, 'name': 'Action'}, {'id': 12, 'nam...           6.3   \n3      49026  [{'id': 28, 'name': 'Action'}, {'id': 80, 'nam...           7.6   \n4      49529  [{'id': 28, 'name': 'Action'}, {'id': 12, 'nam...           6.1   \n...      ...                                                ...           ...   \n4291     176  [{'id': 27, 'name': 'Horror'}, {'id': 9648, 'n...           7.2   \n4300     500  [{'id': 80, 'name': 'Crime'}, {'id': 53, 'name...           8.0   \n4302     429                    [{'id': 37, 'name': 'Western'}]           8.1   \n4337     103  [{'id': 80, 'name': 'Crime'}, {'id': 18, 'name...           8.0   \n4602     389                      [{'id': 18, 'name': 'Drama'}]           8.2   \n\n      vote_count  popularity                                     title  \\\n0          11800  150.437577                                    Avatar   \n1           4500  139.082615  Pirates of the Caribbean: At World's End   \n2           4466  107.376788                                   Spectre   \n3           9106  112.312950                     The Dark Knight Rises   \n4           2124   43.926995                               John Carter   \n...          ...         ...                                       ...   \n4291        2184   63.655973                                       Saw   \n4300        3697   66.925866                            Reservoir Dogs   \n4302        2311   88.377076            The Good, the Bad and the Ugly   \n4337        2535   58.845025                               Taxi Driver   \n4602        2078   59.259204                              12 Angry Men   \n\n                                               keywords  \\\n0     [{'id': 1463, 'name': 'culture clash'}, {'id':...   \n1     [{'id': 270, 'name': 'ocean'}, {'id': 726, 'na...   \n2     [{'id': 470, 'name': 'spy'}, {'id': 818, 'name...   \n3     [{'id': 849, 'name': 'dc comics'}, {'id': 853,...   \n4     [{'id': 818, 'name': 'based on novel'}, {'id':...   \n...                                                 ...   \n4291  [{'id': 1366, 'name': 'shotgun'}, {'id': 13000...   \n4300  [{'id': 2052, 'name': 'traitor'}, {'id': 6099,...   \n4302  [{'id': 801, 'name': 'bounty hunter'}, {'id': ...   \n4337  [{'id': 422, 'name': 'vietnam veteran'}, {'id'...   \n4602  [{'id': 934, 'name': 'judge'}, {'id': 1417, 'n...   \n\n                                               overview     score  \n0     In the 22nd century, a paraplegic Marine is di...  7.168053  \n1     Captain Barbossa, long believed to be dead, ha...  6.918271  \n2     A cryptic message from Bond’s past sends him o...  6.493333  \n3     Following the death of District Attorney Harve...  7.492998  \n4     John Carter is a war-weary, former military ca...  6.500396  \n...                                                 ...       ...  \n4291  Obsessed with teaching his victims the value o...  7.091679  \n4300  A botched robbery indicates a police informant...  7.655593  \n4302  While the Civil War rages between the Union an...  7.596247  \n4337  A mentally unstable Vietnam War veteran works ...  7.564085  \n4602  The defense and the prosecution have rested an...  7.619336  \n\n[481 rows x 9 columns]",
      "text/html": "<div>\n<style scoped>\n    .dataframe tbody tr th:only-of-type {\n        vertical-align: middle;\n    }\n\n    .dataframe tbody tr th {\n        vertical-align: top;\n    }\n\n    .dataframe thead th {\n        text-align: right;\n    }\n</style>\n<table border=\"1\" class=\"dataframe\">\n  <thead>\n    <tr style=\"text-align: right;\">\n      <th></th>\n      <th>id</th>\n      <th>genres</th>\n      <th>vote_average</th>\n      <th>vote_count</th>\n      <th>popularity</th>\n      <th>title</th>\n      <th>keywords</th>\n      <th>overview</th>\n      <th>score</th>\n    </tr>\n  </thead>\n  <tbody>\n    <tr>\n      <th>0</th>\n      <td>19995</td>\n      <td>[{'id': 28, 'name': 'Action'}, {'id': 12, 'nam...</td>\n      <td>7.2</td>\n      <td>11800</td>\n      <td>150.437577</td>\n      <td>Avatar</td>\n      <td>[{'id': 1463, 'name': 'culture clash'}, {'id':...</td>\n      <td>In the 22nd century, a paraplegic Marine is di...</td>\n      <td>7.168053</td>\n    </tr>\n    <tr>\n      <th>1</th>\n      <td>285</td>\n      <td>[{'id': 12, 'name': 'Adventure'}, {'id': 14, '...</td>\n      <td>6.9</td>\n      <td>4500</td>\n      <td>139.082615</td>\n      <td>Pirates of the Caribbean: At World's End</td>\n      <td>[{'id': 270, 'name': 'ocean'}, {'id': 726, 'na...</td>\n      <td>Captain Barbossa, long believed to be dead, ha...</td>\n      <td>6.918271</td>\n    </tr>\n    <tr>\n      <th>2</th>\n      <td>206647</td>\n      <td>[{'id': 28, 'name': 'Action'}, {'id': 12, 'nam...</td>\n      <td>6.3</td>\n      <td>4466</td>\n      <td>107.376788</td>\n      <td>Spectre</td>\n      <td>[{'id': 470, 'name': 'spy'}, {'id': 818, 'name...</td>\n      <td>A cryptic message from Bond’s past sends him o...</td>\n      <td>6.493333</td>\n    </tr>\n    <tr>\n      <th>3</th>\n      <td>49026</td>\n      <td>[{'id': 28, 'name': 'Action'}, {'id': 80, 'nam...</td>\n      <td>7.6</td>\n      <td>9106</td>\n      <td>112.312950</td>\n      <td>The Dark Knight Rises</td>\n      <td>[{'id': 849, 'name': 'dc comics'}, {'id': 853,...</td>\n      <td>Following the death of District Attorney Harve...</td>\n      <td>7.492998</td>\n    </tr>\n    <tr>\n      <th>4</th>\n      <td>49529</td>\n      <td>[{'id': 28, 'name': 'Action'}, {'id': 12, 'nam...</td>\n      <td>6.1</td>\n      <td>2124</td>\n      <td>43.926995</td>\n      <td>John Carter</td>\n      <td>[{'id': 818, 'name': 'based on novel'}, {'id':...</td>\n      <td>John Carter is a war-weary, former military ca...</td>\n      <td>6.500396</td>\n    </tr>\n    <tr>\n      <th>...</th>\n      <td>...</td>\n      <td>...</td>\n      <td>...</td>\n      <td>...</td>\n      <td>...</td>\n      <td>...</td>\n      <td>...</td>\n      <td>...</td>\n      <td>...</td>\n    </tr>\n    <tr>\n      <th>4291</th>\n      <td>176</td>\n      <td>[{'id': 27, 'name': 'Horror'}, {'id': 9648, 'n...</td>\n      <td>7.2</td>\n      <td>2184</td>\n      <td>63.655973</td>\n      <td>Saw</td>\n      <td>[{'id': 1366, 'name': 'shotgun'}, {'id': 13000...</td>\n      <td>Obsessed with teaching his victims the value o...</td>\n      <td>7.091679</td>\n    </tr>\n    <tr>\n      <th>4300</th>\n      <td>500</td>\n      <td>[{'id': 80, 'name': 'Crime'}, {'id': 53, 'name...</td>\n      <td>8.0</td>\n      <td>3697</td>\n      <td>66.925866</td>\n      <td>Reservoir Dogs</td>\n      <td>[{'id': 2052, 'name': 'traitor'}, {'id': 6099,...</td>\n      <td>A botched robbery indicates a police informant...</td>\n      <td>7.655593</td>\n    </tr>\n    <tr>\n      <th>4302</th>\n      <td>429</td>\n      <td>[{'id': 37, 'name': 'Western'}]</td>\n      <td>8.1</td>\n      <td>2311</td>\n      <td>88.377076</td>\n      <td>The Good, the Bad and the Ugly</td>\n      <td>[{'id': 801, 'name': 'bounty hunter'}, {'id': ...</td>\n      <td>While the Civil War rages between the Union an...</td>\n      <td>7.596247</td>\n    </tr>\n    <tr>\n      <th>4337</th>\n      <td>103</td>\n      <td>[{'id': 80, 'name': 'Crime'}, {'id': 18, 'name...</td>\n      <td>8.0</td>\n      <td>2535</td>\n      <td>58.845025</td>\n      <td>Taxi Driver</td>\n      <td>[{'id': 422, 'name': 'vietnam veteran'}, {'id'...</td>\n      <td>A mentally unstable Vietnam War veteran works ...</td>\n      <td>7.564085</td>\n    </tr>\n    <tr>\n      <th>4602</th>\n      <td>389</td>\n      <td>[{'id': 18, 'name': 'Drama'}]</td>\n      <td>8.2</td>\n      <td>2078</td>\n      <td>59.259204</td>\n      <td>12 Angry Men</td>\n      <td>[{'id': 934, 'name': 'judge'}, {'id': 1417, 'n...</td>\n      <td>The defense and the prosecution have rested an...</td>\n      <td>7.619336</td>\n    </tr>\n  </tbody>\n</table>\n<p>481 rows × 9 columns</p>\n</div>"
     },
     "execution_count": 19,
     "metadata": {},
     "output_type": "execute_result"
    }
   ],
   "source": [
    "data"
   ],
   "metadata": {
    "collapsed": false,
    "pycharm": {
     "name": "#%%\n"
    }
   }
  },
  {
   "cell_type": "code",
   "execution_count": 20,
   "outputs": [
    {
     "name": "stderr",
     "output_type": "stream",
     "text": [
      "/var/folders/50/l1xpjcld4v986zh9v4c5yq_w0000gn/T/ipykernel_99177/1666764706.py:1: SettingWithCopyWarning: \n",
      "A value is trying to be set on a copy of a slice from a DataFrame.\n",
      "Try using .loc[row_indexer,col_indexer] = value instead\n",
      "\n",
      "See the caveats in the documentation: https://pandas.pydata.org/pandas-docs/stable/user_guide/indexing.html#returning-a-view-versus-a-copy\n",
      "  data['genres'] = data['genres'].apply(lambda x : [d['name'] for d in x]).apply(lambda x : \" \".join(x))\n",
      "/var/folders/50/l1xpjcld4v986zh9v4c5yq_w0000gn/T/ipykernel_99177/1666764706.py:2: SettingWithCopyWarning: \n",
      "A value is trying to be set on a copy of a slice from a DataFrame.\n",
      "Try using .loc[row_indexer,col_indexer] = value instead\n",
      "\n",
      "See the caveats in the documentation: https://pandas.pydata.org/pandas-docs/stable/user_guide/indexing.html#returning-a-view-versus-a-copy\n",
      "  data['keywords'] = data['keywords'].apply(lambda x : [d['name'] for d in x]).apply(lambda x : \" \".join(x))\n"
     ]
    }
   ],
   "source": [
    "data['genres'] = data['genres'].apply(lambda x : [d['name'] for d in x]).apply(lambda x : \" \".join(x))\n",
    "data['keywords'] = data['keywords'].apply(lambda x : [d['name'] for d in x]).apply(lambda x : \" \".join(x))"
   ],
   "metadata": {
    "collapsed": false,
    "pycharm": {
     "name": "#%%\n"
    }
   }
  },
  {
   "cell_type": "code",
   "execution_count": 21,
   "outputs": [
    {
     "data": {
      "text/plain": "          id                                    genres  vote_average  \\\n0      19995  Action Adventure Fantasy Science Fiction           7.2   \n1        285                  Adventure Fantasy Action           6.9   \n2     206647                    Action Adventure Crime           6.3   \n3      49026               Action Crime Drama Thriller           7.6   \n4      49529          Action Adventure Science Fiction           6.1   \n...      ...                                       ...           ...   \n4291     176                      Horror Mystery Crime           7.2   \n4300     500                            Crime Thriller           8.0   \n4302     429                                   Western           8.1   \n4337     103                               Crime Drama           8.0   \n4602     389                                     Drama           8.2   \n\n      vote_count  popularity                                     title  \\\n0          11800  150.437577                                    Avatar   \n1           4500  139.082615  Pirates of the Caribbean: At World's End   \n2           4466  107.376788                                   Spectre   \n3           9106  112.312950                     The Dark Knight Rises   \n4           2124   43.926995                               John Carter   \n...          ...         ...                                       ...   \n4291        2184   63.655973                                       Saw   \n4300        3697   66.925866                            Reservoir Dogs   \n4302        2311   88.377076            The Good, the Bad and the Ugly   \n4337        2535   58.845025                               Taxi Driver   \n4602        2078   59.259204                              12 Angry Men   \n\n                                               keywords  \\\n0     culture clash future space war space colony so...   \n1     ocean drug abuse exotic island east india trad...   \n2     spy based on novel secret agent sequel mi6 bri...   \n3     dc comics crime fighter terrorist secret ident...   \n4     based on novel mars medallion space travel pri...   \n...                                                 ...   \n4291  shotgun based on short film sadist pistol chai...   \n4300  traitor jewelry psychopath thief heist betraya...   \n4302  bounty hunter refugee gold anti hero gallows h...   \n4337  vietnam veteran taxi obsession drug dealer nig...   \n4602  judge jurors sultriness death penalty father m...   \n\n                                               overview     score  \n0     In the 22nd century, a paraplegic Marine is di...  7.168053  \n1     Captain Barbossa, long believed to be dead, ha...  6.918271  \n2     A cryptic message from Bond’s past sends him o...  6.493333  \n3     Following the death of District Attorney Harve...  7.492998  \n4     John Carter is a war-weary, former military ca...  6.500396  \n...                                                 ...       ...  \n4291  Obsessed with teaching his victims the value o...  7.091679  \n4300  A botched robbery indicates a police informant...  7.655593  \n4302  While the Civil War rages between the Union an...  7.596247  \n4337  A mentally unstable Vietnam War veteran works ...  7.564085  \n4602  The defense and the prosecution have rested an...  7.619336  \n\n[481 rows x 9 columns]",
      "text/html": "<div>\n<style scoped>\n    .dataframe tbody tr th:only-of-type {\n        vertical-align: middle;\n    }\n\n    .dataframe tbody tr th {\n        vertical-align: top;\n    }\n\n    .dataframe thead th {\n        text-align: right;\n    }\n</style>\n<table border=\"1\" class=\"dataframe\">\n  <thead>\n    <tr style=\"text-align: right;\">\n      <th></th>\n      <th>id</th>\n      <th>genres</th>\n      <th>vote_average</th>\n      <th>vote_count</th>\n      <th>popularity</th>\n      <th>title</th>\n      <th>keywords</th>\n      <th>overview</th>\n      <th>score</th>\n    </tr>\n  </thead>\n  <tbody>\n    <tr>\n      <th>0</th>\n      <td>19995</td>\n      <td>Action Adventure Fantasy Science Fiction</td>\n      <td>7.2</td>\n      <td>11800</td>\n      <td>150.437577</td>\n      <td>Avatar</td>\n      <td>culture clash future space war space colony so...</td>\n      <td>In the 22nd century, a paraplegic Marine is di...</td>\n      <td>7.168053</td>\n    </tr>\n    <tr>\n      <th>1</th>\n      <td>285</td>\n      <td>Adventure Fantasy Action</td>\n      <td>6.9</td>\n      <td>4500</td>\n      <td>139.082615</td>\n      <td>Pirates of the Caribbean: At World's End</td>\n      <td>ocean drug abuse exotic island east india trad...</td>\n      <td>Captain Barbossa, long believed to be dead, ha...</td>\n      <td>6.918271</td>\n    </tr>\n    <tr>\n      <th>2</th>\n      <td>206647</td>\n      <td>Action Adventure Crime</td>\n      <td>6.3</td>\n      <td>4466</td>\n      <td>107.376788</td>\n      <td>Spectre</td>\n      <td>spy based on novel secret agent sequel mi6 bri...</td>\n      <td>A cryptic message from Bond’s past sends him o...</td>\n      <td>6.493333</td>\n    </tr>\n    <tr>\n      <th>3</th>\n      <td>49026</td>\n      <td>Action Crime Drama Thriller</td>\n      <td>7.6</td>\n      <td>9106</td>\n      <td>112.312950</td>\n      <td>The Dark Knight Rises</td>\n      <td>dc comics crime fighter terrorist secret ident...</td>\n      <td>Following the death of District Attorney Harve...</td>\n      <td>7.492998</td>\n    </tr>\n    <tr>\n      <th>4</th>\n      <td>49529</td>\n      <td>Action Adventure Science Fiction</td>\n      <td>6.1</td>\n      <td>2124</td>\n      <td>43.926995</td>\n      <td>John Carter</td>\n      <td>based on novel mars medallion space travel pri...</td>\n      <td>John Carter is a war-weary, former military ca...</td>\n      <td>6.500396</td>\n    </tr>\n    <tr>\n      <th>...</th>\n      <td>...</td>\n      <td>...</td>\n      <td>...</td>\n      <td>...</td>\n      <td>...</td>\n      <td>...</td>\n      <td>...</td>\n      <td>...</td>\n      <td>...</td>\n    </tr>\n    <tr>\n      <th>4291</th>\n      <td>176</td>\n      <td>Horror Mystery Crime</td>\n      <td>7.2</td>\n      <td>2184</td>\n      <td>63.655973</td>\n      <td>Saw</td>\n      <td>shotgun based on short film sadist pistol chai...</td>\n      <td>Obsessed with teaching his victims the value o...</td>\n      <td>7.091679</td>\n    </tr>\n    <tr>\n      <th>4300</th>\n      <td>500</td>\n      <td>Crime Thriller</td>\n      <td>8.0</td>\n      <td>3697</td>\n      <td>66.925866</td>\n      <td>Reservoir Dogs</td>\n      <td>traitor jewelry psychopath thief heist betraya...</td>\n      <td>A botched robbery indicates a police informant...</td>\n      <td>7.655593</td>\n    </tr>\n    <tr>\n      <th>4302</th>\n      <td>429</td>\n      <td>Western</td>\n      <td>8.1</td>\n      <td>2311</td>\n      <td>88.377076</td>\n      <td>The Good, the Bad and the Ugly</td>\n      <td>bounty hunter refugee gold anti hero gallows h...</td>\n      <td>While the Civil War rages between the Union an...</td>\n      <td>7.596247</td>\n    </tr>\n    <tr>\n      <th>4337</th>\n      <td>103</td>\n      <td>Crime Drama</td>\n      <td>8.0</td>\n      <td>2535</td>\n      <td>58.845025</td>\n      <td>Taxi Driver</td>\n      <td>vietnam veteran taxi obsession drug dealer nig...</td>\n      <td>A mentally unstable Vietnam War veteran works ...</td>\n      <td>7.564085</td>\n    </tr>\n    <tr>\n      <th>4602</th>\n      <td>389</td>\n      <td>Drama</td>\n      <td>8.2</td>\n      <td>2078</td>\n      <td>59.259204</td>\n      <td>12 Angry Men</td>\n      <td>judge jurors sultriness death penalty father m...</td>\n      <td>The defense and the prosecution have rested an...</td>\n      <td>7.619336</td>\n    </tr>\n  </tbody>\n</table>\n<p>481 rows × 9 columns</p>\n</div>"
     },
     "execution_count": 21,
     "metadata": {},
     "output_type": "execute_result"
    }
   ],
   "source": [
    "data"
   ],
   "metadata": {
    "collapsed": false,
    "pycharm": {
     "name": "#%%\n"
    }
   }
  },
  {
   "cell_type": "code",
   "execution_count": 22,
   "outputs": [],
   "source": [
    "data.to_csv('./movie_data/pre_tmdb_5000_movies.csv', index = False)"
   ],
   "metadata": {
    "collapsed": false,
    "pycharm": {
     "name": "#%%\n"
    }
   }
  },
  {
   "cell_type": "code",
   "execution_count": 23,
   "outputs": [
    {
     "name": "stdout",
     "output_type": "stream",
     "text": [
      "(32269, 4)\n"
     ]
    },
    {
     "name": "stderr",
     "output_type": "stream",
     "text": [
      "/var/folders/50/l1xpjcld4v986zh9v4c5yq_w0000gn/T/ipykernel_99177/1021445233.py:1: DtypeWarning: Columns (10) have mixed types. Specify dtype option on import or set low_memory=False.\n",
      "  movie_data = pd.read_csv('./movie_data/movies_metadata.csv')\n"
     ]
    },
    {
     "data": {
      "text/plain": "      id                        title original_language  \\\n0    862                    Toy Story                en   \n1   8844                      Jumanji                en   \n2  15602             Grumpier Old Men                en   \n3  31357            Waiting to Exhale                en   \n4  11862  Father of the Bride Part II                en   \n\n                                              genres  \n0  [{'id': 16, 'name': 'Animation'}, {'id': 35, '...  \n1  [{'id': 12, 'name': 'Adventure'}, {'id': 14, '...  \n2  [{'id': 10749, 'name': 'Romance'}, {'id': 35, ...  \n3  [{'id': 35, 'name': 'Comedy'}, {'id': 18, 'nam...  \n4                     [{'id': 35, 'name': 'Comedy'}]  ",
      "text/html": "<div>\n<style scoped>\n    .dataframe tbody tr th:only-of-type {\n        vertical-align: middle;\n    }\n\n    .dataframe tbody tr th {\n        vertical-align: top;\n    }\n\n    .dataframe thead th {\n        text-align: right;\n    }\n</style>\n<table border=\"1\" class=\"dataframe\">\n  <thead>\n    <tr style=\"text-align: right;\">\n      <th></th>\n      <th>id</th>\n      <th>title</th>\n      <th>original_language</th>\n      <th>genres</th>\n    </tr>\n  </thead>\n  <tbody>\n    <tr>\n      <th>0</th>\n      <td>862</td>\n      <td>Toy Story</td>\n      <td>en</td>\n      <td>[{'id': 16, 'name': 'Animation'}, {'id': 35, '...</td>\n    </tr>\n    <tr>\n      <th>1</th>\n      <td>8844</td>\n      <td>Jumanji</td>\n      <td>en</td>\n      <td>[{'id': 12, 'name': 'Adventure'}, {'id': 14, '...</td>\n    </tr>\n    <tr>\n      <th>2</th>\n      <td>15602</td>\n      <td>Grumpier Old Men</td>\n      <td>en</td>\n      <td>[{'id': 10749, 'name': 'Romance'}, {'id': 35, ...</td>\n    </tr>\n    <tr>\n      <th>3</th>\n      <td>31357</td>\n      <td>Waiting to Exhale</td>\n      <td>en</td>\n      <td>[{'id': 35, 'name': 'Comedy'}, {'id': 18, 'nam...</td>\n    </tr>\n    <tr>\n      <th>4</th>\n      <td>11862</td>\n      <td>Father of the Bride Part II</td>\n      <td>en</td>\n      <td>[{'id': 35, 'name': 'Comedy'}]</td>\n    </tr>\n  </tbody>\n</table>\n</div>"
     },
     "execution_count": 23,
     "metadata": {},
     "output_type": "execute_result"
    }
   ],
   "source": [
    "movie_data = pd.read_csv('./movie_data/movies_metadata.csv')\n",
    "movie_data =  movie_data.loc[movie_data['original_language'] == 'en', :]\n",
    "movie_data = movie_data[['id', 'title', 'original_language', 'genres']]\n",
    "\n",
    "print(movie_data.shape)\n",
    "movie_data.head()"
   ],
   "metadata": {
    "collapsed": false,
    "pycharm": {
     "name": "#%%\n"
    }
   }
  },
  {
   "cell_type": "code",
   "execution_count": 24,
   "outputs": [
    {
     "name": "stdout",
     "output_type": "stream",
     "text": [
      "(46419, 2)\n"
     ]
    },
    {
     "data": {
      "text/plain": "      id                                           keywords\n0    862  [{'id': 931, 'name': 'jealousy'}, {'id': 4290,...\n1   8844  [{'id': 10090, 'name': 'board game'}, {'id': 1...\n2  15602  [{'id': 1495, 'name': 'fishing'}, {'id': 12392...\n3  31357  [{'id': 818, 'name': 'based on novel'}, {'id':...\n4  11862  [{'id': 1009, 'name': 'baby'}, {'id': 1599, 'n...",
      "text/html": "<div>\n<style scoped>\n    .dataframe tbody tr th:only-of-type {\n        vertical-align: middle;\n    }\n\n    .dataframe tbody tr th {\n        vertical-align: top;\n    }\n\n    .dataframe thead th {\n        text-align: right;\n    }\n</style>\n<table border=\"1\" class=\"dataframe\">\n  <thead>\n    <tr style=\"text-align: right;\">\n      <th></th>\n      <th>id</th>\n      <th>keywords</th>\n    </tr>\n  </thead>\n  <tbody>\n    <tr>\n      <th>0</th>\n      <td>862</td>\n      <td>[{'id': 931, 'name': 'jealousy'}, {'id': 4290,...</td>\n    </tr>\n    <tr>\n      <th>1</th>\n      <td>8844</td>\n      <td>[{'id': 10090, 'name': 'board game'}, {'id': 1...</td>\n    </tr>\n    <tr>\n      <th>2</th>\n      <td>15602</td>\n      <td>[{'id': 1495, 'name': 'fishing'}, {'id': 12392...</td>\n    </tr>\n    <tr>\n      <th>3</th>\n      <td>31357</td>\n      <td>[{'id': 818, 'name': 'based on novel'}, {'id':...</td>\n    </tr>\n    <tr>\n      <th>4</th>\n      <td>11862</td>\n      <td>[{'id': 1009, 'name': 'baby'}, {'id': 1599, 'n...</td>\n    </tr>\n  </tbody>\n</table>\n</div>"
     },
     "execution_count": 24,
     "metadata": {},
     "output_type": "execute_result"
    }
   ],
   "source": [
    "movie_keyword = pd.read_csv('./movie_data/keywords.csv')\n",
    "print(movie_keyword.shape)\n",
    "movie_keyword.head()"
   ],
   "metadata": {
    "collapsed": false,
    "pycharm": {
     "name": "#%%\n"
    }
   }
  },
  {
   "cell_type": "code",
   "execution_count": 25,
   "outputs": [
    {
     "name": "stdout",
     "output_type": "stream",
     "text": [
      "(32852, 5)\n"
     ]
    },
    {
     "data": {
      "text/plain": "      id                        title original_language  \\\n0    862                    Toy Story                en   \n1   8844                      Jumanji                en   \n2  15602             Grumpier Old Men                en   \n3  31357            Waiting to Exhale                en   \n4  11862  Father of the Bride Part II                en   \n\n                                              genres  \\\n0  [{'id': 16, 'name': 'Animation'}, {'id': 35, '...   \n1  [{'id': 12, 'name': 'Adventure'}, {'id': 14, '...   \n2  [{'id': 10749, 'name': 'Romance'}, {'id': 35, ...   \n3  [{'id': 35, 'name': 'Comedy'}, {'id': 18, 'nam...   \n4                     [{'id': 35, 'name': 'Comedy'}]   \n\n                                            keywords  \n0  [{'id': 931, 'name': 'jealousy'}, {'id': 4290,...  \n1  [{'id': 10090, 'name': 'board game'}, {'id': 1...  \n2  [{'id': 1495, 'name': 'fishing'}, {'id': 12392...  \n3  [{'id': 818, 'name': 'based on novel'}, {'id':...  \n4  [{'id': 1009, 'name': 'baby'}, {'id': 1599, 'n...  ",
      "text/html": "<div>\n<style scoped>\n    .dataframe tbody tr th:only-of-type {\n        vertical-align: middle;\n    }\n\n    .dataframe tbody tr th {\n        vertical-align: top;\n    }\n\n    .dataframe thead th {\n        text-align: right;\n    }\n</style>\n<table border=\"1\" class=\"dataframe\">\n  <thead>\n    <tr style=\"text-align: right;\">\n      <th></th>\n      <th>id</th>\n      <th>title</th>\n      <th>original_language</th>\n      <th>genres</th>\n      <th>keywords</th>\n    </tr>\n  </thead>\n  <tbody>\n    <tr>\n      <th>0</th>\n      <td>862</td>\n      <td>Toy Story</td>\n      <td>en</td>\n      <td>[{'id': 16, 'name': 'Animation'}, {'id': 35, '...</td>\n      <td>[{'id': 931, 'name': 'jealousy'}, {'id': 4290,...</td>\n    </tr>\n    <tr>\n      <th>1</th>\n      <td>8844</td>\n      <td>Jumanji</td>\n      <td>en</td>\n      <td>[{'id': 12, 'name': 'Adventure'}, {'id': 14, '...</td>\n      <td>[{'id': 10090, 'name': 'board game'}, {'id': 1...</td>\n    </tr>\n    <tr>\n      <th>2</th>\n      <td>15602</td>\n      <td>Grumpier Old Men</td>\n      <td>en</td>\n      <td>[{'id': 10749, 'name': 'Romance'}, {'id': 35, ...</td>\n      <td>[{'id': 1495, 'name': 'fishing'}, {'id': 12392...</td>\n    </tr>\n    <tr>\n      <th>3</th>\n      <td>31357</td>\n      <td>Waiting to Exhale</td>\n      <td>en</td>\n      <td>[{'id': 35, 'name': 'Comedy'}, {'id': 18, 'nam...</td>\n      <td>[{'id': 818, 'name': 'based on novel'}, {'id':...</td>\n    </tr>\n    <tr>\n      <th>4</th>\n      <td>11862</td>\n      <td>Father of the Bride Part II</td>\n      <td>en</td>\n      <td>[{'id': 35, 'name': 'Comedy'}]</td>\n      <td>[{'id': 1009, 'name': 'baby'}, {'id': 1599, 'n...</td>\n    </tr>\n  </tbody>\n</table>\n</div>"
     },
     "execution_count": 25,
     "metadata": {},
     "output_type": "execute_result"
    }
   ],
   "source": [
    "movie_data.id = movie_data.id.astype(int)\n",
    "movie_keyword.id = movie_keyword.id.astype(int)\n",
    "movie_data = pd.merge(movie_data, movie_keyword, on='id')\n",
    "print(movie_data.shape)\n",
    "movie_data.head()"
   ],
   "metadata": {
    "collapsed": false,
    "pycharm": {
     "name": "#%%\n"
    }
   }
  },
  {
   "cell_type": "code",
   "execution_count": 26,
   "outputs": [
    {
     "data": {
      "text/plain": "      id                        title original_language  \\\n0    862                    Toy Story                en   \n1   8844                      Jumanji                en   \n2  15602             Grumpier Old Men                en   \n3  31357            Waiting to Exhale                en   \n4  11862  Father of the Bride Part II                en   \n\n                     genres                                           keywords  \n0   Animation Comedy Family  jealousy toy boy friendship friends rivalry bo...  \n1  Adventure Fantasy Family  board game disappearance based on children's b...  \n2            Romance Comedy   fishing best friend duringcreditsstinger old men  \n3      Comedy Drama Romance  based on novel interracial relationship single...  \n4                    Comedy  baby midlife crisis confidence aging daughter ...  ",
      "text/html": "<div>\n<style scoped>\n    .dataframe tbody tr th:only-of-type {\n        vertical-align: middle;\n    }\n\n    .dataframe tbody tr th {\n        vertical-align: top;\n    }\n\n    .dataframe thead th {\n        text-align: right;\n    }\n</style>\n<table border=\"1\" class=\"dataframe\">\n  <thead>\n    <tr style=\"text-align: right;\">\n      <th></th>\n      <th>id</th>\n      <th>title</th>\n      <th>original_language</th>\n      <th>genres</th>\n      <th>keywords</th>\n    </tr>\n  </thead>\n  <tbody>\n    <tr>\n      <th>0</th>\n      <td>862</td>\n      <td>Toy Story</td>\n      <td>en</td>\n      <td>Animation Comedy Family</td>\n      <td>jealousy toy boy friendship friends rivalry bo...</td>\n    </tr>\n    <tr>\n      <th>1</th>\n      <td>8844</td>\n      <td>Jumanji</td>\n      <td>en</td>\n      <td>Adventure Fantasy Family</td>\n      <td>board game disappearance based on children's b...</td>\n    </tr>\n    <tr>\n      <th>2</th>\n      <td>15602</td>\n      <td>Grumpier Old Men</td>\n      <td>en</td>\n      <td>Romance Comedy</td>\n      <td>fishing best friend duringcreditsstinger old men</td>\n    </tr>\n    <tr>\n      <th>3</th>\n      <td>31357</td>\n      <td>Waiting to Exhale</td>\n      <td>en</td>\n      <td>Comedy Drama Romance</td>\n      <td>based on novel interracial relationship single...</td>\n    </tr>\n    <tr>\n      <th>4</th>\n      <td>11862</td>\n      <td>Father of the Bride Part II</td>\n      <td>en</td>\n      <td>Comedy</td>\n      <td>baby midlife crisis confidence aging daughter ...</td>\n    </tr>\n  </tbody>\n</table>\n</div>"
     },
     "execution_count": 26,
     "metadata": {},
     "output_type": "execute_result"
    }
   ],
   "source": [
    "movie_data['genres'] = movie_data['genres'].apply(literal_eval)\n",
    "movie_data['genres'] = movie_data['genres'].apply(\n",
    "    lambda x: [d['name'] for d in x]).apply(lambda x: \" \".join(x))\n",
    "movie_data['keywords'] = movie_data['keywords'].apply(literal_eval)\n",
    "movie_data['keywords'] = movie_data['keywords'].apply(\n",
    "    lambda x: [d['name'] for d in x]).apply(lambda x: \" \".join(x))\n",
    "movie_data.head()"
   ],
   "metadata": {
    "collapsed": false,
    "pycharm": {
     "name": "#%%\n"
    }
   }
  },
  {
   "cell_type": "code",
   "execution_count": 27,
   "outputs": [
    {
     "name": "stderr",
     "output_type": "stream",
     "text": [
      "/Library/Frameworks/Python.framework/Versions/3.9/lib/python3.9/site-packages/sklearn/utils/deprecation.py:87: FutureWarning: Function get_feature_names is deprecated; get_feature_names is deprecated in 1.0 and will be removed in 1.2. Please use get_feature_names_out instead.\n",
      "  warnings.warn(msg, category=FutureWarning)\n"
     ]
    }
   ],
   "source": [
    "tfidf_vector = TfidfVectorizer()\n",
    "#tfidf_vector = TfidfVectorizer(ngram_range=(1,2))\n",
    "tfidf_matrix = tfidf_vector.fit_transform(movie_data['genres'] + \" \" + movie_data['keywords']).toarray()\n",
    "#tfidf_matrix = tfidf_vector.fit_transform(movie_data['genres']).toarray()\n",
    "tfidf_matrix_feature = tfidf_vector.get_feature_names()"
   ],
   "metadata": {
    "collapsed": false,
    "pycharm": {
     "name": "#%%\n"
    }
   }
  },
  {
   "cell_type": "code",
   "execution_count": 28,
   "outputs": [
    {
     "data": {
      "text/plain": "array([[0., 0., 0., ..., 0., 0., 0.],\n       [0., 0., 0., ..., 0., 0., 0.],\n       [0., 0., 0., ..., 0., 0., 0.],\n       ...,\n       [0., 0., 0., ..., 0., 0., 0.],\n       [0., 0., 0., ..., 0., 0., 0.],\n       [0., 0., 0., ..., 0., 0., 0.]])"
     },
     "execution_count": 28,
     "metadata": {},
     "output_type": "execute_result"
    }
   ],
   "source": [
    "tfidf_matrix"
   ],
   "metadata": {
    "collapsed": false,
    "pycharm": {
     "name": "#%%\n"
    }
   }
  },
  {
   "cell_type": "code",
   "execution_count": 29,
   "outputs": [
    {
     "data": {
      "text/plain": "(32852, 11437)"
     },
     "execution_count": 29,
     "metadata": {},
     "output_type": "execute_result"
    }
   ],
   "source": [
    "tfidf_matrix.shape"
   ],
   "metadata": {
    "collapsed": false,
    "pycharm": {
     "name": "#%%\n"
    }
   }
  },
  {
   "cell_type": "code",
   "execution_count": 30,
   "outputs": [
    {
     "data": {
      "text/plain": "['077',\n '10',\n '11',\n '13',\n '1500s',\n '15th',\n '16th',\n '17th',\n '1812',\n '18th',\n '1900s',\n '1910s',\n '1917',\n '1920s',\n '1930s',\n '1940s',\n '1950s',\n '1960s',\n '1970s',\n '1980s',\n '1990s',\n '1992',\n '1995',\n '19th',\n '1st',\n '2000',\n '2001',\n '2002',\n '2079',\n '20th',\n '21st',\n '230',\n '25th',\n '2nd',\n '360',\n '3d',\n '500',\n '51',\n '60s',\n '66',\n '70s',\n '80',\n '95',\n 'aaron',\n 'abandoned',\n 'abandonment',\n 'abba',\n 'abbess',\n 'abc',\n 'abdication',\n 'abduction',\n 'abilene',\n 'ability',\n 'abolitionist',\n 'aboriginal',\n 'aborigine',\n 'abortion',\n 'abraham',\n 'abroad',\n 'absent',\n 'absorbing',\n 'absorption',\n 'abstract',\n 'absurdism',\n 'absurdist',\n 'abuse',\n 'abusive',\n 'acab',\n 'academy',\n 'acapella',\n 'acapulco',\n 'accelerator',\n 'accent',\n 'acceptance',\n 'accepting',\n 'accident',\n 'accidental',\n 'accion',\n 'accordion',\n 'account',\n 'accountant',\n 'accounting',\n 'accusal',\n 'accusation',\n 'accusations',\n 'accused',\n 'ace',\n 'acid',\n 'acrobats',\n 'acromegaly',\n 'act',\n 'acting',\n 'action',\n 'active',\n 'activism',\n 'activist',\n 'activity',\n 'actor',\n 'actors',\n 'actress',\n 'actresses',\n 'acts',\n 'actualization',\n 'ad',\n 'adam',\n 'adaptation',\n 'adapted',\n 'addams',\n 'addict',\n 'addicted',\n 'addiction',\n 'additive',\n 'address',\n 'adelaide',\n 'adhd',\n 'adirondack',\n 'adit',\n 'admiral',\n 'admiration',\n 'admirer',\n 'admissions',\n 'adolescence',\n 'adolescent',\n 'adolf',\n 'adopted',\n 'adoptee',\n 'adoption',\n 'adoptive',\n 'adoration',\n 'adrenal',\n 'adrenalin',\n 'adrenaline',\n 'adrift',\n 'adult',\n 'adulteress',\n 'adulterous',\n 'adultery',\n 'adultress',\n 'adults',\n 'advancement',\n 'adventure',\n 'adventurer',\n 'adversary',\n 'advertisement',\n 'advertising',\n 'advice',\n 'adviser',\n 'advisor',\n 'advocacy',\n 'aerial',\n 'aerialist',\n 'aerobics',\n 'aeronautical',\n 'aeronautics',\n 'aeroplane',\n 'aerospace',\n 'aesop',\n 'affair',\n 'affairs',\n 'affection',\n 'affirmative',\n 'afghanistan',\n 'afi',\n 'africa',\n 'african',\n 'afro',\n 'afrofuturism',\n 'after',\n 'aftercreditsstinger',\n 'afterlife',\n 'aftermath',\n 'afterworld',\n 'again',\n 'against',\n 'age',\n 'aged',\n 'ageism',\n 'agency',\n 'agent',\n 'agents',\n 'ager',\n 'ages',\n 'aggression',\n 'aggressive',\n 'aging',\n 'agnostic',\n 'agoraphobia',\n 'agreement',\n 'agriculture',\n 'aid',\n 'aids',\n 'aikido',\n 'ailul',\n 'aim',\n 'air',\n 'airbag',\n 'aircraft',\n 'aires',\n 'airfield',\n 'airhead',\n 'airlift',\n 'airlifting',\n 'airline',\n 'airliner',\n 'airlines',\n 'airplane',\n 'airport',\n 'airship',\n 'al',\n 'alabama',\n 'aladdin',\n 'alamo',\n 'alan',\n 'alarm',\n 'alaska',\n 'albania',\n 'albanian',\n 'albert',\n 'alberta',\n 'albino',\n 'album',\n 'albums',\n 'albuquerque',\n 'alcatraz',\n 'alchemist',\n 'alcohol',\n 'alcoholic',\n 'alcoholics',\n 'alcoholism',\n 'alcott',\n 'alejandro',\n 'alexander',\n 'alexandria',\n 'alexithymia',\n 'alfred',\n 'algiers',\n 'algonquin',\n 'ali',\n 'alias',\n 'alibi',\n 'alice',\n 'alien',\n 'alienation',\n 'aliens',\n 'alike',\n 'alimony',\n 'alive',\n 'all',\n 'allan',\n 'allegory',\n 'allen',\n 'allergy',\n 'alley',\n 'alliance',\n 'allied',\n 'allies',\n 'alligator',\n 'allman',\n 'allnighter',\n 'allosaurus',\n 'almanac',\n 'alone',\n 'aloud',\n 'alpha',\n 'alphabet',\n 'alpine',\n 'alpinism',\n 'alps',\n 'als',\n 'altamira',\n 'altar',\n 'alter',\n 'alteration',\n 'altering',\n 'alternate',\n 'alternative',\n 'alto',\n 'alzheimer',\n 'amateur',\n 'amazon',\n 'ambassador',\n 'ambiguity',\n 'ambiguous',\n 'ambition',\n 'ambrosia',\n 'ambulance',\n 'ambush',\n 'ambushed',\n 'amelia',\n 'amendment',\n 'america',\n 'american',\n 'americana',\n 'amerikaner',\n 'amish',\n 'amityville',\n 'ammunition',\n 'amnesia',\n 'amnesiac',\n 'amok',\n 'amphetamine',\n 'amphibie',\n 'amphibious',\n 'ampitheatre',\n 'amplifier',\n 'amputation',\n 'amputee',\n 'amsterdam',\n 'amulet',\n 'amusement',\n 'an',\n 'anachronism',\n 'anaconda',\n 'anagram',\n 'anal',\n 'analingus',\n 'analysis',\n 'analyst',\n 'anarchic',\n 'anarchism',\n 'anarchist',\n 'anarchy',\n 'anatomy',\n 'ancestor',\n 'ancestral',\n 'anchor',\n 'anchorage',\n 'anchorman',\n 'ancient',\n 'and',\n 'andreas',\n 'andrew',\n 'androgyny',\n 'android',\n 'andy',\n 'anecdotes',\n 'anesthetic',\n 'angel',\n 'angeles',\n 'angelina',\n 'angels',\n 'anger',\n 'angkor',\n 'angler',\n 'angola',\n 'angry',\n 'angst',\n 'anguish',\n 'animal',\n 'animals',\n 'animaniacs',\n 'animate',\n 'animated',\n 'animation',\n 'animatronic',\n 'anime',\n 'ankle',\n 'anna',\n 'annabel',\n 'annabelle',\n 'anne',\n 'annie',\n 'annihilated',\n 'anniversary',\n 'announcement',\n 'announcer',\n 'annoying',\n 'annuity',\n 'anonymity',\n 'anonymous',\n 'anorexia',\n 'another',\n 'answering',\n 'ant',\n 'antarctic',\n 'antarctica',\n 'antelope',\n 'anthology',\n 'anthony',\n 'anthrax',\n 'anthropoid',\n 'anthropologist',\n 'anthropology',\n 'anthropomorphism',\n 'anthroposophy',\n 'anti',\n 'antibiotics',\n 'antidote',\n 'antigen',\n 'antihero',\n 'antikriegsfilm',\n 'antiquary',\n 'antique',\n 'antiques',\n 'antisocial',\n 'antoinette',\n 'ants',\n 'anubis',\n 'anus',\n 'anxiety',\n 'anzio',\n 'apache',\n 'apart',\n 'apartheid',\n 'apartment',\n 'apathy',\n 'ape',\n 'aphrodisiac',\n 'apocalypse',\n 'apocalyptic',\n 'apollo',\n 'apologetics',\n 'apology',\n 'apoplectic',\n 'apostasy',\n 'apostle',\n 'app',\n 'appalachia',\n 'appalachian',\n 'apparats',\n 'apparent',\n 'apparition',\n 'appeal',\n 'appearance',\n 'appears',\n 'applause',\n 'apple',\n 'apples',\n 'appleseed',\n 'apprendista',\n 'apprentice',\n 'approach',\n 'appropriation',\n 'approved',\n 'april',\n 'aptitude',\n 'aquarium',\n 'aqueduct',\n 'arab',\n 'arabia',\n 'arabian',\n 'arachnophobia',\n 'arbitrary',\n 'arc',\n 'arcade',\n 'arch',\n 'archaeological',\n 'archaeologist',\n 'archangel',\n 'archbishop',\n 'archdiocese',\n 'archeological',\n 'archeologist',\n 'archeology',\n 'archer',\n 'archery',\n 'architect',\n 'architecture',\n 'archival',\n 'archive',\n 'arctic',\n 'ardennen',\n 'ardennes',\n 'are',\n 'area',\n 'arena',\n 'ares',\n 'argent',\n 'argentina',\n 'argentine',\n 'argonaut',\n 'argos',\n 'argument',\n 'aria',\n 'aristocracy',\n 'aristocrat',\n 'aristocratic',\n 'aristotle',\n 'arizona',\n 'ark',\n 'arkansas',\n 'arm',\n 'armada',\n 'armadillo',\n 'armageddon',\n 'armand',\n 'armed',\n 'armenian',\n 'armless',\n 'armor',\n 'armored',\n 'arms',\n 'armstrong',\n 'armwrestling',\n 'army',\n 'arnold',\n 'around',\n 'arousal',\n 'arranged',\n 'arrangement',\n 'arrest',\n 'arrested',\n 'arrogance',\n 'arrondissement',\n 'arrow',\n 'arsenal',\n 'arsene',\n 'arson',\n 'arsonist',\n 'art',\n 'arthouse',\n 'arthur',\n 'artial',\n 'artic',\n 'article',\n 'artifact',\n 'artificial',\n 'artillery',\n 'artist',\n 'artists',\n 'arts',\n 'artwork',\n 'aryan',\n 'aryanism',\n 'as',\n 'asbestos',\n 'ascot',\n 'asgard',\n 'ash',\n 'ashes',\n 'ashram',\n 'ashtray',\n 'asia',\n 'asian',\n 'askew',\n 'aspen',\n 'asperger',\n 'aspiration',\n 'aspirin',\n 'aspiring',\n 'assassin',\n 'assassination',\n 'assassinations',\n 'assault',\n 'assaulting',\n 'assayer',\n 'assembly',\n 'assertion',\n 'assignment',\n 'assimilation',\n 'assistant',\n 'assisted',\n 'assumed',\n 'assurance',\n 'asteroid',\n 'asthma',\n 'asthmatic',\n 'aston',\n 'astral',\n 'astrology',\n 'astronaut',\n 'astronomer',\n 'astronomy',\n 'astrophysicist',\n 'astrophysics',\n 'aswad',\n 'asylum',\n 'at',\n 'atari',\n 'atf',\n 'atheism',\n 'atheist',\n 'athlete',\n 'athletic',\n 'athletics',\n 'atlanta',\n 'atlantic',\n 'atlantis',\n 'atlas',\n 'atm',\n 'atmospheric',\n 'atom',\n 'atomic',\n 'atomkrieg',\n 'atrocity',\n 'attachment',\n 'attack',\n 'attacked',\n 'attempt',\n 'attempted',\n 'attendant',\n 'attention',\n 'attic',\n 'attica',\n 'attila',\n 'attitude',\n 'attorney',\n 'attract',\n 'attraction',\n 'attractions',\n 'attractiveness',\n 'attrition',\n 'au',\n 'auction',\n 'auctioneer',\n 'audi',\n 'audience',\n 'audio',\n 'audition',\n 'auditorium',\n 'augmented',\n 'auld',\n 'aum',\n 'aunt',\n 'aura',\n 'auroch',\n 'aurora',\n 'auschwitz',\n 'austen',\n 'austin',\n 'australia',\n 'australian',\n 'australians',\n 'austria',\n 'austrian',\n 'author',\n 'authoritarian',\n 'authoritarianism',\n 'authorities',\n 'authority',\n 'authors',\n 'autism',\n 'auto',\n 'autobiographical',\n 'autobiography',\n 'autocide',\n 'autocracy',\n 'autograph',\n 'automation',\n 'automaton',\n 'automobile',\n 'automotive',\n 'autonomous',\n 'autonomy',\n 'autopilot',\n 'autopsy',\n 'autoradio',\n 'autoritian',\n 'autumn',\n 'auvergne',\n 'avalanche',\n 'avant',\n 'avatar',\n 'avatars',\n 'avenge',\n 'avenger',\n 'avenue',\n 'aversion',\n 'aviation',\n 'aviator',\n 'aviatrix',\n 'aviv',\n 'avocado',\n 'avro',\n 'awakening',\n 'award',\n 'awards',\n 'awareness',\n 'away',\n 'awful',\n 'awkward',\n 'awkwardness',\n 'awol',\n 'awry',\n 'ax',\n 'axe',\n 'ayahuasca',\n 'ayn',\n 'aztec',\n 'azur',\n 'baader',\n 'babes',\n 'baboon',\n 'baby',\n 'babylon',\n 'babysitter',\n 'baccarat',\n 'bachelor',\n 'bachelorette',\n 'back',\n 'backcountry',\n 'backer',\n 'backfire',\n 'backgammon',\n 'background',\n 'backhand',\n 'backpack',\n 'backpacker',\n 'backpacking',\n 'backpacks',\n 'backstage',\n 'backwards',\n 'backwoods',\n 'backyard',\n 'bacteria',\n 'bacterial',\n 'bad',\n 'badge',\n 'badger',\n 'badlands',\n 'bag',\n 'bagdad',\n 'baggage',\n 'baghdad',\n 'bagpipes',\n 'bagved',\n 'bahamas',\n 'bail',\n 'bait',\n 'baja',\n 'baker',\n 'bakery',\n 'baking',\n 'balance',\n 'balances',\n 'balcony',\n 'bald',\n 'baldness',\n 'baldwin',\n 'bali',\n 'balkan',\n 'balkans',\n 'ball',\n 'ballerina',\n 'ballet',\n 'balloon',\n 'ballroom',\n 'balmedie',\n 'baltimore',\n 'balzen',\n 'ban',\n 'banana',\n 'band',\n 'banda',\n 'bandage',\n 'bandana',\n 'bandanna',\n 'bandit',\n 'bandits',\n 'bandleader',\n 'bands',\n 'bane',\n 'bangalore',\n 'bangkok',\n 'bangladesh',\n 'bangor',\n 'banishment',\n 'banjo',\n 'bank',\n 'banker',\n 'banking',\n 'bankrupt',\n 'bankruptcy',\n 'banksy',\n 'banned',\n 'banner',\n 'banquet',\n 'banshee',\n 'baptism',\n 'baptist',\n 'bar',\n 'barabbas',\n 'barack',\n 'barbara',\n 'barbarian',\n 'barbarism',\n 'barbary',\n 'barbecue',\n 'barbed',\n 'barber',\n 'barbershop',\n 'barbie',\n 'barcelona',\n 'bare',\n 'bareback',\n 'barflies',\n 'bargain',\n 'barge',\n 'barista',\n 'barker',\n 'barn',\n 'baron',\n 'baroness',\n 'barracks',\n 'barracuda',\n 'barrage',\n 'barrel',\n 'barreled',\n 'barricade',\n 'barrier',\n 'barrio',\n 'barrister',\n 'barroom',\n 'bars',\n 'bartender',\n 'base',\n 'baseball',\n 'based',\n 'basejump',\n 'basement',\n 'bashed',\n 'bashing',\n 'basic',\n 'basil',\n 'baskeball',\n 'basket',\n 'basketball',\n 'baskets',\n 'bass',\n 'basset',\n 'bassist',\n 'bastille',\n 'bat',\n 'bataan',\n 'batgirl',\n 'bath',\n 'bathhouse',\n 'bathing',\n 'bathrobe',\n 'bathroom',\n 'bathtub',\n 'bathysphere',\n 'batman',\n 'baton',\n 'bats',\n 'battering',\n 'battle',\n 'battlefield',\n 'battles',\n 'battleship',\n 'baustelle',\n 'bavaria',\n 'bay',\n 'bayonet',\n 'bayou',\n 'bazooka',\n 'bb',\n 'bbw',\n 'bdsm',\n 'be',\n 'beach',\n 'beadle',\n 'beagle',\n 'beam',\n 'beans',\n 'beanstalk',\n 'bear',\n 'beard',\n 'bearded',\n 'bearer',\n 'bears',\n 'beast',\n 'beastmaster',\n 'beat',\n 'beatboxing',\n 'beaten',\n 'beater',\n 'beating',\n 'beatles',\n 'beatnicks',\n 'beatnik',\n 'beautician',\n 'beautiful',\n 'beauty',\n 'beaver',\n 'bebop',\n 'beckenbauer',\n 'becomes',\n 'becoming',\n 'bed',\n 'bedridden',\n 'bedroom',\n 'bedtime',\n 'bee',\n 'beef',\n 'beefcake',\n 'beehive',\n 'beehives',\n 'beekeeper',\n 'been',\n 'beeper',\n 'beer',\n 'bees',\n 'beethoven',\n 'beetle',\n 'beforecreditsstinger',\n 'befragung',\n 'beförderung',\n 'beggar',\n 'begins',\n 'begnadigung',\n 'beguilement',\n 'behavior',\n 'behavioral',\n 'beheaded',\n 'beheading',\n 'behind',\n 'beijing',\n 'being',\n 'beings',\n 'beirut',\n 'belching',\n 'belfast',\n 'belgium',\n 'belief',\n 'believe',\n 'believed',\n 'believers',\n 'believes',\n 'bell',\n 'bellboy',\n 'belle',\n 'belleville',\n 'bellhop',\n 'bells',\n 'belly',\n 'belt',\n 'beluga',\n 'bench',\n 'bender',\n 'bending',\n 'benedict',\n 'benefactor',\n 'beneficiary',\n 'benefit',\n 'benefits',\n 'bengal',\n 'benign',\n 'benito',\n 'benji',\n 'benzine',\n 'beobachten',\n 'berater',\n 'bereavement',\n 'beret',\n 'beretta',\n 'berg',\n 'bergère',\n 'bering',\n 'berkeley',\n 'berlin',\n 'bermuda',\n 'bern',\n 'bernard',\n 'bernstein',\n 'bert',\n 'best',\n 'bestechung',\n 'bestiality',\n 'bestie',\n 'bet',\n 'beta',\n 'bethlehem',\n 'betrayal',\n 'betrayed',\n 'better',\n 'betting',\n 'between',\n 'beverly',\n 'bewusstlosigkeit',\n 'bezpečnost',\n 'bhutan',\n 'bias',\n 'bible',\n 'biblical',\n 'bickering',\n 'bicycle',\n 'bieber',\n 'biene',\n 'big',\n 'bigamy',\n 'bigfoot',\n 'bigot',\n 'bigotry',\n 'big爆任务',\n 'bike',\n 'biker',\n 'bikers',\n 'bikies',\n 'bikini',\n 'bilbao',\n 'bill',\n 'billard',\n 'billboard',\n 'billion',\n 'billionaire',\n 'bills',\n 'billy',\n 'biloxi',\n 'bin',\n ...]"
     },
     "execution_count": 30,
     "metadata": {},
     "output_type": "execute_result"
    }
   ],
   "source": [
    "tfidf_matrix_feature"
   ],
   "metadata": {
    "collapsed": false,
    "pycharm": {
     "name": "#%%\n"
    }
   }
  },
  {
   "cell_type": "code",
   "execution_count": 31,
   "outputs": [
    {
     "name": "stdout",
     "output_type": "stream",
     "text": [
      "(32852, 11437)\n"
     ]
    },
    {
     "data": {
      "text/plain": "                             077   10   11   13  1500s  15th  16th  17th  \\\ntitle                                                                      \nToy Story                    0.0  0.0  0.0  0.0    0.0   0.0   0.0   0.0   \nJumanji                      0.0  0.0  0.0  0.0    0.0   0.0   0.0   0.0   \nGrumpier Old Men             0.0  0.0  0.0  0.0    0.0   0.0   0.0   0.0   \nWaiting to Exhale            0.0  0.0  0.0  0.0    0.0   0.0   0.0   0.0   \nFather of the Bride Part II  0.0  0.0  0.0  0.0    0.0   0.0   0.0   0.0   \n\n                             1812  18th  ...  βάφτηκε   γη  κόκκινο   το  \\\ntitle                                    ...                               \nToy Story                     0.0   0.0  ...      0.0  0.0      0.0  0.0   \nJumanji                       0.0   0.0  ...      0.0  0.0      0.0  0.0   \nGrumpier Old Men              0.0   0.0  ...      0.0  0.0      0.0  0.0   \nWaiting to Exhale             0.0   0.0  ...      0.0  0.0      0.0  0.0   \nFather of the Bride Part II   0.0   0.0  ...      0.0  0.0      0.0  0.0   \n\n                             χώμα  миньоны  卧底肥妈  绝地奶霸  自然界大事件  超级妈妈  \ntitle                                                                 \nToy Story                     0.0      0.0   0.0   0.0     0.0   0.0  \nJumanji                       0.0      0.0   0.0   0.0     0.0   0.0  \nGrumpier Old Men              0.0      0.0   0.0   0.0     0.0   0.0  \nWaiting to Exhale             0.0      0.0   0.0   0.0     0.0   0.0  \nFather of the Bride Part II   0.0      0.0   0.0   0.0     0.0   0.0  \n\n[5 rows x 11437 columns]",
      "text/html": "<div>\n<style scoped>\n    .dataframe tbody tr th:only-of-type {\n        vertical-align: middle;\n    }\n\n    .dataframe tbody tr th {\n        vertical-align: top;\n    }\n\n    .dataframe thead th {\n        text-align: right;\n    }\n</style>\n<table border=\"1\" class=\"dataframe\">\n  <thead>\n    <tr style=\"text-align: right;\">\n      <th></th>\n      <th>077</th>\n      <th>10</th>\n      <th>11</th>\n      <th>13</th>\n      <th>1500s</th>\n      <th>15th</th>\n      <th>16th</th>\n      <th>17th</th>\n      <th>1812</th>\n      <th>18th</th>\n      <th>...</th>\n      <th>βάφτηκε</th>\n      <th>γη</th>\n      <th>κόκκινο</th>\n      <th>το</th>\n      <th>χώμα</th>\n      <th>миньоны</th>\n      <th>卧底肥妈</th>\n      <th>绝地奶霸</th>\n      <th>自然界大事件</th>\n      <th>超级妈妈</th>\n    </tr>\n    <tr>\n      <th>title</th>\n      <th></th>\n      <th></th>\n      <th></th>\n      <th></th>\n      <th></th>\n      <th></th>\n      <th></th>\n      <th></th>\n      <th></th>\n      <th></th>\n      <th></th>\n      <th></th>\n      <th></th>\n      <th></th>\n      <th></th>\n      <th></th>\n      <th></th>\n      <th></th>\n      <th></th>\n      <th></th>\n      <th></th>\n    </tr>\n  </thead>\n  <tbody>\n    <tr>\n      <th>Toy Story</th>\n      <td>0.0</td>\n      <td>0.0</td>\n      <td>0.0</td>\n      <td>0.0</td>\n      <td>0.0</td>\n      <td>0.0</td>\n      <td>0.0</td>\n      <td>0.0</td>\n      <td>0.0</td>\n      <td>0.0</td>\n      <td>...</td>\n      <td>0.0</td>\n      <td>0.0</td>\n      <td>0.0</td>\n      <td>0.0</td>\n      <td>0.0</td>\n      <td>0.0</td>\n      <td>0.0</td>\n      <td>0.0</td>\n      <td>0.0</td>\n      <td>0.0</td>\n    </tr>\n    <tr>\n      <th>Jumanji</th>\n      <td>0.0</td>\n      <td>0.0</td>\n      <td>0.0</td>\n      <td>0.0</td>\n      <td>0.0</td>\n      <td>0.0</td>\n      <td>0.0</td>\n      <td>0.0</td>\n      <td>0.0</td>\n      <td>0.0</td>\n      <td>...</td>\n      <td>0.0</td>\n      <td>0.0</td>\n      <td>0.0</td>\n      <td>0.0</td>\n      <td>0.0</td>\n      <td>0.0</td>\n      <td>0.0</td>\n      <td>0.0</td>\n      <td>0.0</td>\n      <td>0.0</td>\n    </tr>\n    <tr>\n      <th>Grumpier Old Men</th>\n      <td>0.0</td>\n      <td>0.0</td>\n      <td>0.0</td>\n      <td>0.0</td>\n      <td>0.0</td>\n      <td>0.0</td>\n      <td>0.0</td>\n      <td>0.0</td>\n      <td>0.0</td>\n      <td>0.0</td>\n      <td>...</td>\n      <td>0.0</td>\n      <td>0.0</td>\n      <td>0.0</td>\n      <td>0.0</td>\n      <td>0.0</td>\n      <td>0.0</td>\n      <td>0.0</td>\n      <td>0.0</td>\n      <td>0.0</td>\n      <td>0.0</td>\n    </tr>\n    <tr>\n      <th>Waiting to Exhale</th>\n      <td>0.0</td>\n      <td>0.0</td>\n      <td>0.0</td>\n      <td>0.0</td>\n      <td>0.0</td>\n      <td>0.0</td>\n      <td>0.0</td>\n      <td>0.0</td>\n      <td>0.0</td>\n      <td>0.0</td>\n      <td>...</td>\n      <td>0.0</td>\n      <td>0.0</td>\n      <td>0.0</td>\n      <td>0.0</td>\n      <td>0.0</td>\n      <td>0.0</td>\n      <td>0.0</td>\n      <td>0.0</td>\n      <td>0.0</td>\n      <td>0.0</td>\n    </tr>\n    <tr>\n      <th>Father of the Bride Part II</th>\n      <td>0.0</td>\n      <td>0.0</td>\n      <td>0.0</td>\n      <td>0.0</td>\n      <td>0.0</td>\n      <td>0.0</td>\n      <td>0.0</td>\n      <td>0.0</td>\n      <td>0.0</td>\n      <td>0.0</td>\n      <td>...</td>\n      <td>0.0</td>\n      <td>0.0</td>\n      <td>0.0</td>\n      <td>0.0</td>\n      <td>0.0</td>\n      <td>0.0</td>\n      <td>0.0</td>\n      <td>0.0</td>\n      <td>0.0</td>\n      <td>0.0</td>\n    </tr>\n  </tbody>\n</table>\n<p>5 rows × 11437 columns</p>\n</div>"
     },
     "execution_count": 31,
     "metadata": {},
     "output_type": "execute_result"
    }
   ],
   "source": [
    "tfidf_matrix = pd.DataFrame(tfidf_matrix, columns=tfidf_matrix_feature, index = movie_data.title)\n",
    "print(tfidf_matrix.shape)\n",
    "tfidf_matrix.head()"
   ],
   "metadata": {
    "collapsed": false,
    "pycharm": {
     "name": "#%%\n"
    }
   }
  },
  {
   "cell_type": "code",
   "execution_count": 33,
   "outputs": [
    {
     "data": {
      "text/plain": "<AxesSubplot:ylabel='title'>"
     },
     "execution_count": 33,
     "metadata": {},
     "output_type": "execute_result"
    },
    {
     "data": {
      "text/plain": "<Figure size 432x288 with 2 Axes>",
      "image/png": "[encoded data removed]"
     },
     "metadata": {
      "needs_background": "light"
     },
     "output_type": "display_data"
    }
   ],
   "source": [
    "sns.heatmap(tfidf_matrix.iloc[:100])"
   ],
   "metadata": {
    "collapsed": false,
    "pycharm": {
     "name": "#%%\n"
    }
   }
  },
  {
   "cell_type": "code",
   "execution_count": 34,
   "outputs": [
    {
     "name": "stdout",
     "output_type": "stream",
     "text": [
      "CPU times: user 6min 22s, sys: 22.3 s, total: 6min 44s\n",
      "Wall time: 1min 22s\n"
     ]
    }
   ],
   "source": [
    "%%time\n",
    "cosine_sim = cosine_similarity(tfidf_matrix)"
   ],
   "metadata": {
    "collapsed": false,
    "pycharm": {
     "name": "#%%\n"
    }
   }
  },
  {
   "cell_type": "code",
   "execution_count": 35,
   "outputs": [
    {
     "data": {
      "text/plain": "array([[1.        , 0.04156863, 0.00870783, ..., 0.        , 0.        ,\n        0.        ],\n       [0.04156863, 1.        , 0.        , ..., 0.        , 0.        ,\n        0.        ],\n       [0.00870783, 0.        , 1.        , ..., 0.        , 0.        ,\n        0.        ],\n       ...,\n       [0.        , 0.        , 0.        , ..., 1.        , 0.        ,\n        0.        ],\n       [0.        , 0.        , 0.        , ..., 0.        , 0.        ,\n        0.        ],\n       [0.        , 0.        , 0.        , ..., 0.        , 0.        ,\n        0.        ]])"
     },
     "execution_count": 35,
     "metadata": {},
     "output_type": "execute_result"
    }
   ],
   "source": [
    "cosine_sim"
   ],
   "metadata": {
    "collapsed": false,
    "pycharm": {
     "name": "#%%\n"
    }
   }
  },
  {
   "cell_type": "code",
   "execution_count": 37,
   "outputs": [
    {
     "data": {
      "text/plain": "<AxesSubplot:>"
     },
     "execution_count": 37,
     "metadata": {},
     "output_type": "execute_result"
    },
    {
     "data": {
      "text/plain": "<Figure size 432x288 with 2 Axes>",
      "image/png": "[encoded data removed]"
     },
     "metadata": {
      "needs_background": "light"
     },
     "output_type": "display_data"
    }
   ],
   "source": [
    "sns.heatmap(cosine_sim[:10])"
   ],
   "metadata": {
    "collapsed": false,
    "pycharm": {
     "name": "#%%\n"
    }
   }
  },
  {
   "cell_type": "code",
   "execution_count": 38,
   "outputs": [
    {
     "name": "stdout",
     "output_type": "stream",
     "text": [
      "(32852, 32852)\n"
     ]
    },
    {
     "data": {
      "text/plain": "title                        Toy Story   Jumanji  Grumpier Old Men  \\\ntitle                                                                \nToy Story                     1.000000  0.041569          0.008708   \nJumanji                       0.041569  1.000000          0.000000   \nGrumpier Old Men              0.008708  0.000000          1.000000   \nWaiting to Exhale             0.006937  0.065065          0.035846   \nFather of the Bride Part II   0.005595  0.000000          0.010906   \n\ntitle                        Waiting to Exhale  Father of the Bride Part II  \\\ntitle                                                                         \nToy Story                             0.006937                     0.005595   \nJumanji                               0.065065                     0.000000   \nGrumpier Old Men                      0.035846                     0.010906   \nWaiting to Exhale                     1.000000                     0.093741   \nFather of the Bride Part II           0.093741                     1.000000   \n\ntitle                            Heat   Sabrina  Tom and Huck  Sudden Death  \\\ntitle                                                                         \nToy Story                    0.000000  0.006456      0.059202      0.000000   \nJumanji                      0.000000  0.000000      0.165721      0.028302   \nGrumpier Old Men             0.000000  0.033363      0.000000      0.000000   \nWaiting to Exhale            0.003806  0.063686      0.027484      0.000000   \nFather of the Bride Part II  0.000000  0.038016      0.000000      0.000000   \n\ntitle                        GoldenEye  ...  Deep Hearts  The Morning After  \\\ntitle                                   ...                                   \nToy Story                     0.000000  ...          0.0           0.051110   \nJumanji                       0.011462  ...          0.0           0.000000   \nGrumpier Old Men              0.000000  ...          0.0           0.099628   \nWaiting to Exhale             0.000000  ...          0.0           0.135728   \nFather of the Bride Part II   0.000000  ...          0.0           0.064015   \n\ntitle                        House of Horrors  Shadow of the Blair Witch  \\\ntitle                                                                      \nToy Story                            0.028298                        0.0   \nJumanji                              0.039299                        0.0   \nGrumpier Old Men                     0.000000                        0.0   \nWaiting to Exhale                    0.000000                        0.0   \nFather of the Bride Part II          0.000000                        0.0   \n\ntitle                        The Burkittsville 7  Caged Heat 3000  Robin Hood  \\\ntitle                                                                           \nToy Story                                    0.0              0.0    0.000000   \nJumanji                                      0.0              0.0    0.000000   \nGrumpier Old Men                             0.0              0.0    0.106819   \nWaiting to Exhale                            0.0              0.0    0.121701   \nFather of the Bride Part II                  0.0              0.0    0.000000   \n\ntitle                        Betrayal  Satan Triumphant  Queerama  \ntitle                                                              \nToy Story                    0.000000               0.0       0.0  \nJumanji                      0.000000               0.0       0.0  \nGrumpier Old Men             0.000000               0.0       0.0  \nWaiting to Exhale            0.037622               0.0       0.0  \nFather of the Bride Part II  0.000000               0.0       0.0  \n\n[5 rows x 32852 columns]",
      "text/html": "<div>\n<style scoped>\n    .dataframe tbody tr th:only-of-type {\n        vertical-align: middle;\n    }\n\n    .dataframe tbody tr th {\n        vertical-align: top;\n    }\n\n    .dataframe thead th {\n        text-align: right;\n    }\n</style>\n<table border=\"1\" class=\"dataframe\">\n  <thead>\n    <tr style=\"text-align: right;\">\n      <th>title</th>\n      <th>Toy Story</th>\n      <th>Jumanji</th>\n      <th>Grumpier Old Men</th>\n      <th>Waiting to Exhale</th>\n      <th>Father of the Bride Part II</th>\n      <th>Heat</th>\n      <th>Sabrina</th>\n      <th>Tom and Huck</th>\n      <th>Sudden Death</th>\n      <th>GoldenEye</th>\n      <th>...</th>\n      <th>Deep Hearts</th>\n      <th>The Morning After</th>\n      <th>House of Horrors</th>\n      <th>Shadow of the Blair Witch</th>\n      <th>The Burkittsville 7</th>\n      <th>Caged Heat 3000</th>\n      <th>Robin Hood</th>\n      <th>Betrayal</th>\n      <th>Satan Triumphant</th>\n      <th>Queerama</th>\n    </tr>\n    <tr>\n      <th>title</th>\n      <th></th>\n      <th></th>\n      <th></th>\n      <th></th>\n      <th></th>\n      <th></th>\n      <th></th>\n      <th></th>\n      <th></th>\n      <th></th>\n      <th></th>\n      <th></th>\n      <th></th>\n      <th></th>\n      <th></th>\n      <th></th>\n      <th></th>\n      <th></th>\n      <th></th>\n      <th></th>\n      <th></th>\n    </tr>\n  </thead>\n  <tbody>\n    <tr>\n      <th>Toy Story</th>\n      <td>1.000000</td>\n      <td>0.041569</td>\n      <td>0.008708</td>\n      <td>0.006937</td>\n      <td>0.005595</td>\n      <td>0.000000</td>\n      <td>0.006456</td>\n      <td>0.059202</td>\n      <td>0.000000</td>\n      <td>0.000000</td>\n      <td>...</td>\n      <td>0.0</td>\n      <td>0.051110</td>\n      <td>0.028298</td>\n      <td>0.0</td>\n      <td>0.0</td>\n      <td>0.0</td>\n      <td>0.000000</td>\n      <td>0.000000</td>\n      <td>0.0</td>\n      <td>0.0</td>\n    </tr>\n    <tr>\n      <th>Jumanji</th>\n      <td>0.041569</td>\n      <td>1.000000</td>\n      <td>0.000000</td>\n      <td>0.065065</td>\n      <td>0.000000</td>\n      <td>0.000000</td>\n      <td>0.000000</td>\n      <td>0.165721</td>\n      <td>0.028302</td>\n      <td>0.011462</td>\n      <td>...</td>\n      <td>0.0</td>\n      <td>0.000000</td>\n      <td>0.039299</td>\n      <td>0.0</td>\n      <td>0.0</td>\n      <td>0.0</td>\n      <td>0.000000</td>\n      <td>0.000000</td>\n      <td>0.0</td>\n      <td>0.0</td>\n    </tr>\n    <tr>\n      <th>Grumpier Old Men</th>\n      <td>0.008708</td>\n      <td>0.000000</td>\n      <td>1.000000</td>\n      <td>0.035846</td>\n      <td>0.010906</td>\n      <td>0.000000</td>\n      <td>0.033363</td>\n      <td>0.000000</td>\n      <td>0.000000</td>\n      <td>0.000000</td>\n      <td>...</td>\n      <td>0.0</td>\n      <td>0.099628</td>\n      <td>0.000000</td>\n      <td>0.0</td>\n      <td>0.0</td>\n      <td>0.0</td>\n      <td>0.106819</td>\n      <td>0.000000</td>\n      <td>0.0</td>\n      <td>0.0</td>\n    </tr>\n    <tr>\n      <th>Waiting to Exhale</th>\n      <td>0.006937</td>\n      <td>0.065065</td>\n      <td>0.035846</td>\n      <td>1.000000</td>\n      <td>0.093741</td>\n      <td>0.003806</td>\n      <td>0.063686</td>\n      <td>0.027484</td>\n      <td>0.000000</td>\n      <td>0.000000</td>\n      <td>...</td>\n      <td>0.0</td>\n      <td>0.135728</td>\n      <td>0.000000</td>\n      <td>0.0</td>\n      <td>0.0</td>\n      <td>0.0</td>\n      <td>0.121701</td>\n      <td>0.037622</td>\n      <td>0.0</td>\n      <td>0.0</td>\n    </tr>\n    <tr>\n      <th>Father of the Bride Part II</th>\n      <td>0.005595</td>\n      <td>0.000000</td>\n      <td>0.010906</td>\n      <td>0.093741</td>\n      <td>1.000000</td>\n      <td>0.000000</td>\n      <td>0.038016</td>\n      <td>0.000000</td>\n      <td>0.000000</td>\n      <td>0.000000</td>\n      <td>...</td>\n      <td>0.0</td>\n      <td>0.064015</td>\n      <td>0.000000</td>\n      <td>0.0</td>\n      <td>0.0</td>\n      <td>0.0</td>\n      <td>0.000000</td>\n      <td>0.000000</td>\n      <td>0.0</td>\n      <td>0.0</td>\n    </tr>\n  </tbody>\n</table>\n<p>5 rows × 32852 columns</p>\n</div>"
     },
     "execution_count": 38,
     "metadata": {},
     "output_type": "execute_result"
    }
   ],
   "source": [
    "cosine_sim_df = pd.DataFrame(cosine_sim, index = movie_data.title, columns = movie_data.title)\n",
    "print(cosine_sim_df.shape)\n",
    "cosine_sim_df.head()"
   ],
   "metadata": {
    "collapsed": false,
    "pycharm": {
     "name": "#%%\n"
    }
   }
  },
  {
   "cell_type": "code",
   "execution_count": 39,
   "outputs": [
    {
     "data": {
      "text/plain": "<AxesSubplot:xlabel='title', ylabel='title'>"
     },
     "execution_count": 39,
     "metadata": {},
     "output_type": "execute_result"
    },
    {
     "data": {
      "text/plain": "<Figure size 432x288 with 2 Axes>",
      "image/png": "[encoded data removed]"
     },
     "metadata": {
      "needs_background": "light"
     },
     "output_type": "display_data"
    }
   ],
   "source": [
    "sns.heatmap(cosine_sim_df[:10])"
   ],
   "metadata": {
    "collapsed": false,
    "pycharm": {
     "name": "#%%\n"
    }
   }
  },
  {
   "cell_type": "code",
   "execution_count": 40,
   "outputs": [],
   "source": [
    "recom_idx = cosine_sim_df.loc[:, 'The Dark Knight Rises'].values.reshape(1,-1).argsort()[:, ::-1].flatten()[1:10+1]"
   ],
   "metadata": {
    "collapsed": false,
    "pycharm": {
     "name": "#%%\n"
    }
   }
  },
  {
   "cell_type": "code",
   "execution_count": 42,
   "outputs": [
    {
     "data": {
      "text/plain": "array([10278, 21061,  8478,  1317,   541, 20905,  4527, 30747, 29701,\n        1169])"
     },
     "execution_count": 42,
     "metadata": {},
     "output_type": "execute_result"
    }
   ],
   "source": [
    "recom_idx"
   ],
   "metadata": {
    "collapsed": false,
    "pycharm": {
     "name": "#%%\n"
    }
   }
  },
  {
   "cell_type": "code",
   "execution_count": 47,
   "outputs": [
    {
     "data": {
      "text/plain": "array([[0.        , 0.        , 0.        , ..., 0.12308614, 0.        ,\n        0.        ]])"
     },
     "execution_count": 47,
     "metadata": {},
     "output_type": "execute_result"
    }
   ],
   "source": [
    "cosine_sim_df.loc[:,'The Dark Knight Rises'].values.reshape(1,-1)# 타깃 영화와 다른 영화들의 유사도 배열을 가져옴"
   ],
   "metadata": {
    "collapsed": false,
    "pycharm": {
     "name": "#%%\n"
    }
   }
  },
  {
   "cell_type": "code",
   "execution_count": 53,
   "outputs": [
    {
     "data": {
      "text/plain": "title\nToy Story                      0.000000\nJumanji                        0.000000\nGrumpier Old Men               0.000000\nWaiting to Exhale              0.007815\nFather of the Bride Part II    0.000000\n                                 ...   \nCaged Heat 3000                0.000000\nRobin Hood                     0.081985\nBetrayal                       0.123086\nSatan Triumphant               0.000000\nQueerama                       0.000000\nName: The Dark Knight Rises, Length: 32852, dtype: float64"
     },
     "execution_count": 53,
     "metadata": {},
     "output_type": "execute_result"
    }
   ],
   "source": [
    "cosine_sim_df.loc[:,'The Dark Knight Rises']"
   ],
   "metadata": {
    "collapsed": false,
    "pycharm": {
     "name": "#%%\n"
    }
   }
  },
  {
   "cell_type": "code",
   "execution_count": 56,
   "outputs": [
    {
     "data": {
      "text/plain": "title\nToy Story                      0.000000\nJumanji                        0.000000\nGrumpier Old Men               0.000000\nWaiting to Exhale              0.007815\nFather of the Bride Part II    0.000000\n                                 ...   \nCaged Heat 3000                0.000000\nRobin Hood                     0.081985\nBetrayal                       0.123086\nSatan Triumphant               0.000000\nQueerama                       0.000000\nName: The Dark Knight Rises, Length: 32852, dtype: float64"
     },
     "execution_count": 56,
     "metadata": {},
     "output_type": "execute_result"
    }
   ],
   "source": [
    "cosine_sim_df.loc[:,'The Dark Knight Rises'].values[18577]"
   ],
   "metadata": {
    "collapsed": false,
    "pycharm": {
     "name": "#%%\n"
    }
   }
  },
  {
   "cell_type": "code",
   "execution_count": 57,
   "outputs": [
    {
     "data": {
      "text/plain": "0.0"
     },
     "execution_count": 57,
     "metadata": {},
     "output_type": "execute_result"
    }
   ],
   "source": [
    "cosine_sim_df.loc[:,'The Dark Knight Rises'].values[18577]"
   ],
   "metadata": {
    "collapsed": false,
    "pycharm": {
     "name": "#%%\n"
    }
   }
  },
  {
   "cell_type": "code",
   "execution_count": 58,
   "outputs": [
    {
     "data": {
      "text/plain": "1.0"
     },
     "execution_count": 58,
     "metadata": {},
     "output_type": "execute_result"
    }
   ],
   "source": [
    "cosine_sim_df.loc[:,'The Dark Knight Rises'].values[14315]\n"
   ],
   "metadata": {
    "collapsed": false,
    "pycharm": {
     "name": "#%%\n"
    }
   }
  },
  {
   "cell_type": "code",
   "execution_count": 60,
   "outputs": [
    {
     "data": {
      "text/plain": "0.171802980736784"
     },
     "execution_count": 60,
     "metadata": {},
     "output_type": "execute_result"
    }
   ],
   "source": [
    "cosine_sim_df.loc[:,'The Dark Knight Rises'].values[13659]\n"
   ],
   "metadata": {
    "collapsed": false,
    "pycharm": {
     "name": "#%%\n"
    }
   }
  },
  {
   "cell_type": "code",
   "execution_count": 51,
   "outputs": [
    {
     "data": {
      "text/plain": "array([[    0, 18577, 18575, ..., 21061, 10278, 14315]])"
     },
     "execution_count": 51,
     "metadata": {},
     "output_type": "execute_result"
    }
   ],
   "source": [
    "cosine_sim_df.loc[:,'The Dark Knight Rises'].values.reshape(1,-1).argsort()"
   ],
   "metadata": {
    "collapsed": false,
    "pycharm": {
     "name": "#%%\n"
    }
   }
  },
  {
   "cell_type": "code",
   "execution_count": 52,
   "outputs": [
    {
     "data": {
      "text/plain": "array([[14315, 10278, 21061, ..., 18575, 18577,     0]])"
     },
     "execution_count": 52,
     "metadata": {},
     "output_type": "execute_result"
    }
   ],
   "source": [
    "cosine_sim_df.loc[:,'The Dark Knight Rises'].values.reshape(1,-1).argsort()[:, ::-1]"
   ],
   "metadata": {
    "collapsed": false,
    "pycharm": {
     "name": "#%%\n"
    }
   }
  },
  {
   "cell_type": "code",
   "execution_count": 88,
   "outputs": [
    {
     "data": {
      "text/plain": "array([14315, 10278, 21061, ..., 18575, 18577,     0])"
     },
     "execution_count": 88,
     "metadata": {},
     "output_type": "execute_result"
    }
   ],
   "source": [
    "cosine_sim_df.loc[:,'The Dark Knight Rises'].values.reshape(1,-1).argsort()[:, ::-1].flatten()"
   ],
   "metadata": {
    "collapsed": false,
    "pycharm": {
     "name": "#%%\n"
    }
   }
  },
  {
   "cell_type": "code",
   "execution_count": 89,
   "outputs": [
    {
     "data": {
      "text/plain": "array([10278, 21061,  8478,  1317,   541, 20905,  4527, 30747, 29701,\n        1169])"
     },
     "execution_count": 89,
     "metadata": {},
     "output_type": "execute_result"
    }
   ],
   "source": [
    "cosine_sim_df.loc[:,'The Dark Knight Rises'].values.reshape(1,-1).argsort()[:, ::-1].flatten()[1:11]"
   ],
   "metadata": {
    "collapsed": false,
    "pycharm": {
     "name": "#%%\n"
    }
   }
  },
  {
   "cell_type": "code",
   "execution_count": 90,
   "outputs": [
    {
     "data": {
      "text/plain": "array(['The Dark Knight', 'The Burglar', 'Batman Begins',\n       'Batman & Robin', 'Batman', 'Raffles', 'Hero at Large',\n       'DC Showcase: Catwoman', 'DC Super Hero Girls: Hero of the Year',\n       'Batman Returns'], dtype=object)"
     },
     "execution_count": 90,
     "metadata": {},
     "output_type": "execute_result"
    }
   ],
   "source": [
    "recom_title = movie_data.iloc[recom_idx, :].title.values\n",
    "recom_title"
   ],
   "metadata": {
    "collapsed": false,
    "pycharm": {
     "name": "#%%\n"
    }
   }
  },
  {
   "cell_type": "code",
   "execution_count": null,
   "outputs": [],
   "source": [
    "def genre_recommendations(target_title, matrix, items, k=10):\n",
    "    recom_idx = matrix.loc[:, target_title].values.reshape(1, -1).argsort()[:, ::-1].flatten()[1:k+1]#타깃 영화와 다른 영화의 유사도를 가져옴, 유사도가 높은것부터 나열, 자기 자신은 1이니까 제일높으므로 자기를 빼고 k개 만큼 가져옴\n",
    "    recom_title = items.iloc[recom_idx, :].title.values# 추천 목록에서 데이터 정보를 가저옴\n",
    "    recom_genre = items.iloc[recom_idx, :].genres.values# 추천 목록에서 데이터 정보를 가저옴\n",
    "    target_title_list = np.full(len(range(k)), target_title)# 단순 반복 및 채움\n",
    "    target_genre_list = np.full(len(range(k)), items[items.title == target_title].genres.values)# 단순 반복 및 채움\n",
    "    d = {\n",
    "        'target_title':target_title_list,\n",
    "        'target_genre':target_genre_list,\n",
    "        'recom_title' : recom_title,\n",
    "        'recom_genre' : recom_genre\n",
    "    }\n",
    "    return pd.DataFrame(d)"
   ],
   "metadata": {
    "collapsed": false,
    "pycharm": {
     "name": "#%%\n"
    }
   }
  }
 ],
 "metadata": {
  "kernelspec": {
   "display_name": "Python 3",
   "language": "python",
   "name": "python3"
  },
  "language_info": {
   "codemirror_mode": {
    "name": "ipython",
    "version": 2
   },
   "file_extension": ".py",
   "mimetype": "text/x-python",
   "name": "python",
   "nbconvert_exporter": "python",
   "pygments_lexer": "ipython2",
   "version": "2.7.6"
  }
 },
 "nbformat": 4,
 "nbformat_minor": 0
}